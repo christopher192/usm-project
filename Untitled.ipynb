{
 "cells": [
  {
   "cell_type": "code",
   "execution_count": 2,
   "id": "0b424103",
   "metadata": {},
   "outputs": [],
   "source": [
    "import pandas as pd\n",
    "import numpy as np\n",
    "import matplotlib.pyplot as plt\n",
    "import seaborn as sns\n",
    "from sklearn.linear_model import LinearRegression, Lasso, Ridge, BayesianRidge\n",
    "from sklearn.metrics import mean_squared_error, r2_score, mean_absolute_error, make_scorer\n",
    "from sklearn.tree import DecisionTreeRegressor\n",
    "from sklearn.svm import SVR\n",
    "from sklearn.neighbors import KNeighborsRegressor\n",
    "from sklearn.ensemble import BaggingRegressor, AdaBoostRegressor, VotingRegressor, StackingRegressor, RandomForestRegressor\n",
    "from sklearn.model_selection import GridSearchCV, cross_val_score, train_test_split, cross_validate\n",
    "from sklearn.preprocessing import MinMaxScaler"
   ]
  },
  {
   "cell_type": "code",
   "execution_count": 3,
   "id": "fa698c96",
   "metadata": {},
   "outputs": [],
   "source": [
    "df_train_fd001 = pd.read_csv('data/train_fd001_with_rul.csv')\n",
    "df_test_fd001 = pd.read_csv('data/test_fd001_with_rul.csv')"
   ]
  },
  {
   "cell_type": "code",
   "execution_count": 4,
   "id": "2863e667",
   "metadata": {},
   "outputs": [],
   "source": [
    "index_names =  ['unit_number', 'time_cycles']\n",
    "# setting_names = ['setting_1', 'setting_2', 'setting_3']\n",
    "# drop_sensors = ['sensor_1','sensor_5','sensor_6','sensor_10','sensor_16','sensor_18','sensor_19']\n",
    "target = [\"rul\"]\n",
    "drop_labels = index_names + target"
   ]
  },
  {
   "cell_type": "code",
   "execution_count": 5,
   "id": "e1110286",
   "metadata": {},
   "outputs": [],
   "source": [
    "x_train = df_train_fd001.drop(drop_labels, axis = 1)\n",
    "y_train = df_train_fd001[\"rul\"]\n",
    "\n",
    "y_train = y_train.clip(upper = 125)"
   ]
  },
  {
   "cell_type": "code",
   "execution_count": 6,
   "id": "4e66a8f6",
   "metadata": {},
   "outputs": [],
   "source": [
    "test = df_test_fd001.groupby('unit_number').last().reset_index()\n",
    "x_test = test.drop(drop_labels, axis = 1)\n",
    "y_test = test[\"rul\"]\n",
    "\n",
    "y_test = y_test.clip(upper = 125)"
   ]
  },
  {
   "cell_type": "code",
   "execution_count": 7,
   "id": "e61a3bca",
   "metadata": {},
   "outputs": [],
   "source": [
    "scaler = MinMaxScaler()\n",
    "scaler.fit(x_train)\n",
    "\n",
    "x_train_scaled = scaler.transform(x_train)\n",
    "x_test_scaled = scaler.transform(x_test)"
   ]
  },
  {
   "cell_type": "markdown",
   "id": "378fd731",
   "metadata": {},
   "source": [
    "### Experiment Set 1: Comparing machine learning algorithms"
   ]
  },
  {
   "cell_type": "code",
   "execution_count": 8,
   "id": "c3986498",
   "metadata": {},
   "outputs": [],
   "source": [
    "def evaluate(y_true, y_pred, label = ''):\n",
    "    # MAE\n",
    "    mae = mean_absolute_error(y_true, y_pred)\n",
    "    # RMSE\n",
    "    mse = mean_squared_error(y_true, y_pred)\n",
    "    rmse = np.sqrt(mse)\n",
    "    # R Squared\n",
    "    variance = r2_score(y_true, y_pred)\n",
    " \n",
    "    print('{} set - MAE: {}, RMSE: {}, R2: {}'.format(label, mae, rmse, variance))\n",
    "    \n",
    "    return { 'label': label, 'mae': mae, 'rmse': rmse, 'r2': variance}"
   ]
  },
  {
   "cell_type": "code",
   "execution_count": 24,
   "id": "01dbe73e",
   "metadata": {},
   "outputs": [
    {
     "name": "stdout",
     "output_type": "stream",
     "text": [
      "train set - MAE: 0.0, RMSE: 0.0, R2: 1.0\n",
      "test set - MAE: 20.28, RMSE: 26.21449980449751, R2: 0.5720693021061825\n"
     ]
    },
    {
     "data": {
      "text/plain": [
       "{'label': 'test',\n",
       " 'mae': 20.28,\n",
       " 'rmse': 26.21449980449751,\n",
       " 'r2': 0.5720693021061825}"
      ]
     },
     "execution_count": 24,
     "metadata": {},
     "output_type": "execute_result"
    }
   ],
   "source": [
    "### Decision tree regression\n",
    "\n",
    "dt_regressor = DecisionTreeRegressor()\n",
    "dt_regressor.fit(x_train, y_train)\n",
    "\n",
    "y_pred_train = dt_regressor.predict(x_train)\n",
    "evaluate(y_train, y_pred_train, 'train')\n",
    "\n",
    "y_pred_test = dt_regressor.predict(x_test)\n",
    "evaluate(y_test, y_pred_test, 'test')"
   ]
  },
  {
   "cell_type": "code",
   "execution_count": 9,
   "id": "4799b80a",
   "metadata": {},
   "outputs": [
    {
     "name": "stdout",
     "output_type": "stream",
     "text": [
      "train set - MAE: 0.0, RMSE: 0.0, R2: 1.0\n",
      "test set - MAE: 20.19, RMSE: 27.265546024240923, R2: 0.5370664142589597\n"
     ]
    }
   ],
   "source": [
    "### Decision tree regression\n",
    "\n",
    "dt_regressor = DecisionTreeRegressor()\n",
    "dt_regressor.fit(x_train_scaled, y_train)\n",
    "\n",
    "y_pred_train = dt_regressor.predict(x_train_scaled)\n",
    "evaluate(y_train, y_pred_train, 'train')\n",
    "\n",
    "y_pred_test = dt_regressor.predict(x_test_scaled)\n",
    "evaluate(y_test, y_pred_test, 'test')"
   ]
  },
  {
   "cell_type": "code",
   "execution_count": 10,
   "id": "a56f80d8",
   "metadata": {},
   "outputs": [
    {
     "name": "stdout",
     "output_type": "stream",
     "text": [
      "train set - MAE: 17.556207830698224, RMSE: 21.468325520200214, R2: 0.7346046578123867\n",
      "test set - MAE: 16.56873644302483, RMSE: 20.83045241899899, R2: 0.7297985369402016\n"
     ]
    }
   ],
   "source": [
    "### Linear regression\n",
    "\n",
    "lm = LinearRegression()\n",
    "lm.fit(x_train, y_train)\n",
    "\n",
    "y_pred_train = lm.predict(x_train)\n",
    "evaluate(y_train, y_pred_train, 'train')\n",
    "\n",
    "y_pred_test = lm.predict(x_test)\n",
    "evaluate(y_test, y_pred_test, 'test')"
   ]
  },
  {
   "cell_type": "code",
   "execution_count": 11,
   "id": "14f59d4b",
   "metadata": {},
   "outputs": [
    {
     "name": "stdout",
     "output_type": "stream",
     "text": [
      "train set - MAE: 17.55620783069864, RMSE: 21.468325520200416, R2: 0.7346046578123817\n",
      "test set - MAE: 16.56873644302445, RMSE: 20.830452418998043, R2: 0.7297985369402261\n"
     ]
    }
   ],
   "source": [
    "### Linear regression\n",
    "\n",
    "lm = LinearRegression()\n",
    "lm.fit(x_train_scaled, y_train)\n",
    "\n",
    "y_pred_train = lm.predict(x_train_scaled)\n",
    "evaluate(y_train, y_pred_train, 'train')\n",
    "\n",
    "y_pred_test = lm.predict(x_test_scaled)\n",
    "evaluate(y_test, y_pred_test, 'test')"
   ]
  },
  {
   "cell_type": "code",
   "execution_count": 12,
   "id": "1e27ca8c",
   "metadata": {},
   "outputs": [
    {
     "name": "stdout",
     "output_type": "stream",
     "text": [
      "train set - MAE: 18.199130447391227, RMSE: 22.275622979259197, R2: 0.7142694544426023\n",
      "test set - MAE: 18.346068176190283, RMSE: 22.544121918687434, R2: 0.6835122243369125\n"
     ]
    }
   ],
   "source": [
    "### Lasso regression\n",
    "\n",
    "lasso = Lasso()\n",
    "lasso.fit(x_train, y_train)\n",
    "\n",
    "y_pred_train = lasso.predict(x_train)\n",
    "evaluate(y_train, y_pred_train, 'train')\n",
    "\n",
    "y_pred_test = lasso.predict(x_test)\n",
    "evaluate(y_test, y_pred_test, 'test')"
   ]
  },
  {
   "cell_type": "code",
   "execution_count": 13,
   "id": "fe78b0eb",
   "metadata": {},
   "outputs": [
    {
     "name": "stdout",
     "output_type": "stream",
     "text": [
      "train set - MAE: 20.683910107419383, RMSE: 24.467312702040964, R2: 0.6552776054180337\n",
      "test set - MAE: 20.550098420754153, RMSE: 24.071326877399574, R2: 0.6391802078075437\n"
     ]
    }
   ],
   "source": [
    "### Lasso regression\n",
    "\n",
    "lasso = Lasso()\n",
    "lasso.fit(x_train_scaled, y_train)\n",
    "\n",
    "y_pred_train = lasso.predict(x_train_scaled)\n",
    "evaluate(y_train, y_pred_train, 'train')\n",
    "\n",
    "y_pred_test = lasso.predict(x_test_scaled)\n",
    "evaluate(y_test, y_pred_test, 'test')"
   ]
  },
  {
   "cell_type": "code",
   "execution_count": 14,
   "id": "4ad08e99",
   "metadata": {},
   "outputs": [
    {
     "name": "stdout",
     "output_type": "stream",
     "text": [
      "train set - MAE: 17.588114545133624, RMSE: 21.490134634490907, R2: 0.7340651674545624\n",
      "test set - MAE: 16.605640060629668, RMSE: 20.811634561438304, R2: 0.7302865067517381\n"
     ]
    }
   ],
   "source": [
    "### Ridge regression\n",
    "\n",
    "ridge = Ridge()\n",
    "ridge.fit(x_train, y_train)\n",
    "\n",
    "y_pred_train = ridge.predict(x_train)\n",
    "evaluate(y_train, y_pred_train, 'train')\n",
    "\n",
    "y_pred_test = ridge.predict(x_test)\n",
    "evaluate(y_test, y_pred_test, 'test')"
   ]
  },
  {
   "cell_type": "code",
   "execution_count": 15,
   "id": "b0932a4c",
   "metadata": {},
   "outputs": [
    {
     "name": "stdout",
     "output_type": "stream",
     "text": [
      "train set - MAE: 17.556410899296328, RMSE: 21.4683732129695, R2: 0.7346034786377118\n",
      "test set - MAE: 16.56478227313438, RMSE: 20.82460206085889, R2: 0.7299502910463482\n"
     ]
    }
   ],
   "source": [
    "### Ridge regression\n",
    "\n",
    "ridge = Ridge()\n",
    "ridge.fit(x_train_scaled, y_train)\n",
    "\n",
    "y_pred_train = ridge.predict(x_train_scaled)\n",
    "evaluate(y_train, y_pred_train, 'train')\n",
    "\n",
    "y_pred_test = ridge.predict(x_test_scaled)\n",
    "evaluate(y_test, y_pred_test, 'test')"
   ]
  },
  {
   "cell_type": "code",
   "execution_count": 16,
   "id": "aa913399",
   "metadata": {},
   "outputs": [
    {
     "name": "stdout",
     "output_type": "stream",
     "text": [
      "train set - MAE: 40.46440028808841, RMSE: 50.53294493441891, R2: -0.47043614659774335\n",
      "test set - MAE: 42.20551250130502, RMSE: 52.95307904008474, R2: -0.7461145330019205\n"
     ]
    }
   ],
   "source": [
    "### SVM regression\n",
    "\n",
    "regressor = SVR(kernel = 'linear')\n",
    "regressor.fit(x_train, y_train)\n",
    "\n",
    "y_pred_train = regressor.predict(x_train)\n",
    "evaluate(y_train, y_pred_train, 'train')\n",
    "\n",
    "y_pred_test = regressor.predict(x_test)\n",
    "evaluate(y_test, y_pred_test, 'test')"
   ]
  },
  {
   "cell_type": "code",
   "execution_count": 17,
   "id": "f0c31b25",
   "metadata": {},
   "outputs": [
    {
     "name": "stdout",
     "output_type": "stream",
     "text": [
      "train set - MAE: 17.52291774871658, RMSE: 21.55202918033055, R2: 0.7325311036271246\n",
      "test set - MAE: 16.148181298376162, RMSE: 20.389718132213673, R2: 0.7411115141746607\n"
     ]
    }
   ],
   "source": [
    "### SVM regression\n",
    "\n",
    "regressor = SVR(kernel = 'linear')\n",
    "regressor.fit(x_train_scaled, y_train)\n",
    "\n",
    "y_pred_train = regressor.predict(x_train_scaled)\n",
    "evaluate(y_train, y_pred_train, 'train')\n",
    "\n",
    "y_pred_test = regressor.predict(x_test_scaled)\n",
    "evaluate(y_test, y_pred_test, 'test')"
   ]
  },
  {
   "cell_type": "code",
   "execution_count": 18,
   "id": "688140a8",
   "metadata": {},
   "outputs": [
    {
     "name": "stdout",
     "output_type": "stream",
     "text": [
      "train set - MAE: 12.811128883718677, RMSE: 18.12939954108852, R2: 0.8107378395480288\n",
      "test set - MAE: 15.825999999999999, RMSE: 21.319390235182617, R2: 0.7169651917110222\n"
     ]
    }
   ],
   "source": [
    "### KNN regression\n",
    "\n",
    "neigh = KNeighborsRegressor()\n",
    "neigh.fit(x_train, y_train)\n",
    "\n",
    "y_pred_train = neigh.predict(x_train)\n",
    "evaluate(y_train, y_pred_train, 'train')\n",
    "\n",
    "y_pred_test = neigh.predict(x_test)\n",
    "evaluate(y_test, y_pred_test, 'test')"
   ]
  },
  {
   "cell_type": "code",
   "execution_count": 19,
   "id": "33ff54e8",
   "metadata": {},
   "outputs": [
    {
     "name": "stdout",
     "output_type": "stream",
     "text": [
      "train set - MAE: 11.71491444912995, RMSE: 16.684766401932727, R2: 0.839698637327521\n",
      "test set - MAE: 14.468000000000002, RMSE: 20.170235496889966, R2: 0.7466550633847437\n"
     ]
    }
   ],
   "source": [
    "### KNN regression\n",
    "\n",
    "neigh = KNeighborsRegressor()\n",
    "neigh.fit(x_train_scaled, y_train)\n",
    "\n",
    "y_pred_train = neigh.predict(x_train_scaled)\n",
    "evaluate(y_train, y_pred_train, 'train')\n",
    "\n",
    "y_pred_test = neigh.predict(x_test_scaled)\n",
    "evaluate(y_test, y_pred_test, 'test')"
   ]
  },
  {
   "cell_type": "code",
   "execution_count": 20,
   "id": "71630463",
   "metadata": {},
   "outputs": [
    {
     "name": "stdout",
     "output_type": "stream",
     "text": [
      "train set - MAE: 4.936506713198585, RMSE: 6.85165327568097, R2: 0.9729674068513569\n",
      "test set - MAE: 12.260700000000002, RMSE: 17.329780177486384, R2: 0.8129850183779173\n"
     ]
    }
   ],
   "source": [
    "### Random forest regression\n",
    "\n",
    "regr = RandomForestRegressor()\n",
    "regr.fit(x_train, y_train)\n",
    "\n",
    "y_pred_train = regr.predict(x_train)\n",
    "evaluate(y_train, y_pred_train, 'train')\n",
    "\n",
    "y_pred_test = regr.predict(x_test)\n",
    "evaluate(y_test, y_pred_test, 'test')"
   ]
  },
  {
   "cell_type": "code",
   "execution_count": 21,
   "id": "d3d09a20",
   "metadata": {},
   "outputs": [
    {
     "name": "stdout",
     "output_type": "stream",
     "text": [
      "train set - MAE: 4.947358344239252, RMSE: 6.866586097810948, R2: 0.9728494461837641\n",
      "test set - MAE: 12.1334, RMSE: 17.09894423641413, R2: 0.8179339864590323\n"
     ]
    }
   ],
   "source": [
    "### Random forest regression\n",
    "\n",
    "regr = RandomForestRegressor()\n",
    "regr.fit(x_train_scaled, y_train)\n",
    "\n",
    "y_pred_train = regr.predict(x_train_scaled)\n",
    "evaluate(y_train, y_pred_train, 'train')\n",
    "\n",
    "y_pred_test = regr.predict(x_test_scaled)\n",
    "evaluate(y_test, y_pred_test, 'test')"
   ]
  },
  {
   "cell_type": "code",
   "execution_count": 22,
   "id": "a7172328",
   "metadata": {},
   "outputs": [
    {
     "name": "stdout",
     "output_type": "stream",
     "text": [
      "train set - MAE: 17.58611651558171, RMSE: 21.488842239738755, R2: 0.7340971525912936\n",
      "test set - MAE: 16.60429421216977, RMSE: 20.815597461114727, R2: 0.7301837806275014\n"
     ]
    }
   ],
   "source": [
    "### Bayesian ridge regression\n",
    "\n",
    "clf = BayesianRidge()\n",
    "clf.fit(x_train, y_train)\n",
    "\n",
    "y_pred_train = clf.predict(x_train)\n",
    "evaluate(y_train, y_pred_train, 'train')\n",
    "\n",
    "y_pred_test = clf.predict(x_test)\n",
    "evaluate(y_test, y_pred_test, 'test')"
   ]
  },
  {
   "cell_type": "code",
   "execution_count": 23,
   "id": "312fd0ed",
   "metadata": {},
   "outputs": [
    {
     "name": "stdout",
     "output_type": "stream",
     "text": [
      "train set - MAE: 17.556325024506652, RMSE: 21.468346882919988, R2: 0.7346041296324743\n",
      "test set - MAE: 16.56599158648626, RMSE: 20.82644714688442, R2: 0.7299024354363169\n"
     ]
    }
   ],
   "source": [
    "### Bayesian ridge regression\n",
    "\n",
    "clf = BayesianRidge()\n",
    "clf.fit(x_train_scaled, y_train)\n",
    "\n",
    "y_pred_train = clf.predict(x_train_scaled)\n",
    "evaluate(y_train, y_pred_train, 'train')\n",
    "\n",
    "y_pred_test = clf.predict(x_test_scaled)\n",
    "evaluate(y_test, y_pred_test, 'test')"
   ]
  },
  {
   "cell_type": "markdown",
   "id": "2e906ab9",
   "metadata": {},
   "source": [
    "### Find Best Parameter For Selected Algorithms\n",
    "Linear regression will be skipped for finding best parameters as there ar not parameters we can fine tuning."
   ]
  },
  {
   "cell_type": "code",
   "execution_count": 8,
   "id": "69deabca",
   "metadata": {},
   "outputs": [
    {
     "data": {
      "text/html": [
       "<style>#sk-container-id-1 {color: black;background-color: white;}#sk-container-id-1 pre{padding: 0;}#sk-container-id-1 div.sk-toggleable {background-color: white;}#sk-container-id-1 label.sk-toggleable__label {cursor: pointer;display: block;width: 100%;margin-bottom: 0;padding: 0.3em;box-sizing: border-box;text-align: center;}#sk-container-id-1 label.sk-toggleable__label-arrow:before {content: \"▸\";float: left;margin-right: 0.25em;color: #696969;}#sk-container-id-1 label.sk-toggleable__label-arrow:hover:before {color: black;}#sk-container-id-1 div.sk-estimator:hover label.sk-toggleable__label-arrow:before {color: black;}#sk-container-id-1 div.sk-toggleable__content {max-height: 0;max-width: 0;overflow: hidden;text-align: left;background-color: #f0f8ff;}#sk-container-id-1 div.sk-toggleable__content pre {margin: 0.2em;color: black;border-radius: 0.25em;background-color: #f0f8ff;}#sk-container-id-1 input.sk-toggleable__control:checked~div.sk-toggleable__content {max-height: 200px;max-width: 100%;overflow: auto;}#sk-container-id-1 input.sk-toggleable__control:checked~label.sk-toggleable__label-arrow:before {content: \"▾\";}#sk-container-id-1 div.sk-estimator input.sk-toggleable__control:checked~label.sk-toggleable__label {background-color: #d4ebff;}#sk-container-id-1 div.sk-label input.sk-toggleable__control:checked~label.sk-toggleable__label {background-color: #d4ebff;}#sk-container-id-1 input.sk-hidden--visually {border: 0;clip: rect(1px 1px 1px 1px);clip: rect(1px, 1px, 1px, 1px);height: 1px;margin: -1px;overflow: hidden;padding: 0;position: absolute;width: 1px;}#sk-container-id-1 div.sk-estimator {font-family: monospace;background-color: #f0f8ff;border: 1px dotted black;border-radius: 0.25em;box-sizing: border-box;margin-bottom: 0.5em;}#sk-container-id-1 div.sk-estimator:hover {background-color: #d4ebff;}#sk-container-id-1 div.sk-parallel-item::after {content: \"\";width: 100%;border-bottom: 1px solid gray;flex-grow: 1;}#sk-container-id-1 div.sk-label:hover label.sk-toggleable__label {background-color: #d4ebff;}#sk-container-id-1 div.sk-serial::before {content: \"\";position: absolute;border-left: 1px solid gray;box-sizing: border-box;top: 0;bottom: 0;left: 50%;z-index: 0;}#sk-container-id-1 div.sk-serial {display: flex;flex-direction: column;align-items: center;background-color: white;padding-right: 0.2em;padding-left: 0.2em;position: relative;}#sk-container-id-1 div.sk-item {position: relative;z-index: 1;}#sk-container-id-1 div.sk-parallel {display: flex;align-items: stretch;justify-content: center;background-color: white;position: relative;}#sk-container-id-1 div.sk-item::before, #sk-container-id-1 div.sk-parallel-item::before {content: \"\";position: absolute;border-left: 1px solid gray;box-sizing: border-box;top: 0;bottom: 0;left: 50%;z-index: -1;}#sk-container-id-1 div.sk-parallel-item {display: flex;flex-direction: column;z-index: 1;position: relative;background-color: white;}#sk-container-id-1 div.sk-parallel-item:first-child::after {align-self: flex-end;width: 50%;}#sk-container-id-1 div.sk-parallel-item:last-child::after {align-self: flex-start;width: 50%;}#sk-container-id-1 div.sk-parallel-item:only-child::after {width: 0;}#sk-container-id-1 div.sk-dashed-wrapped {border: 1px dashed gray;margin: 0 0.4em 0.5em 0.4em;box-sizing: border-box;padding-bottom: 0.4em;background-color: white;}#sk-container-id-1 div.sk-label label {font-family: monospace;font-weight: bold;display: inline-block;line-height: 1.2em;}#sk-container-id-1 div.sk-label-container {text-align: center;}#sk-container-id-1 div.sk-container {/* jupyter's `normalize.less` sets `[hidden] { display: none; }` but bootstrap.min.css set `[hidden] { display: none !important; }` so we also need the `!important` here to be able to override the default hidden behavior on the sphinx rendered scikit-learn.org. See: https://github.com/scikit-learn/scikit-learn/issues/21755 */display: inline-block !important;position: relative;}#sk-container-id-1 div.sk-text-repr-fallback {display: none;}</style><div id=\"sk-container-id-1\" class=\"sk-top-container\"><div class=\"sk-text-repr-fallback\"><pre>GridSearchCV(cv=5, estimator=KNeighborsRegressor(),\n",
       "             param_grid={&#x27;n_neighbors&#x27;: [3, 5, 7], &#x27;p&#x27;: [1, 3],\n",
       "                         &#x27;weights&#x27;: [&#x27;uniform&#x27;, &#x27;distance&#x27;]})</pre><b>In a Jupyter environment, please rerun this cell to show the HTML representation or trust the notebook. <br />On GitHub, the HTML representation is unable to render, please try loading this page with nbviewer.org.</b></div><div class=\"sk-container\" hidden><div class=\"sk-item sk-dashed-wrapped\"><div class=\"sk-label-container\"><div class=\"sk-label sk-toggleable\"><input class=\"sk-toggleable__control sk-hidden--visually\" id=\"sk-estimator-id-1\" type=\"checkbox\" ><label for=\"sk-estimator-id-1\" class=\"sk-toggleable__label sk-toggleable__label-arrow\">GridSearchCV</label><div class=\"sk-toggleable__content\"><pre>GridSearchCV(cv=5, estimator=KNeighborsRegressor(),\n",
       "             param_grid={&#x27;n_neighbors&#x27;: [3, 5, 7], &#x27;p&#x27;: [1, 3],\n",
       "                         &#x27;weights&#x27;: [&#x27;uniform&#x27;, &#x27;distance&#x27;]})</pre></div></div></div><div class=\"sk-parallel\"><div class=\"sk-parallel-item\"><div class=\"sk-item\"><div class=\"sk-label-container\"><div class=\"sk-label sk-toggleable\"><input class=\"sk-toggleable__control sk-hidden--visually\" id=\"sk-estimator-id-2\" type=\"checkbox\" ><label for=\"sk-estimator-id-2\" class=\"sk-toggleable__label sk-toggleable__label-arrow\">estimator: KNeighborsRegressor</label><div class=\"sk-toggleable__content\"><pre>KNeighborsRegressor()</pre></div></div></div><div class=\"sk-serial\"><div class=\"sk-item\"><div class=\"sk-estimator sk-toggleable\"><input class=\"sk-toggleable__control sk-hidden--visually\" id=\"sk-estimator-id-3\" type=\"checkbox\" ><label for=\"sk-estimator-id-3\" class=\"sk-toggleable__label sk-toggleable__label-arrow\">KNeighborsRegressor</label><div class=\"sk-toggleable__content\"><pre>KNeighborsRegressor()</pre></div></div></div></div></div></div></div></div></div></div>"
      ],
      "text/plain": [
       "GridSearchCV(cv=5, estimator=KNeighborsRegressor(),\n",
       "             param_grid={'n_neighbors': [3, 5, 7], 'p': [1, 3],\n",
       "                         'weights': ['uniform', 'distance']})"
      ]
     },
     "execution_count": 8,
     "metadata": {},
     "output_type": "execute_result"
    }
   ],
   "source": [
    "### KNN Regressor\n",
    "\n",
    "param_grid = {\n",
    "    'n_neighbors': [3, 5, 7],\n",
    "    'weights': ['uniform', 'distance'],\n",
    "    'p': [1, 3]\n",
    "}\n",
    "\n",
    "knn = KNeighborsRegressor()\n",
    "\n",
    "grid_search = GridSearchCV(estimator = knn, param_grid = param_grid, cv = 5)\n",
    "grid_search.fit(x_train_scaled, y_train)"
   ]
  },
  {
   "cell_type": "code",
   "execution_count": 9,
   "id": "c1ed913e",
   "metadata": {},
   "outputs": [
    {
     "name": "stdout",
     "output_type": "stream",
     "text": [
      "Best parameters: {'n_neighbors': 7, 'p': 1, 'weights': 'distance'}\n"
     ]
    }
   ],
   "source": [
    "best_params = grid_search.best_params_\n",
    "\n",
    "print(\"Best parameters:\", best_params)"
   ]
  },
  {
   "cell_type": "code",
   "execution_count": 25,
   "id": "77825dc4",
   "metadata": {},
   "outputs": [
    {
     "data": {
      "text/html": [
       "<style>#sk-container-id-7 {color: black;background-color: white;}#sk-container-id-7 pre{padding: 0;}#sk-container-id-7 div.sk-toggleable {background-color: white;}#sk-container-id-7 label.sk-toggleable__label {cursor: pointer;display: block;width: 100%;margin-bottom: 0;padding: 0.3em;box-sizing: border-box;text-align: center;}#sk-container-id-7 label.sk-toggleable__label-arrow:before {content: \"▸\";float: left;margin-right: 0.25em;color: #696969;}#sk-container-id-7 label.sk-toggleable__label-arrow:hover:before {color: black;}#sk-container-id-7 div.sk-estimator:hover label.sk-toggleable__label-arrow:before {color: black;}#sk-container-id-7 div.sk-toggleable__content {max-height: 0;max-width: 0;overflow: hidden;text-align: left;background-color: #f0f8ff;}#sk-container-id-7 div.sk-toggleable__content pre {margin: 0.2em;color: black;border-radius: 0.25em;background-color: #f0f8ff;}#sk-container-id-7 input.sk-toggleable__control:checked~div.sk-toggleable__content {max-height: 200px;max-width: 100%;overflow: auto;}#sk-container-id-7 input.sk-toggleable__control:checked~label.sk-toggleable__label-arrow:before {content: \"▾\";}#sk-container-id-7 div.sk-estimator input.sk-toggleable__control:checked~label.sk-toggleable__label {background-color: #d4ebff;}#sk-container-id-7 div.sk-label input.sk-toggleable__control:checked~label.sk-toggleable__label {background-color: #d4ebff;}#sk-container-id-7 input.sk-hidden--visually {border: 0;clip: rect(1px 1px 1px 1px);clip: rect(1px, 1px, 1px, 1px);height: 1px;margin: -1px;overflow: hidden;padding: 0;position: absolute;width: 1px;}#sk-container-id-7 div.sk-estimator {font-family: monospace;background-color: #f0f8ff;border: 1px dotted black;border-radius: 0.25em;box-sizing: border-box;margin-bottom: 0.5em;}#sk-container-id-7 div.sk-estimator:hover {background-color: #d4ebff;}#sk-container-id-7 div.sk-parallel-item::after {content: \"\";width: 100%;border-bottom: 1px solid gray;flex-grow: 1;}#sk-container-id-7 div.sk-label:hover label.sk-toggleable__label {background-color: #d4ebff;}#sk-container-id-7 div.sk-serial::before {content: \"\";position: absolute;border-left: 1px solid gray;box-sizing: border-box;top: 0;bottom: 0;left: 50%;z-index: 0;}#sk-container-id-7 div.sk-serial {display: flex;flex-direction: column;align-items: center;background-color: white;padding-right: 0.2em;padding-left: 0.2em;position: relative;}#sk-container-id-7 div.sk-item {position: relative;z-index: 1;}#sk-container-id-7 div.sk-parallel {display: flex;align-items: stretch;justify-content: center;background-color: white;position: relative;}#sk-container-id-7 div.sk-item::before, #sk-container-id-7 div.sk-parallel-item::before {content: \"\";position: absolute;border-left: 1px solid gray;box-sizing: border-box;top: 0;bottom: 0;left: 50%;z-index: -1;}#sk-container-id-7 div.sk-parallel-item {display: flex;flex-direction: column;z-index: 1;position: relative;background-color: white;}#sk-container-id-7 div.sk-parallel-item:first-child::after {align-self: flex-end;width: 50%;}#sk-container-id-7 div.sk-parallel-item:last-child::after {align-self: flex-start;width: 50%;}#sk-container-id-7 div.sk-parallel-item:only-child::after {width: 0;}#sk-container-id-7 div.sk-dashed-wrapped {border: 1px dashed gray;margin: 0 0.4em 0.5em 0.4em;box-sizing: border-box;padding-bottom: 0.4em;background-color: white;}#sk-container-id-7 div.sk-label label {font-family: monospace;font-weight: bold;display: inline-block;line-height: 1.2em;}#sk-container-id-7 div.sk-label-container {text-align: center;}#sk-container-id-7 div.sk-container {/* jupyter's `normalize.less` sets `[hidden] { display: none; }` but bootstrap.min.css set `[hidden] { display: none !important; }` so we also need the `!important` here to be able to override the default hidden behavior on the sphinx rendered scikit-learn.org. See: https://github.com/scikit-learn/scikit-learn/issues/21755 */display: inline-block !important;position: relative;}#sk-container-id-7 div.sk-text-repr-fallback {display: none;}</style><div id=\"sk-container-id-7\" class=\"sk-top-container\"><div class=\"sk-text-repr-fallback\"><pre>GridSearchCV(cv=5, estimator=DecisionTreeRegressor(),\n",
       "             param_grid={&#x27;max_depth&#x27;: [None, 5, 10],\n",
       "                         &#x27;max_features&#x27;: [1.0, None],\n",
       "                         &#x27;min_samples_leaf&#x27;: [1, 2, 4],\n",
       "                         &#x27;min_samples_split&#x27;: [2, 5, 10]})</pre><b>In a Jupyter environment, please rerun this cell to show the HTML representation or trust the notebook. <br />On GitHub, the HTML representation is unable to render, please try loading this page with nbviewer.org.</b></div><div class=\"sk-container\" hidden><div class=\"sk-item sk-dashed-wrapped\"><div class=\"sk-label-container\"><div class=\"sk-label sk-toggleable\"><input class=\"sk-toggleable__control sk-hidden--visually\" id=\"sk-estimator-id-19\" type=\"checkbox\" ><label for=\"sk-estimator-id-19\" class=\"sk-toggleable__label sk-toggleable__label-arrow\">GridSearchCV</label><div class=\"sk-toggleable__content\"><pre>GridSearchCV(cv=5, estimator=DecisionTreeRegressor(),\n",
       "             param_grid={&#x27;max_depth&#x27;: [None, 5, 10],\n",
       "                         &#x27;max_features&#x27;: [1.0, None],\n",
       "                         &#x27;min_samples_leaf&#x27;: [1, 2, 4],\n",
       "                         &#x27;min_samples_split&#x27;: [2, 5, 10]})</pre></div></div></div><div class=\"sk-parallel\"><div class=\"sk-parallel-item\"><div class=\"sk-item\"><div class=\"sk-label-container\"><div class=\"sk-label sk-toggleable\"><input class=\"sk-toggleable__control sk-hidden--visually\" id=\"sk-estimator-id-20\" type=\"checkbox\" ><label for=\"sk-estimator-id-20\" class=\"sk-toggleable__label sk-toggleable__label-arrow\">estimator: DecisionTreeRegressor</label><div class=\"sk-toggleable__content\"><pre>DecisionTreeRegressor()</pre></div></div></div><div class=\"sk-serial\"><div class=\"sk-item\"><div class=\"sk-estimator sk-toggleable\"><input class=\"sk-toggleable__control sk-hidden--visually\" id=\"sk-estimator-id-21\" type=\"checkbox\" ><label for=\"sk-estimator-id-21\" class=\"sk-toggleable__label sk-toggleable__label-arrow\">DecisionTreeRegressor</label><div class=\"sk-toggleable__content\"><pre>DecisionTreeRegressor()</pre></div></div></div></div></div></div></div></div></div></div>"
      ],
      "text/plain": [
       "GridSearchCV(cv=5, estimator=DecisionTreeRegressor(),\n",
       "             param_grid={'max_depth': [None, 5, 10],\n",
       "                         'max_features': [1.0, None],\n",
       "                         'min_samples_leaf': [1, 2, 4],\n",
       "                         'min_samples_split': [2, 5, 10]})"
      ]
     },
     "execution_count": 25,
     "metadata": {},
     "output_type": "execute_result"
    }
   ],
   "source": [
    "### Decision Tree Regressor\n",
    "\n",
    "param_grid = {\n",
    "    'max_depth': [None, 5, 10],\n",
    "    'min_samples_split': [2, 5, 10],\n",
    "    'min_samples_leaf': [1, 2, 4],\n",
    "    'max_features': [1.0, None]\n",
    "}\n",
    "\n",
    "tree = DecisionTreeRegressor()\n",
    "\n",
    "grid_search = GridSearchCV(estimator = tree, param_grid = param_grid, cv = 5)\n",
    "grid_search.fit(x_train_scaled, y_train)"
   ]
  },
  {
   "cell_type": "code",
   "execution_count": 26,
   "id": "95ba8d55",
   "metadata": {},
   "outputs": [
    {
     "name": "stdout",
     "output_type": "stream",
     "text": [
      "Best parameters: {'max_depth': 10, 'max_features': None, 'min_samples_leaf': 4, 'min_samples_split': 10}\n"
     ]
    }
   ],
   "source": [
    "best_params = grid_search.best_params_\n",
    "\n",
    "print(\"Best parameters:\", best_params)"
   ]
  },
  {
   "cell_type": "code",
   "execution_count": 21,
   "id": "65350523",
   "metadata": {},
   "outputs": [
    {
     "data": {
      "text/html": [
       "<style>#sk-container-id-5 {color: black;background-color: white;}#sk-container-id-5 pre{padding: 0;}#sk-container-id-5 div.sk-toggleable {background-color: white;}#sk-container-id-5 label.sk-toggleable__label {cursor: pointer;display: block;width: 100%;margin-bottom: 0;padding: 0.3em;box-sizing: border-box;text-align: center;}#sk-container-id-5 label.sk-toggleable__label-arrow:before {content: \"▸\";float: left;margin-right: 0.25em;color: #696969;}#sk-container-id-5 label.sk-toggleable__label-arrow:hover:before {color: black;}#sk-container-id-5 div.sk-estimator:hover label.sk-toggleable__label-arrow:before {color: black;}#sk-container-id-5 div.sk-toggleable__content {max-height: 0;max-width: 0;overflow: hidden;text-align: left;background-color: #f0f8ff;}#sk-container-id-5 div.sk-toggleable__content pre {margin: 0.2em;color: black;border-radius: 0.25em;background-color: #f0f8ff;}#sk-container-id-5 input.sk-toggleable__control:checked~div.sk-toggleable__content {max-height: 200px;max-width: 100%;overflow: auto;}#sk-container-id-5 input.sk-toggleable__control:checked~label.sk-toggleable__label-arrow:before {content: \"▾\";}#sk-container-id-5 div.sk-estimator input.sk-toggleable__control:checked~label.sk-toggleable__label {background-color: #d4ebff;}#sk-container-id-5 div.sk-label input.sk-toggleable__control:checked~label.sk-toggleable__label {background-color: #d4ebff;}#sk-container-id-5 input.sk-hidden--visually {border: 0;clip: rect(1px 1px 1px 1px);clip: rect(1px, 1px, 1px, 1px);height: 1px;margin: -1px;overflow: hidden;padding: 0;position: absolute;width: 1px;}#sk-container-id-5 div.sk-estimator {font-family: monospace;background-color: #f0f8ff;border: 1px dotted black;border-radius: 0.25em;box-sizing: border-box;margin-bottom: 0.5em;}#sk-container-id-5 div.sk-estimator:hover {background-color: #d4ebff;}#sk-container-id-5 div.sk-parallel-item::after {content: \"\";width: 100%;border-bottom: 1px solid gray;flex-grow: 1;}#sk-container-id-5 div.sk-label:hover label.sk-toggleable__label {background-color: #d4ebff;}#sk-container-id-5 div.sk-serial::before {content: \"\";position: absolute;border-left: 1px solid gray;box-sizing: border-box;top: 0;bottom: 0;left: 50%;z-index: 0;}#sk-container-id-5 div.sk-serial {display: flex;flex-direction: column;align-items: center;background-color: white;padding-right: 0.2em;padding-left: 0.2em;position: relative;}#sk-container-id-5 div.sk-item {position: relative;z-index: 1;}#sk-container-id-5 div.sk-parallel {display: flex;align-items: stretch;justify-content: center;background-color: white;position: relative;}#sk-container-id-5 div.sk-item::before, #sk-container-id-5 div.sk-parallel-item::before {content: \"\";position: absolute;border-left: 1px solid gray;box-sizing: border-box;top: 0;bottom: 0;left: 50%;z-index: -1;}#sk-container-id-5 div.sk-parallel-item {display: flex;flex-direction: column;z-index: 1;position: relative;background-color: white;}#sk-container-id-5 div.sk-parallel-item:first-child::after {align-self: flex-end;width: 50%;}#sk-container-id-5 div.sk-parallel-item:last-child::after {align-self: flex-start;width: 50%;}#sk-container-id-5 div.sk-parallel-item:only-child::after {width: 0;}#sk-container-id-5 div.sk-dashed-wrapped {border: 1px dashed gray;margin: 0 0.4em 0.5em 0.4em;box-sizing: border-box;padding-bottom: 0.4em;background-color: white;}#sk-container-id-5 div.sk-label label {font-family: monospace;font-weight: bold;display: inline-block;line-height: 1.2em;}#sk-container-id-5 div.sk-label-container {text-align: center;}#sk-container-id-5 div.sk-container {/* jupyter's `normalize.less` sets `[hidden] { display: none; }` but bootstrap.min.css set `[hidden] { display: none !important; }` so we also need the `!important` here to be able to override the default hidden behavior on the sphinx rendered scikit-learn.org. See: https://github.com/scikit-learn/scikit-learn/issues/21755 */display: inline-block !important;position: relative;}#sk-container-id-5 div.sk-text-repr-fallback {display: none;}</style><div id=\"sk-container-id-5\" class=\"sk-top-container\"><div class=\"sk-text-repr-fallback\"><pre>GridSearchCV(cv=5, estimator=BayesianRidge(),\n",
       "             param_grid={&#x27;alpha_1&#x27;: [1e-06, 1e-05, 0.0001],\n",
       "                         &#x27;alpha_2&#x27;: [1e-06, 1e-05, 0.0001],\n",
       "                         &#x27;lambda_1&#x27;: [1e-06, 1e-05, 0.0001],\n",
       "                         &#x27;lambda_2&#x27;: [1e-06, 1e-05, 0.0001]})</pre><b>In a Jupyter environment, please rerun this cell to show the HTML representation or trust the notebook. <br />On GitHub, the HTML representation is unable to render, please try loading this page with nbviewer.org.</b></div><div class=\"sk-container\" hidden><div class=\"sk-item sk-dashed-wrapped\"><div class=\"sk-label-container\"><div class=\"sk-label sk-toggleable\"><input class=\"sk-toggleable__control sk-hidden--visually\" id=\"sk-estimator-id-13\" type=\"checkbox\" ><label for=\"sk-estimator-id-13\" class=\"sk-toggleable__label sk-toggleable__label-arrow\">GridSearchCV</label><div class=\"sk-toggleable__content\"><pre>GridSearchCV(cv=5, estimator=BayesianRidge(),\n",
       "             param_grid={&#x27;alpha_1&#x27;: [1e-06, 1e-05, 0.0001],\n",
       "                         &#x27;alpha_2&#x27;: [1e-06, 1e-05, 0.0001],\n",
       "                         &#x27;lambda_1&#x27;: [1e-06, 1e-05, 0.0001],\n",
       "                         &#x27;lambda_2&#x27;: [1e-06, 1e-05, 0.0001]})</pre></div></div></div><div class=\"sk-parallel\"><div class=\"sk-parallel-item\"><div class=\"sk-item\"><div class=\"sk-label-container\"><div class=\"sk-label sk-toggleable\"><input class=\"sk-toggleable__control sk-hidden--visually\" id=\"sk-estimator-id-14\" type=\"checkbox\" ><label for=\"sk-estimator-id-14\" class=\"sk-toggleable__label sk-toggleable__label-arrow\">estimator: BayesianRidge</label><div class=\"sk-toggleable__content\"><pre>BayesianRidge()</pre></div></div></div><div class=\"sk-serial\"><div class=\"sk-item\"><div class=\"sk-estimator sk-toggleable\"><input class=\"sk-toggleable__control sk-hidden--visually\" id=\"sk-estimator-id-15\" type=\"checkbox\" ><label for=\"sk-estimator-id-15\" class=\"sk-toggleable__label sk-toggleable__label-arrow\">BayesianRidge</label><div class=\"sk-toggleable__content\"><pre>BayesianRidge()</pre></div></div></div></div></div></div></div></div></div></div>"
      ],
      "text/plain": [
       "GridSearchCV(cv=5, estimator=BayesianRidge(),\n",
       "             param_grid={'alpha_1': [1e-06, 1e-05, 0.0001],\n",
       "                         'alpha_2': [1e-06, 1e-05, 0.0001],\n",
       "                         'lambda_1': [1e-06, 1e-05, 0.0001],\n",
       "                         'lambda_2': [1e-06, 1e-05, 0.0001]})"
      ]
     },
     "execution_count": 21,
     "metadata": {},
     "output_type": "execute_result"
    }
   ],
   "source": [
    "### Bayesian ridge regression\n",
    "\n",
    "param_grid = {\n",
    "    'alpha_1': [1e-6, 1e-5, 1e-4],\n",
    "    'alpha_2': [1e-6, 1e-5, 1e-4],\n",
    "    'lambda_1': [1e-6, 1e-5, 1e-4],\n",
    "    'lambda_2': [1e-6, 1e-5, 1e-4],\n",
    "}\n",
    "\n",
    "bayesian_ridge = BayesianRidge()\n",
    "\n",
    "grid_search = GridSearchCV(estimator = bayesian_ridge, param_grid = param_grid, cv = 5)\n",
    "grid_search.fit(x_train_scaled, y_train)"
   ]
  },
  {
   "cell_type": "code",
   "execution_count": 22,
   "id": "35480b88",
   "metadata": {},
   "outputs": [
    {
     "name": "stdout",
     "output_type": "stream",
     "text": [
      "Best parameters: {'alpha_1': 1e-06, 'alpha_2': 0.0001, 'lambda_1': 0.0001, 'lambda_2': 1e-06}\n"
     ]
    }
   ],
   "source": [
    "best_params = grid_search.best_params_\n",
    "\n",
    "print(\"Best parameters:\", best_params)"
   ]
  },
  {
   "cell_type": "code",
   "execution_count": 47,
   "id": "e654c4b3",
   "metadata": {},
   "outputs": [
    {
     "name": "stdout",
     "output_type": "stream",
     "text": [
      "train set - MAE: 0.0, RMSE: 0.0, R2: 1.0\n",
      "test set - MAE: 13.582238158999472, RMSE: 18.333549142719992, R2: 0.790693177258691\n"
     ]
    },
    {
     "data": {
      "text/plain": [
       "{'label': 'test',\n",
       " 'mae': 13.582238158999472,\n",
       " 'rmse': 18.333549142719992,\n",
       " 'r2': 0.790693177258691}"
      ]
     },
     "execution_count": 47,
     "metadata": {},
     "output_type": "execute_result"
    }
   ],
   "source": [
    "neigh = KNeighborsRegressor(n_neighbors = 7, p = 1, weights = 'distance')\n",
    "scores = cross_validate(neigh, x_train_scaled, y_train,  scoring = ('r2', 'neg_mean_absolute_error', 'neg_root_mean_squared_error'), cv = 5)\n",
    "mae = np.mean(-scores['test_neg_mean_absolute_error'])\n",
    "rmse = np.mean(-scores['test_neg_root_mean_squared_error'])\n",
    "r2 = np.mean(scores['test_r2'])\n",
    "\n",
    "print('train set - MAE: {}, RMSE: {}, R2: {}'.format(mae, rmse, r2))\n",
    "\n",
    "neigh.fit(x_train_scaled, y_train)\n",
    "\n",
    "y_pred_train = neigh.predict(x_train_scaled)\n",
    "evaluate(y_train, y_pred_train, 'train')\n",
    "\n",
    "y_pred_test = neigh.predict(x_test_scaled)\n",
    "evaluate(y_test, y_pred_test, 'test')"
   ]
  },
  {
   "cell_type": "code",
   "execution_count": 48,
   "id": "7510d4a1",
   "metadata": {},
   "outputs": [
    {
     "name": "stdout",
     "output_type": "stream",
     "text": [
      "train set - MAE: 11.797953066481881, RMSE: 16.779325930854867, R2: 0.8378764991701514\n",
      "test set - MAE: 14.472401108423746, RMSE: 19.39517427688668, R2: 0.7657510440738063\n"
     ]
    },
    {
     "data": {
      "text/plain": [
       "{'label': 'test',\n",
       " 'mae': 14.472401108423746,\n",
       " 'rmse': 19.39517427688668,\n",
       " 'r2': 0.7657510440738063}"
      ]
     },
     "execution_count": 48,
     "metadata": {},
     "output_type": "execute_result"
    }
   ],
   "source": [
    "dt_regressor = DecisionTreeRegressor(max_depth = 10, max_features = None, min_samples_leaf = 4, min_samples_split = 10)\n",
    "# scores = cross_validate(dt_regressor, x_train_scaled, y_train,  scoring = ('r2', 'neg_mean_absolute_error', 'neg_root_mean_squared_error'), cv = 5)\n",
    "# mae = np.mean(-scores['test_neg_mean_absolute_error'])\n",
    "# rmse = np.mean(-scores['test_neg_root_mean_squared_error'])\n",
    "# r2 = np.mean(scores['test_r2'])\n",
    "\n",
    "# print('train set - MAE: {}, RMSE: {}, R2: {}'.format(mae, rmse, r2))\n",
    "\n",
    "dt_regressor.fit(x_train_scaled, y_train)\n",
    "\n",
    "y_pred_train = dt_regressor.predict(x_train_scaled)\n",
    "evaluate(y_train, y_pred_train, 'train')\n",
    "\n",
    "y_pred_test = dt_regressor.predict(x_test_scaled)\n",
    "evaluate(y_test, y_pred_test, 'test')"
   ]
  },
  {
   "cell_type": "code",
   "execution_count": 49,
   "id": "1226a55b",
   "metadata": {},
   "outputs": [
    {
     "name": "stdout",
     "output_type": "stream",
     "text": [
      "train set - MAE: 17.556325026265185, RMSE: 21.468346883397693, R2: 0.7346041296206633\n",
      "test set - MAE: 16.56599155802789, RMSE: 20.826447104130434, R2: 0.7299024365452673\n"
     ]
    },
    {
     "data": {
      "text/plain": [
       "{'label': 'test',\n",
       " 'mae': 16.56599155802789,\n",
       " 'rmse': 20.826447104130434,\n",
       " 'r2': 0.7299024365452673}"
      ]
     },
     "execution_count": 49,
     "metadata": {},
     "output_type": "execute_result"
    }
   ],
   "source": [
    "clf = BayesianRidge(alpha_1 = 1e-06, alpha_2 = 0.0001, lambda_1 = 0.0001, lambda_2 = 1e-06)\n",
    "clf.fit(x_train_scaled, y_train)\n",
    "\n",
    "y_pred_train = clf.predict(x_train_scaled)\n",
    "evaluate(y_train, y_pred_train, 'train')\n",
    "\n",
    "y_pred_test = clf.predict(x_test_scaled)\n",
    "evaluate(y_test, y_pred_test, 'test')"
   ]
  },
  {
   "cell_type": "markdown",
   "id": "b4dd5418",
   "metadata": {},
   "source": [
    "### Experiment Set 2: Selecting features"
   ]
  },
  {
   "cell_type": "code",
   "execution_count": null,
   "id": "aee666cf",
   "metadata": {},
   "outputs": [],
   "source": []
  },
  {
   "cell_type": "markdown",
   "id": "a4270e3d",
   "metadata": {},
   "source": [
    "### Experiment Set 3: Ensemble learning"
   ]
  },
  {
   "cell_type": "code",
   "execution_count": 41,
   "id": "80c08edf",
   "metadata": {},
   "outputs": [],
   "source": [
    "metric_df = pd.DataFrame(columns = ['ensemble type','model', 'train/ test', 'MAE', 'RMSE', 'R2'])\n",
    "\n",
    "linear_reg = LinearRegression()\n",
    "tree_reg = DecisionTreeRegressor(max_depth = 10, max_features = None, min_samples_leaf = 4, min_samples_split = 10)\n",
    "knn_reg = KNeighborsRegressor(n_neighbors = 7, p = 1, weights = 'distance')\n",
    "br_reg = BayesianRidge()"
   ]
  },
  {
   "cell_type": "markdown",
   "id": "247fe498",
   "metadata": {},
   "source": [
    "### Bagging"
   ]
  },
  {
   "cell_type": "markdown",
   "id": "840ca0ff",
   "metadata": {},
   "source": [
    "Linear Regressor"
   ]
  },
  {
   "cell_type": "code",
   "execution_count": 42,
   "id": "7e015428",
   "metadata": {},
   "outputs": [
    {
     "name": "stdout",
     "output_type": "stream",
     "text": [
      "train set - MAE: 17.562470534187053, RMSE: 21.469586457353124, R2: 0.7345734810282857\n",
      "test set - MAE: 16.571424022552705, RMSE: 20.832435972921644, R2: 0.7297470752936468\n"
     ]
    }
   ],
   "source": [
    "bagging_reg = BaggingRegressor(estimator = linear_reg, n_estimators = 10, random_state = 42)\n",
    "bagging_reg.fit(x_train_scaled, y_train)\n",
    "\n",
    "y_pred_train = bagging_reg.predict(x_train_scaled)\n",
    "result = evaluate(y_train, y_pred_train, 'train')\n",
    "\n",
    "metric_df.loc[len(metric_df)] = ['bagging', 'linear regressor', result['label'], result['mae'], result['rmse'], result['r2']]\n",
    "\n",
    "y_pred_test = bagging_reg.predict(x_test_scaled)\n",
    "result = evaluate(y_test, y_pred_test, 'test')\n",
    "metric_df.loc[len(metric_df)] = ['bagging', 'linear regressor', result['label'], result['mae'], result['rmse'], result['r2']]"
   ]
  },
  {
   "cell_type": "markdown",
   "id": "1b070786",
   "metadata": {},
   "source": [
    "Decision Tree Regressor"
   ]
  },
  {
   "cell_type": "code",
   "execution_count": 43,
   "id": "2fd55b54",
   "metadata": {},
   "outputs": [
    {
     "name": "stdout",
     "output_type": "stream",
     "text": [
      "train set - MAE: 11.435702268253877, RMSE: 15.861465457681469, R2: 0.85512829463455\n",
      "test set - MAE: 12.541042247829475, RMSE: 17.61517650147877, R2: 0.8067745669065163\n"
     ]
    }
   ],
   "source": [
    "bagging_reg = BaggingRegressor(estimator = tree_reg, n_estimators = 10, random_state = 42)\n",
    "bagging_reg.fit(x_train_scaled, y_train)\n",
    "\n",
    "y_pred_train = bagging_reg.predict(x_train_scaled)\n",
    "result = evaluate(y_train, y_pred_train, 'train')\n",
    "\n",
    "metric_df.loc[len(metric_df)] = ['bagging', 'decision tree regressor', result['label'], result['mae'], result['rmse'], result['r2']]\n",
    "\n",
    "y_pred_test = bagging_reg.predict(x_test_scaled)\n",
    "result = evaluate(y_test, y_pred_test, 'test')\n",
    "metric_df.loc[len(metric_df)] = ['bagging', 'decision tree regressor', result['label'], result['mae'], result['rmse'], result['r2']]"
   ]
  },
  {
   "cell_type": "code",
   "execution_count": 45,
   "id": "7fd8d75f",
   "metadata": {},
   "outputs": [
    {
     "name": "stdout",
     "output_type": "stream",
     "text": [
      "train set - MAE: 5.170746478500697, RMSE: 7.764651412186009, R2: 0.9652831047275834\n",
      "test set - MAE: 13.851890032128512, RMSE: 18.731877058463326, R2: 0.7814992718058092\n"
     ]
    }
   ],
   "source": [
    "bagging_reg = BaggingRegressor(estimator = knn_reg, n_estimators = 10, random_state = 42)\n",
    "bagging_reg.fit(x_train_scaled, y_train)\n",
    "\n",
    "y_pred_train = bagging_reg.predict(x_train_scaled)\n",
    "result = evaluate(y_train, y_pred_train, 'train')\n",
    "\n",
    "metric_df.loc[len(metric_df)] = ['bagging', 'knn regressor', result['label'], result['mae'], result['rmse'], result['r2']]\n",
    "\n",
    "y_pred_test = bagging_reg.predict(x_test_scaled)\n",
    "result = evaluate(y_test, y_pred_test, 'test')\n",
    "metric_df.loc[len(metric_df)] = ['bagging', 'knn regressor', result['label'], result['mae'], result['rmse'], result['r2']]"
   ]
  },
  {
   "cell_type": "code",
   "execution_count": 50,
   "id": "08dbb48e",
   "metadata": {},
   "outputs": [
    {
     "name": "stdout",
     "output_type": "stream",
     "text": [
      "train set - MAE: 17.56268310697441, RMSE: 21.46971263700095, R2: 0.7345703611244002\n",
      "test set - MAE: 16.569187686976576, RMSE: 20.829045143721473, R2: 0.7298350445480795\n"
     ]
    }
   ],
   "source": [
    "bagging_reg = BaggingRegressor(estimator = br_reg, n_estimators = 10, random_state = 42)\n",
    "bagging_reg.fit(x_train_scaled, y_train)\n",
    "\n",
    "y_pred_train = bagging_reg.predict(x_train_scaled)\n",
    "result = evaluate(y_train, y_pred_train, 'train')\n",
    "\n",
    "metric_df.loc[len(metric_df)] = ['bagging', 'bayesian ridge', result['label'], result['mae'], result['rmse'], result['r2']]\n",
    "\n",
    "y_pred_test = bagging_reg.predict(x_test_scaled)\n",
    "result = evaluate(y_test, y_pred_test, 'test')\n",
    "metric_df.loc[len(metric_df)] = ['bagging', 'bayesian ridge', result['label'], result['mae'], result['rmse'], result['r2']]"
   ]
  },
  {
   "cell_type": "markdown",
   "id": "53d9e55b",
   "metadata": {},
   "source": [
    "### Boosting"
   ]
  },
  {
   "cell_type": "code",
   "execution_count": 54,
   "id": "0442bd53",
   "metadata": {},
   "outputs": [
    {
     "name": "stdout",
     "output_type": "stream",
     "text": [
      "train set - MAE: 17.63353327564782, RMSE: 21.503338283140252, R2: 0.7337382836229128\n",
      "test set - MAE: 16.896787061848226, RMSE: 21.086276591929856, R2: 0.7231209545548627\n"
     ]
    }
   ],
   "source": [
    "boosting_reg = AdaBoostRegressor(estimator = linear_reg, n_estimators = 10, random_state = 42)\n",
    "boosting_reg.fit(x_train_scaled, y_train)\n",
    "\n",
    "y_pred_train = boosting_reg.predict(x_train_scaled)\n",
    "result = evaluate(y_train, y_pred_train, 'train')\n",
    "\n",
    "metric_df.loc[len(metric_df)] = ['boosting', 'linear regressor', result['label'], result['mae'], result['rmse'], result['r2']]\n",
    "\n",
    "y_pred_test = boosting_reg.predict(x_test_scaled)\n",
    "result = evaluate(y_test, y_pred_test, 'test')\n",
    "metric_df.loc[len(metric_df)] = ['boosting', 'linear regressor', result['label'], result['mae'], result['rmse'], result['r2']]"
   ]
  },
  {
   "cell_type": "code",
   "execution_count": 55,
   "id": "4d63ecb2",
   "metadata": {},
   "outputs": [
    {
     "name": "stdout",
     "output_type": "stream",
     "text": [
      "train set - MAE: 12.477362833006673, RMSE: 16.170369362451705, R2: 0.849430560672633\n",
      "test set - MAE: 13.317677136581256, RMSE: 17.825588424403016, R2: 0.8021308715219588\n"
     ]
    }
   ],
   "source": [
    "boosting_reg = AdaBoostRegressor(estimator = tree_reg, n_estimators = 10, random_state = 42)\n",
    "boosting_reg.fit(x_train_scaled, y_train)\n",
    "\n",
    "y_pred_train = boosting_reg.predict(x_train_scaled)\n",
    "result = evaluate(y_train, y_pred_train, 'train')\n",
    "\n",
    "metric_df.loc[len(metric_df)] = ['boosting', 'decision tree regressor', result['label'], result['mae'], result['rmse'], result['r2']]\n",
    "\n",
    "y_pred_test = boosting_reg.predict(x_test_scaled)\n",
    "result = evaluate(y_test, y_pred_test, 'test')\n",
    "metric_df.loc[len(metric_df)] = ['boosting', 'decision tree regressor', result['label'], result['mae'], result['rmse'], result['r2']]"
   ]
  },
  {
   "cell_type": "code",
   "execution_count": 57,
   "id": "fc9fc4ac",
   "metadata": {},
   "outputs": [
    {
     "name": "stdout",
     "output_type": "stream",
     "text": [
      "train set - MAE: 1.1011059326108315, RMSE: 2.7212694630990044, R2: 0.9957357756145416\n",
      "test set - MAE: 16.2302559813445, RMSE: 22.07665552248048, R2: 0.6965012872741569\n"
     ]
    }
   ],
   "source": [
    "boosting_reg = AdaBoostRegressor(estimator = knn_reg, n_estimators = 10, random_state = 42)\n",
    "boosting_reg.fit(x_train_scaled, y_train)\n",
    "\n",
    "y_pred_train = boosting_reg.predict(x_train_scaled)\n",
    "result = evaluate(y_train, y_pred_train, 'train')\n",
    "\n",
    "metric_df.loc[len(metric_df)] = ['boosting', 'knn regressor', result['label'], result['mae'], result['rmse'], result['r2']]\n",
    "\n",
    "y_pred_test = boosting_reg.predict(x_test_scaled)\n",
    "result = evaluate(y_test, y_pred_test, 'test')\n",
    "metric_df.loc[len(metric_df)] = ['boosting', 'knn regressor', result['label'], result['mae'], result['rmse'], result['r2']]"
   ]
  },
  {
   "cell_type": "code",
   "execution_count": 58,
   "id": "ddd8808c",
   "metadata": {},
   "outputs": [
    {
     "name": "stdout",
     "output_type": "stream",
     "text": [
      "train set - MAE: 17.62605100585966, RMSE: 21.49857204946637, R2: 0.7338563048247568\n",
      "test set - MAE: 16.903581310967088, RMSE: 21.098437600942365, R2: 0.7228014956396722\n"
     ]
    }
   ],
   "source": [
    "boosting_reg = AdaBoostRegressor(estimator = br_reg, n_estimators = 10, random_state = 42)\n",
    "boosting_reg.fit(x_train_scaled, y_train)\n",
    "\n",
    "y_pred_train = boosting_reg.predict(x_train_scaled)\n",
    "result = evaluate(y_train, y_pred_train, 'train')\n",
    "\n",
    "metric_df.loc[len(metric_df)] = ['boosting', 'bayesian ridge', result['label'], result['mae'], result['rmse'], result['r2']]\n",
    "\n",
    "y_pred_test = boosting_reg.predict(x_test_scaled)\n",
    "result = evaluate(y_test, y_pred_test, 'test')\n",
    "metric_df.loc[len(metric_df)] = ['boosting', 'bayesian ridge', result['label'], result['mae'], result['rmse'], result['r2']]"
   ]
  },
  {
   "cell_type": "markdown",
   "id": "05a84ea5",
   "metadata": {},
   "source": [
    "### Voting"
   ]
  },
  {
   "cell_type": "code",
   "execution_count": 65,
   "id": "ad164157",
   "metadata": {},
   "outputs": [
    {
     "name": "stdout",
     "output_type": "stream",
     "text": [
      "train set - MAE: 11.23346486556008, RMSE: 14.100627806180537, R2: 0.8855083401724068\n",
      "test set - MAE: 14.108728370578246, RMSE: 18.38136820053915, R2: 0.7895998910720892\n"
     ]
    }
   ],
   "source": [
    "vooting_reg = VotingRegressor(estimators = [('lr', linear_reg), ('dtr', tree_reg), ('knnr', knn_reg), ('brr', br_reg)])\n",
    "vooting_reg.fit(x_train_scaled, y_train)\n",
    "\n",
    "y_pred_train = vooting_reg.predict(x_train_scaled)\n",
    "result = evaluate(y_train, y_pred_train, 'train')\n",
    "\n",
    "metric_df.loc[len(metric_df)] = ['vooting', 'all', result['label'], result['mae'], result['rmse'], result['r2']]\n",
    "\n",
    "y_pred_test = vooting_reg.predict(x_test_scaled)\n",
    "result = evaluate(y_test, y_pred_test, 'test')\n",
    "metric_df.loc[len(metric_df)] = ['vooting', 'all', result['label'], result['mae'], result['rmse'], result['r2']]"
   ]
  },
  {
   "cell_type": "markdown",
   "id": "7323666b",
   "metadata": {},
   "source": [
    "### Stacking"
   ]
  },
  {
   "cell_type": "code",
   "execution_count": 67,
   "id": "fffa3c17",
   "metadata": {},
   "outputs": [
    {
     "name": "stdout",
     "output_type": "stream",
     "text": [
      "train set - MAE: 6.881395091845863, RMSE: 9.06088111185157, R2: 0.9527243164394503\n",
      "test set - MAE: 13.09938689427927, RMSE: 17.737807185222838, R2: 0.8040748668615917\n"
     ]
    }
   ],
   "source": [
    "stacking_reg = StackingRegressor(estimators = [('lr', linear_reg), ('dtr', tree_reg), ('knnr', knn_reg), ('brr', br_reg)], final_estimator = None)\n",
    "stacking_reg.fit(x_train_scaled, y_train)\n",
    "\n",
    "y_pred_train = stacking_reg.predict(x_train_scaled)\n",
    "result = evaluate(y_train, y_pred_train, 'train')\n",
    "\n",
    "metric_df.loc[len(metric_df)] = ['stacking - no meta', 'all', result['label'], result['mae'], result['rmse'], result['r2']]\n",
    "\n",
    "y_pred_test = stacking_reg.predict(x_test_scaled)\n",
    "result = evaluate(y_test, y_pred_test, 'test')\n",
    "metric_df.loc[len(metric_df)] = ['stacking - no meta', 'all', result['label'], result['mae'], result['rmse'], result['r2']]"
   ]
  },
  {
   "cell_type": "code",
   "execution_count": 69,
   "id": "4565b276",
   "metadata": {},
   "outputs": [
    {
     "name": "stdout",
     "output_type": "stream",
     "text": [
      "train set - MAE: 6.8730686654451265, RMSE: 9.04962985074604, R2: 0.952841651785853\n",
      "test set - MAE: 13.118408017756444, RMSE: 17.75326741537575, R2: 0.8037331822694946\n"
     ]
    }
   ],
   "source": [
    "stacking_reg = StackingRegressor(estimators = [('lr', linear_reg), ('dtr', tree_reg), ('knnr', knn_reg), ('brr', br_reg)], final_estimator = linear_reg)\n",
    "stacking_reg.fit(x_train_scaled, y_train)\n",
    "\n",
    "y_pred_train = stacking_reg.predict(x_train_scaled)\n",
    "result = evaluate(y_train, y_pred_train, 'train')\n",
    "\n",
    "metric_df.loc[len(metric_df)] = ['stacking - linear regression', 'all', result['label'], result['mae'], result['rmse'], result['r2']]\n",
    "\n",
    "y_pred_test = stacking_reg.predict(x_test_scaled)\n",
    "result = evaluate(y_test, y_pred_test, 'test')\n",
    "metric_df.loc[len(metric_df)] = ['stacking - linear regression', 'all', result['label'], result['mae'], result['rmse'], result['r2']]"
   ]
  },
  {
   "cell_type": "code",
   "execution_count": 71,
   "id": "f0d5107a",
   "metadata": {},
   "outputs": [
    {
     "name": "stdout",
     "output_type": "stream",
     "text": [
      "train set - MAE: 10.688809092327704, RMSE: 15.287362565393899, R2: 0.8654257139721766\n",
      "test set - MAE: 13.580713198065977, RMSE: 18.622427425950594, R2: 0.7840451947406639\n"
     ]
    }
   ],
   "source": [
    "stacking_reg = StackingRegressor(estimators = [('lr', linear_reg), ('dtr', tree_reg), ('knnr', knn_reg), ('brr', br_reg)], final_estimator = tree_reg)\n",
    "stacking_reg.fit(x_train_scaled, y_train)\n",
    "\n",
    "y_pred_train = stacking_reg.predict(x_train_scaled)\n",
    "result = evaluate(y_train, y_pred_train, 'train')\n",
    "\n",
    "metric_df.loc[len(metric_df)] = ['stacking - decision tree regression', 'all', result['label'], result['mae'], result['rmse'], result['r2']]\n",
    "\n",
    "y_pred_test = stacking_reg.predict(x_test_scaled)\n",
    "result = evaluate(y_test, y_pred_test, 'test')\n",
    "metric_df.loc[len(metric_df)] = ['stacking - decision tree regression', 'all', result['label'], result['mae'], result['rmse'], result['r2']]"
   ]
  },
  {
   "cell_type": "code",
   "execution_count": 73,
   "id": "413d657d",
   "metadata": {},
   "outputs": [
    {
     "name": "stdout",
     "output_type": "stream",
     "text": [
      "train set - MAE: 11.103271330518524, RMSE: 16.002933054643236, R2: 0.8525325638105726\n",
      "test set - MAE: 13.679582370473897, RMSE: 18.304564574504685, R2: 0.7913544646353377\n"
     ]
    }
   ],
   "source": [
    "stacking_reg = StackingRegressor(estimators = [('lr', linear_reg), ('dtr', tree_reg), ('knnr', knn_reg), ('brr', br_reg)], final_estimator = knn_reg)\n",
    "stacking_reg.fit(x_train_scaled, y_train)\n",
    "\n",
    "y_pred_train = stacking_reg.predict(x_train_scaled)\n",
    "result = evaluate(y_train, y_pred_train, 'train')\n",
    "\n",
    "metric_df.loc[len(metric_df)] = ['stacking - knn regression', 'all', result['label'], result['mae'], result['rmse'], result['r2']]\n",
    "\n",
    "y_pred_test = stacking_reg.predict(x_test_scaled)\n",
    "result = evaluate(y_test, y_pred_test, 'test')\n",
    "metric_df.loc[len(metric_df)] = ['stacking - knn regression', 'all', result['label'], result['mae'], result['rmse'], result['r2']]"
   ]
  },
  {
   "cell_type": "code",
   "execution_count": 75,
   "id": "415c5d4a",
   "metadata": {
    "scrolled": true
   },
   "outputs": [
    {
     "name": "stdout",
     "output_type": "stream",
     "text": [
      "train set - MAE: 6.912629383580071, RMSE: 9.105407980673084, R2: 0.9522585316199785\n",
      "test set - MAE: 13.076112622050294, RMSE: 17.71824954526338, R2: 0.804506681311985\n"
     ]
    }
   ],
   "source": [
    "stacking_reg = StackingRegressor(estimators = [('lr', linear_reg), ('dtr', tree_reg), ('knnr', knn_reg), ('brr', br_reg)], final_estimator = br_reg)\n",
    "stacking_reg.fit(x_train_scaled, y_train)\n",
    "\n",
    "y_pred_train = stacking_reg.predict(x_train_scaled)\n",
    "result = evaluate(y_train, y_pred_train, 'train')\n",
    "\n",
    "metric_df.loc[len(metric_df)] = ['stacking - bayesian ridge', 'all', result['label'], result['mae'], result['rmse'], result['r2']]\n",
    "\n",
    "y_pred_test = stacking_reg.predict(x_test_scaled)\n",
    "result = evaluate(y_test, y_pred_test, 'test')\n",
    "metric_df.loc[len(metric_df)] = ['stacking - bayesian ridge', 'all', result['label'], result['mae'], result['rmse'], result['r2']]"
   ]
  },
  {
   "cell_type": "code",
   "execution_count": 79,
   "id": "25172a43",
   "metadata": {},
   "outputs": [
    {
     "data": {
      "text/html": [
       "<div>\n",
       "<style scoped>\n",
       "    .dataframe tbody tr th:only-of-type {\n",
       "        vertical-align: middle;\n",
       "    }\n",
       "\n",
       "    .dataframe tbody tr th {\n",
       "        vertical-align: top;\n",
       "    }\n",
       "\n",
       "    .dataframe thead th {\n",
       "        text-align: right;\n",
       "    }\n",
       "</style>\n",
       "<table border=\"1\" class=\"dataframe\">\n",
       "  <thead>\n",
       "    <tr style=\"text-align: right;\">\n",
       "      <th></th>\n",
       "      <th>ensemble type</th>\n",
       "      <th>model</th>\n",
       "      <th>train/ test</th>\n",
       "      <th>MAE</th>\n",
       "      <th>RMSE</th>\n",
       "      <th>R2</th>\n",
       "    </tr>\n",
       "  </thead>\n",
       "  <tbody>\n",
       "    <tr>\n",
       "      <th>0</th>\n",
       "      <td>bagging</td>\n",
       "      <td>linear regressor</td>\n",
       "      <td>train</td>\n",
       "      <td>17.562471</td>\n",
       "      <td>21.469586</td>\n",
       "      <td>0.734573</td>\n",
       "    </tr>\n",
       "    <tr>\n",
       "      <th>1</th>\n",
       "      <td>bagging</td>\n",
       "      <td>linear regressor</td>\n",
       "      <td>test</td>\n",
       "      <td>16.571424</td>\n",
       "      <td>20.832436</td>\n",
       "      <td>0.729747</td>\n",
       "    </tr>\n",
       "    <tr>\n",
       "      <th>2</th>\n",
       "      <td>bagging</td>\n",
       "      <td>decision tree regressor</td>\n",
       "      <td>train</td>\n",
       "      <td>11.435702</td>\n",
       "      <td>15.861465</td>\n",
       "      <td>0.855128</td>\n",
       "    </tr>\n",
       "    <tr>\n",
       "      <th>3</th>\n",
       "      <td>bagging</td>\n",
       "      <td>decision tree regressor</td>\n",
       "      <td>test</td>\n",
       "      <td>12.541042</td>\n",
       "      <td>17.615177</td>\n",
       "      <td>0.806775</td>\n",
       "    </tr>\n",
       "    <tr>\n",
       "      <th>4</th>\n",
       "      <td>bagging</td>\n",
       "      <td>knn regressor</td>\n",
       "      <td>train</td>\n",
       "      <td>5.170746</td>\n",
       "      <td>7.764651</td>\n",
       "      <td>0.965283</td>\n",
       "    </tr>\n",
       "    <tr>\n",
       "      <th>5</th>\n",
       "      <td>bagging</td>\n",
       "      <td>knn regressor</td>\n",
       "      <td>test</td>\n",
       "      <td>13.851890</td>\n",
       "      <td>18.731877</td>\n",
       "      <td>0.781499</td>\n",
       "    </tr>\n",
       "    <tr>\n",
       "      <th>6</th>\n",
       "      <td>bagging</td>\n",
       "      <td>bayesian ridge</td>\n",
       "      <td>train</td>\n",
       "      <td>17.562683</td>\n",
       "      <td>21.469713</td>\n",
       "      <td>0.734570</td>\n",
       "    </tr>\n",
       "    <tr>\n",
       "      <th>7</th>\n",
       "      <td>bagging</td>\n",
       "      <td>bayesian ridge</td>\n",
       "      <td>test</td>\n",
       "      <td>16.569188</td>\n",
       "      <td>20.829045</td>\n",
       "      <td>0.729835</td>\n",
       "    </tr>\n",
       "    <tr>\n",
       "      <th>8</th>\n",
       "      <td>boosting</td>\n",
       "      <td>linear regressor</td>\n",
       "      <td>train</td>\n",
       "      <td>17.633533</td>\n",
       "      <td>21.503338</td>\n",
       "      <td>0.733738</td>\n",
       "    </tr>\n",
       "    <tr>\n",
       "      <th>9</th>\n",
       "      <td>boosting</td>\n",
       "      <td>linear regressor</td>\n",
       "      <td>test</td>\n",
       "      <td>16.896787</td>\n",
       "      <td>21.086277</td>\n",
       "      <td>0.723121</td>\n",
       "    </tr>\n",
       "    <tr>\n",
       "      <th>10</th>\n",
       "      <td>boosting</td>\n",
       "      <td>decision tree regressor</td>\n",
       "      <td>train</td>\n",
       "      <td>12.477363</td>\n",
       "      <td>16.170369</td>\n",
       "      <td>0.849431</td>\n",
       "    </tr>\n",
       "    <tr>\n",
       "      <th>11</th>\n",
       "      <td>boosting</td>\n",
       "      <td>decision tree regressor</td>\n",
       "      <td>test</td>\n",
       "      <td>13.317677</td>\n",
       "      <td>17.825588</td>\n",
       "      <td>0.802131</td>\n",
       "    </tr>\n",
       "    <tr>\n",
       "      <th>12</th>\n",
       "      <td>boosting</td>\n",
       "      <td>knn regressor</td>\n",
       "      <td>train</td>\n",
       "      <td>1.101106</td>\n",
       "      <td>2.721269</td>\n",
       "      <td>0.995736</td>\n",
       "    </tr>\n",
       "    <tr>\n",
       "      <th>13</th>\n",
       "      <td>boosting</td>\n",
       "      <td>knn regressor</td>\n",
       "      <td>test</td>\n",
       "      <td>16.230256</td>\n",
       "      <td>22.076656</td>\n",
       "      <td>0.696501</td>\n",
       "    </tr>\n",
       "    <tr>\n",
       "      <th>14</th>\n",
       "      <td>boosting</td>\n",
       "      <td>bayesian ridge</td>\n",
       "      <td>train</td>\n",
       "      <td>17.626051</td>\n",
       "      <td>21.498572</td>\n",
       "      <td>0.733856</td>\n",
       "    </tr>\n",
       "    <tr>\n",
       "      <th>15</th>\n",
       "      <td>boosting</td>\n",
       "      <td>bayesian ridge</td>\n",
       "      <td>test</td>\n",
       "      <td>16.903581</td>\n",
       "      <td>21.098438</td>\n",
       "      <td>0.722801</td>\n",
       "    </tr>\n",
       "    <tr>\n",
       "      <th>16</th>\n",
       "      <td>vooting</td>\n",
       "      <td>all</td>\n",
       "      <td>train</td>\n",
       "      <td>11.233465</td>\n",
       "      <td>14.100628</td>\n",
       "      <td>0.885508</td>\n",
       "    </tr>\n",
       "    <tr>\n",
       "      <th>17</th>\n",
       "      <td>vooting</td>\n",
       "      <td>all</td>\n",
       "      <td>test</td>\n",
       "      <td>14.108728</td>\n",
       "      <td>18.381368</td>\n",
       "      <td>0.789600</td>\n",
       "    </tr>\n",
       "    <tr>\n",
       "      <th>18</th>\n",
       "      <td>stacking - no meta</td>\n",
       "      <td>all</td>\n",
       "      <td>train</td>\n",
       "      <td>6.881395</td>\n",
       "      <td>9.060881</td>\n",
       "      <td>0.952724</td>\n",
       "    </tr>\n",
       "    <tr>\n",
       "      <th>19</th>\n",
       "      <td>stacking - no meta</td>\n",
       "      <td>all</td>\n",
       "      <td>test</td>\n",
       "      <td>13.099387</td>\n",
       "      <td>17.737807</td>\n",
       "      <td>0.804075</td>\n",
       "    </tr>\n",
       "    <tr>\n",
       "      <th>20</th>\n",
       "      <td>stacking - linear regression</td>\n",
       "      <td>all</td>\n",
       "      <td>train</td>\n",
       "      <td>6.873069</td>\n",
       "      <td>9.049630</td>\n",
       "      <td>0.952842</td>\n",
       "    </tr>\n",
       "    <tr>\n",
       "      <th>21</th>\n",
       "      <td>stacking - linear regression</td>\n",
       "      <td>all</td>\n",
       "      <td>test</td>\n",
       "      <td>13.118408</td>\n",
       "      <td>17.753267</td>\n",
       "      <td>0.803733</td>\n",
       "    </tr>\n",
       "    <tr>\n",
       "      <th>22</th>\n",
       "      <td>stacking - decision tree regression</td>\n",
       "      <td>all</td>\n",
       "      <td>train</td>\n",
       "      <td>10.688809</td>\n",
       "      <td>15.287363</td>\n",
       "      <td>0.865426</td>\n",
       "    </tr>\n",
       "    <tr>\n",
       "      <th>23</th>\n",
       "      <td>stacking - decision tree regression</td>\n",
       "      <td>all</td>\n",
       "      <td>test</td>\n",
       "      <td>13.580713</td>\n",
       "      <td>18.622427</td>\n",
       "      <td>0.784045</td>\n",
       "    </tr>\n",
       "    <tr>\n",
       "      <th>24</th>\n",
       "      <td>stacking - knn regression</td>\n",
       "      <td>all</td>\n",
       "      <td>train</td>\n",
       "      <td>11.103271</td>\n",
       "      <td>16.002933</td>\n",
       "      <td>0.852533</td>\n",
       "    </tr>\n",
       "    <tr>\n",
       "      <th>25</th>\n",
       "      <td>stacking - knn regression</td>\n",
       "      <td>all</td>\n",
       "      <td>test</td>\n",
       "      <td>13.679582</td>\n",
       "      <td>18.304565</td>\n",
       "      <td>0.791354</td>\n",
       "    </tr>\n",
       "    <tr>\n",
       "      <th>26</th>\n",
       "      <td>stacking - bayesian ridge</td>\n",
       "      <td>all</td>\n",
       "      <td>train</td>\n",
       "      <td>6.912629</td>\n",
       "      <td>9.105408</td>\n",
       "      <td>0.952259</td>\n",
       "    </tr>\n",
       "    <tr>\n",
       "      <th>27</th>\n",
       "      <td>stacking - bayesian ridge</td>\n",
       "      <td>all</td>\n",
       "      <td>test</td>\n",
       "      <td>13.076113</td>\n",
       "      <td>17.718250</td>\n",
       "      <td>0.804507</td>\n",
       "    </tr>\n",
       "  </tbody>\n",
       "</table>\n",
       "</div>"
      ],
      "text/plain": [
       "                          ensemble type                    model train/ test  \\\n",
       "0                               bagging         linear regressor       train   \n",
       "1                               bagging         linear regressor        test   \n",
       "2                               bagging  decision tree regressor       train   \n",
       "3                               bagging  decision tree regressor        test   \n",
       "4                               bagging            knn regressor       train   \n",
       "5                               bagging            knn regressor        test   \n",
       "6                               bagging           bayesian ridge       train   \n",
       "7                               bagging           bayesian ridge        test   \n",
       "8                              boosting         linear regressor       train   \n",
       "9                              boosting         linear regressor        test   \n",
       "10                             boosting  decision tree regressor       train   \n",
       "11                             boosting  decision tree regressor        test   \n",
       "12                             boosting            knn regressor       train   \n",
       "13                             boosting            knn regressor        test   \n",
       "14                             boosting           bayesian ridge       train   \n",
       "15                             boosting           bayesian ridge        test   \n",
       "16                              vooting                      all       train   \n",
       "17                              vooting                      all        test   \n",
       "18                   stacking - no meta                      all       train   \n",
       "19                   stacking - no meta                      all        test   \n",
       "20         stacking - linear regression                      all       train   \n",
       "21         stacking - linear regression                      all        test   \n",
       "22  stacking - decision tree regression                      all       train   \n",
       "23  stacking - decision tree regression                      all        test   \n",
       "24            stacking - knn regression                      all       train   \n",
       "25            stacking - knn regression                      all        test   \n",
       "26            stacking - bayesian ridge                      all       train   \n",
       "27            stacking - bayesian ridge                      all        test   \n",
       "\n",
       "          MAE       RMSE        R2  \n",
       "0   17.562471  21.469586  0.734573  \n",
       "1   16.571424  20.832436  0.729747  \n",
       "2   11.435702  15.861465  0.855128  \n",
       "3   12.541042  17.615177  0.806775  \n",
       "4    5.170746   7.764651  0.965283  \n",
       "5   13.851890  18.731877  0.781499  \n",
       "6   17.562683  21.469713  0.734570  \n",
       "7   16.569188  20.829045  0.729835  \n",
       "8   17.633533  21.503338  0.733738  \n",
       "9   16.896787  21.086277  0.723121  \n",
       "10  12.477363  16.170369  0.849431  \n",
       "11  13.317677  17.825588  0.802131  \n",
       "12   1.101106   2.721269  0.995736  \n",
       "13  16.230256  22.076656  0.696501  \n",
       "14  17.626051  21.498572  0.733856  \n",
       "15  16.903581  21.098438  0.722801  \n",
       "16  11.233465  14.100628  0.885508  \n",
       "17  14.108728  18.381368  0.789600  \n",
       "18   6.881395   9.060881  0.952724  \n",
       "19  13.099387  17.737807  0.804075  \n",
       "20   6.873069   9.049630  0.952842  \n",
       "21  13.118408  17.753267  0.803733  \n",
       "22  10.688809  15.287363  0.865426  \n",
       "23  13.580713  18.622427  0.784045  \n",
       "24  11.103271  16.002933  0.852533  \n",
       "25  13.679582  18.304565  0.791354  \n",
       "26   6.912629   9.105408  0.952259  \n",
       "27  13.076113  17.718250  0.804507  "
      ]
     },
     "execution_count": 79,
     "metadata": {},
     "output_type": "execute_result"
    }
   ],
   "source": [
    "metric_df"
   ]
  },
  {
   "cell_type": "code",
   "execution_count": 83,
   "id": "646c9921",
   "metadata": {},
   "outputs": [
    {
     "data": {
      "text/plain": [
       "12.541042247829475"
      ]
     },
     "execution_count": 83,
     "metadata": {},
     "output_type": "execute_result"
    }
   ],
   "source": [
    "metric_df[metric_df['train/ test'] == 'test']['MAE'].min()"
   ]
  },
  {
   "cell_type": "code",
   "execution_count": 84,
   "id": "be2ebc41",
   "metadata": {},
   "outputs": [
    {
     "data": {
      "text/plain": [
       "17.61517650147877"
      ]
     },
     "execution_count": 84,
     "metadata": {},
     "output_type": "execute_result"
    }
   ],
   "source": [
    "metric_df[metric_df['train/ test'] == 'test']['RMSE'].min()"
   ]
  },
  {
   "cell_type": "code",
   "execution_count": 85,
   "id": "66cb1b6e",
   "metadata": {},
   "outputs": [
    {
     "data": {
      "text/plain": [
       "0.8067745669065163"
      ]
     },
     "execution_count": 85,
     "metadata": {},
     "output_type": "execute_result"
    }
   ],
   "source": [
    "metric_df[metric_df['train/ test'] == 'test']['R2'].max()"
   ]
  },
  {
   "cell_type": "code",
   "execution_count": 86,
   "id": "44695c07",
   "metadata": {},
   "outputs": [
    {
     "data": {
      "text/html": [
       "<div>\n",
       "<style scoped>\n",
       "    .dataframe tbody tr th:only-of-type {\n",
       "        vertical-align: middle;\n",
       "    }\n",
       "\n",
       "    .dataframe tbody tr th {\n",
       "        vertical-align: top;\n",
       "    }\n",
       "\n",
       "    .dataframe thead th {\n",
       "        text-align: right;\n",
       "    }\n",
       "</style>\n",
       "<table border=\"1\" class=\"dataframe\">\n",
       "  <thead>\n",
       "    <tr style=\"text-align: right;\">\n",
       "      <th></th>\n",
       "      <th>ensemble type</th>\n",
       "      <th>model</th>\n",
       "      <th>train/ test</th>\n",
       "      <th>MAE</th>\n",
       "      <th>RMSE</th>\n",
       "      <th>R2</th>\n",
       "    </tr>\n",
       "  </thead>\n",
       "  <tbody>\n",
       "    <tr>\n",
       "      <th>3</th>\n",
       "      <td>bagging</td>\n",
       "      <td>decision tree regressor</td>\n",
       "      <td>test</td>\n",
       "      <td>12.541042</td>\n",
       "      <td>17.615177</td>\n",
       "      <td>0.806775</td>\n",
       "    </tr>\n",
       "  </tbody>\n",
       "</table>\n",
       "</div>"
      ],
      "text/plain": [
       "  ensemble type                    model train/ test        MAE       RMSE  \\\n",
       "3       bagging  decision tree regressor        test  12.541042  17.615177   \n",
       "\n",
       "         R2  \n",
       "3  0.806775  "
      ]
     },
     "execution_count": 86,
     "metadata": {},
     "output_type": "execute_result"
    }
   ],
   "source": [
    "metric_df[metric_df['MAE'] == 12.541042247829475]"
   ]
  },
  {
   "cell_type": "code",
   "execution_count": 87,
   "id": "48fd1fa1",
   "metadata": {},
   "outputs": [
    {
     "data": {
      "text/html": [
       "<div>\n",
       "<style scoped>\n",
       "    .dataframe tbody tr th:only-of-type {\n",
       "        vertical-align: middle;\n",
       "    }\n",
       "\n",
       "    .dataframe tbody tr th {\n",
       "        vertical-align: top;\n",
       "    }\n",
       "\n",
       "    .dataframe thead th {\n",
       "        text-align: right;\n",
       "    }\n",
       "</style>\n",
       "<table border=\"1\" class=\"dataframe\">\n",
       "  <thead>\n",
       "    <tr style=\"text-align: right;\">\n",
       "      <th></th>\n",
       "      <th>ensemble type</th>\n",
       "      <th>model</th>\n",
       "      <th>train/ test</th>\n",
       "      <th>MAE</th>\n",
       "      <th>RMSE</th>\n",
       "      <th>R2</th>\n",
       "    </tr>\n",
       "  </thead>\n",
       "  <tbody>\n",
       "    <tr>\n",
       "      <th>3</th>\n",
       "      <td>bagging</td>\n",
       "      <td>decision tree regressor</td>\n",
       "      <td>test</td>\n",
       "      <td>12.541042</td>\n",
       "      <td>17.615177</td>\n",
       "      <td>0.806775</td>\n",
       "    </tr>\n",
       "  </tbody>\n",
       "</table>\n",
       "</div>"
      ],
      "text/plain": [
       "  ensemble type                    model train/ test        MAE       RMSE  \\\n",
       "3       bagging  decision tree regressor        test  12.541042  17.615177   \n",
       "\n",
       "         R2  \n",
       "3  0.806775  "
      ]
     },
     "execution_count": 87,
     "metadata": {},
     "output_type": "execute_result"
    }
   ],
   "source": [
    "metric_df[metric_df['RMSE'] == 17.61517650147877]"
   ]
  },
  {
   "cell_type": "code",
   "execution_count": 88,
   "id": "a506294e",
   "metadata": {},
   "outputs": [
    {
     "data": {
      "text/html": [
       "<div>\n",
       "<style scoped>\n",
       "    .dataframe tbody tr th:only-of-type {\n",
       "        vertical-align: middle;\n",
       "    }\n",
       "\n",
       "    .dataframe tbody tr th {\n",
       "        vertical-align: top;\n",
       "    }\n",
       "\n",
       "    .dataframe thead th {\n",
       "        text-align: right;\n",
       "    }\n",
       "</style>\n",
       "<table border=\"1\" class=\"dataframe\">\n",
       "  <thead>\n",
       "    <tr style=\"text-align: right;\">\n",
       "      <th></th>\n",
       "      <th>ensemble type</th>\n",
       "      <th>model</th>\n",
       "      <th>train/ test</th>\n",
       "      <th>MAE</th>\n",
       "      <th>RMSE</th>\n",
       "      <th>R2</th>\n",
       "    </tr>\n",
       "  </thead>\n",
       "  <tbody>\n",
       "    <tr>\n",
       "      <th>3</th>\n",
       "      <td>bagging</td>\n",
       "      <td>decision tree regressor</td>\n",
       "      <td>test</td>\n",
       "      <td>12.541042</td>\n",
       "      <td>17.615177</td>\n",
       "      <td>0.806775</td>\n",
       "    </tr>\n",
       "  </tbody>\n",
       "</table>\n",
       "</div>"
      ],
      "text/plain": [
       "  ensemble type                    model train/ test        MAE       RMSE  \\\n",
       "3       bagging  decision tree regressor        test  12.541042  17.615177   \n",
       "\n",
       "         R2  \n",
       "3  0.806775  "
      ]
     },
     "execution_count": 88,
     "metadata": {},
     "output_type": "execute_result"
    }
   ],
   "source": [
    "metric_df[metric_df['R2'] == 0.8067745669065163]"
   ]
  },
  {
   "cell_type": "markdown",
   "id": "3518495e",
   "metadata": {},
   "source": [
    "### Experiment Set 4: Varying training sample size"
   ]
  },
  {
   "cell_type": "code",
   "execution_count": null,
   "id": "043392f9",
   "metadata": {},
   "outputs": [],
   "source": []
  }
 ],
 "metadata": {
  "kernelspec": {
   "display_name": "Python 3 (ipykernel)",
   "language": "python",
   "name": "python3"
  },
  "language_info": {
   "codemirror_mode": {
    "name": "ipython",
    "version": 3
   },
   "file_extension": ".py",
   "mimetype": "text/x-python",
   "name": "python",
   "nbconvert_exporter": "python",
   "pygments_lexer": "ipython3",
   "version": "3.9.16"
  }
 },
 "nbformat": 4,
 "nbformat_minor": 5
}
