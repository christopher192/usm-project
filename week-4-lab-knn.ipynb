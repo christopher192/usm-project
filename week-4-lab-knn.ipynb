{
 "cells": [
  {
   "cell_type": "code",
   "execution_count": 1,
   "id": "fff18ae6",
   "metadata": {},
   "outputs": [],
   "source": [
    "# Import pandas library\n",
    "\n",
    "import pandas as pd"
   ]
  },
  {
   "cell_type": "code",
   "execution_count": 2,
   "id": "5a9dc6b3",
   "metadata": {},
   "outputs": [],
   "source": [
    "# Read csv data file\n",
    "\n",
    "df = pd.read_csv('data/titanic.csv')"
   ]
  },
  {
   "cell_type": "code",
   "execution_count": 3,
   "id": "122f0cf1",
   "metadata": {},
   "outputs": [
    {
     "data": {
      "text/plain": [
       "(887, 8)"
      ]
     },
     "execution_count": 3,
     "metadata": {},
     "output_type": "execute_result"
    }
   ],
   "source": [
    "# View the number of rows and columns\n",
    "\n",
    "df.shape"
   ]
  },
  {
   "cell_type": "code",
   "execution_count": 4,
   "id": "969b96a8",
   "metadata": {},
   "outputs": [
    {
     "data": {
      "text/html": [
       "<div>\n",
       "<style scoped>\n",
       "    .dataframe tbody tr th:only-of-type {\n",
       "        vertical-align: middle;\n",
       "    }\n",
       "\n",
       "    .dataframe tbody tr th {\n",
       "        vertical-align: top;\n",
       "    }\n",
       "\n",
       "    .dataframe thead th {\n",
       "        text-align: right;\n",
       "    }\n",
       "</style>\n",
       "<table border=\"1\" class=\"dataframe\">\n",
       "  <thead>\n",
       "    <tr style=\"text-align: right;\">\n",
       "      <th></th>\n",
       "      <th>Survived</th>\n",
       "      <th>Pclass</th>\n",
       "      <th>Name</th>\n",
       "      <th>Sex</th>\n",
       "      <th>Age</th>\n",
       "      <th>Siblings/Spouses Aboard</th>\n",
       "      <th>Parents/Children Aboard</th>\n",
       "      <th>Fare</th>\n",
       "    </tr>\n",
       "  </thead>\n",
       "  <tbody>\n",
       "    <tr>\n",
       "      <th>0</th>\n",
       "      <td>0</td>\n",
       "      <td>3</td>\n",
       "      <td>Mr. Owen Harris Braund</td>\n",
       "      <td>male</td>\n",
       "      <td>22.0</td>\n",
       "      <td>1</td>\n",
       "      <td>0</td>\n",
       "      <td>7.2500</td>\n",
       "    </tr>\n",
       "    <tr>\n",
       "      <th>1</th>\n",
       "      <td>1</td>\n",
       "      <td>1</td>\n",
       "      <td>Mrs. John Bradley (Florence Briggs Thayer) Cum...</td>\n",
       "      <td>female</td>\n",
       "      <td>38.0</td>\n",
       "      <td>1</td>\n",
       "      <td>0</td>\n",
       "      <td>71.2833</td>\n",
       "    </tr>\n",
       "    <tr>\n",
       "      <th>2</th>\n",
       "      <td>1</td>\n",
       "      <td>3</td>\n",
       "      <td>Miss. Laina Heikkinen</td>\n",
       "      <td>female</td>\n",
       "      <td>26.0</td>\n",
       "      <td>0</td>\n",
       "      <td>0</td>\n",
       "      <td>7.9250</td>\n",
       "    </tr>\n",
       "    <tr>\n",
       "      <th>3</th>\n",
       "      <td>1</td>\n",
       "      <td>1</td>\n",
       "      <td>Mrs. Jacques Heath (Lily May Peel) Futrelle</td>\n",
       "      <td>female</td>\n",
       "      <td>35.0</td>\n",
       "      <td>1</td>\n",
       "      <td>0</td>\n",
       "      <td>53.1000</td>\n",
       "    </tr>\n",
       "    <tr>\n",
       "      <th>4</th>\n",
       "      <td>0</td>\n",
       "      <td>3</td>\n",
       "      <td>Mr. William Henry Allen</td>\n",
       "      <td>male</td>\n",
       "      <td>35.0</td>\n",
       "      <td>0</td>\n",
       "      <td>0</td>\n",
       "      <td>8.0500</td>\n",
       "    </tr>\n",
       "  </tbody>\n",
       "</table>\n",
       "</div>"
      ],
      "text/plain": [
       "   Survived  Pclass                                               Name  \\\n",
       "0         0       3                             Mr. Owen Harris Braund   \n",
       "1         1       1  Mrs. John Bradley (Florence Briggs Thayer) Cum...   \n",
       "2         1       3                              Miss. Laina Heikkinen   \n",
       "3         1       1        Mrs. Jacques Heath (Lily May Peel) Futrelle   \n",
       "4         0       3                            Mr. William Henry Allen   \n",
       "\n",
       "      Sex   Age  Siblings/Spouses Aboard  Parents/Children Aboard     Fare  \n",
       "0    male  22.0                        1                        0   7.2500  \n",
       "1  female  38.0                        1                        0  71.2833  \n",
       "2  female  26.0                        0                        0   7.9250  \n",
       "3  female  35.0                        1                        0  53.1000  \n",
       "4    male  35.0                        0                        0   8.0500  "
      ]
     },
     "execution_count": 4,
     "metadata": {},
     "output_type": "execute_result"
    }
   ],
   "source": [
    "# View the first 5 rows\n",
    "\n",
    "df.head()"
   ]
  },
  {
   "cell_type": "code",
   "execution_count": 5,
   "id": "35064f43",
   "metadata": {},
   "outputs": [
    {
     "data": {
      "text/plain": [
       "Index(['survived', 'pclass', 'name', 'sex', 'age', 'sibspouse', 'parchild',\n",
       "       'fare'],\n",
       "      dtype='object')"
      ]
     },
     "execution_count": 5,
     "metadata": {},
     "output_type": "execute_result"
    }
   ],
   "source": [
    "# Rename all columns\n",
    "df.columns = ['survived', 'pclass', 'name', 'sex', 'age', 'sibspouse', 'parchild', 'fare']\n",
    "\n",
    "# View column names\n",
    "df.columns"
   ]
  },
  {
   "cell_type": "code",
   "execution_count": 6,
   "id": "fe339561",
   "metadata": {},
   "outputs": [
    {
     "data": {
      "text/plain": [
       "Index(['survived', 'pclass', 'sex', 'age', 'sibspouse', 'parchild', 'fare'], dtype='object')"
      ]
     },
     "execution_count": 6,
     "metadata": {},
     "output_type": "execute_result"
    }
   ],
   "source": [
    "# Drop attribute Name\n",
    "# Setting axis=1 means we want to drop a column\n",
    "\n",
    "df = df.drop('name', axis = 1)\n",
    "df.columns"
   ]
  },
  {
   "cell_type": "code",
   "execution_count": 7,
   "id": "781b7972",
   "metadata": {},
   "outputs": [
    {
     "data": {
      "text/html": [
       "<div>\n",
       "<style scoped>\n",
       "    .dataframe tbody tr th:only-of-type {\n",
       "        vertical-align: middle;\n",
       "    }\n",
       "\n",
       "    .dataframe tbody tr th {\n",
       "        vertical-align: top;\n",
       "    }\n",
       "\n",
       "    .dataframe thead th {\n",
       "        text-align: right;\n",
       "    }\n",
       "</style>\n",
       "<table border=\"1\" class=\"dataframe\">\n",
       "  <thead>\n",
       "    <tr style=\"text-align: right;\">\n",
       "      <th></th>\n",
       "      <th>survived</th>\n",
       "      <th>pclass</th>\n",
       "      <th>sex</th>\n",
       "      <th>age</th>\n",
       "      <th>sibspouse</th>\n",
       "      <th>parchild</th>\n",
       "      <th>fare</th>\n",
       "    </tr>\n",
       "  </thead>\n",
       "  <tbody>\n",
       "    <tr>\n",
       "      <th>0</th>\n",
       "      <td>0</td>\n",
       "      <td>3</td>\n",
       "      <td>male</td>\n",
       "      <td>22.0</td>\n",
       "      <td>1</td>\n",
       "      <td>0</td>\n",
       "      <td>7.2500</td>\n",
       "    </tr>\n",
       "    <tr>\n",
       "      <th>1</th>\n",
       "      <td>1</td>\n",
       "      <td>1</td>\n",
       "      <td>female</td>\n",
       "      <td>38.0</td>\n",
       "      <td>1</td>\n",
       "      <td>0</td>\n",
       "      <td>71.2833</td>\n",
       "    </tr>\n",
       "    <tr>\n",
       "      <th>2</th>\n",
       "      <td>1</td>\n",
       "      <td>3</td>\n",
       "      <td>female</td>\n",
       "      <td>26.0</td>\n",
       "      <td>0</td>\n",
       "      <td>0</td>\n",
       "      <td>7.9250</td>\n",
       "    </tr>\n",
       "    <tr>\n",
       "      <th>3</th>\n",
       "      <td>1</td>\n",
       "      <td>1</td>\n",
       "      <td>female</td>\n",
       "      <td>35.0</td>\n",
       "      <td>1</td>\n",
       "      <td>0</td>\n",
       "      <td>53.1000</td>\n",
       "    </tr>\n",
       "    <tr>\n",
       "      <th>4</th>\n",
       "      <td>0</td>\n",
       "      <td>3</td>\n",
       "      <td>male</td>\n",
       "      <td>35.0</td>\n",
       "      <td>0</td>\n",
       "      <td>0</td>\n",
       "      <td>8.0500</td>\n",
       "    </tr>\n",
       "  </tbody>\n",
       "</table>\n",
       "</div>"
      ],
      "text/plain": [
       "   survived  pclass     sex   age  sibspouse  parchild     fare\n",
       "0         0       3    male  22.0          1         0   7.2500\n",
       "1         1       1  female  38.0          1         0  71.2833\n",
       "2         1       3  female  26.0          0         0   7.9250\n",
       "3         1       1  female  35.0          1         0  53.1000\n",
       "4         0       3    male  35.0          0         0   8.0500"
      ]
     },
     "execution_count": 7,
     "metadata": {},
     "output_type": "execute_result"
    }
   ],
   "source": [
    "df.head()"
   ]
  },
  {
   "cell_type": "code",
   "execution_count": 8,
   "id": "ced44a7f",
   "metadata": {},
   "outputs": [
    {
     "data": {
      "text/plain": [
       "survived       int64\n",
       "pclass         int64\n",
       "sex           object\n",
       "age          float64\n",
       "sibspouse      int64\n",
       "parchild       int64\n",
       "fare         float64\n",
       "dtype: object"
      ]
     },
     "execution_count": 8,
     "metadata": {},
     "output_type": "execute_result"
    }
   ],
   "source": [
    "# View the data type of each attribute\n",
    "\n",
    "df.dtypes"
   ]
  },
  {
   "cell_type": "code",
   "execution_count": 9,
   "id": "ff027f73",
   "metadata": {},
   "outputs": [
    {
     "data": {
      "text/plain": [
       "count     887\n",
       "unique      2\n",
       "top         0\n",
       "freq      545\n",
       "Name: survived, dtype: object"
      ]
     },
     "execution_count": 9,
     "metadata": {},
     "output_type": "execute_result"
    }
   ],
   "source": [
    "# Convert integer to string: survived\n",
    "\n",
    "df['survived'] = df['survived'].astype(str)\n",
    "df['survived'].describe()"
   ]
  },
  {
   "cell_type": "code",
   "execution_count": 10,
   "id": "b458687e",
   "metadata": {},
   "outputs": [
    {
     "data": {
      "text/plain": [
       "0    545\n",
       "1    342\n",
       "Name: survived, dtype: int64"
      ]
     },
     "execution_count": 10,
     "metadata": {},
     "output_type": "execute_result"
    }
   ],
   "source": [
    "df['survived'].value_counts()"
   ]
  },
  {
   "cell_type": "code",
   "execution_count": 11,
   "id": "38e5837f",
   "metadata": {},
   "outputs": [
    {
     "data": {
      "text/plain": [
       "survived      object\n",
       "pclass        object\n",
       "sex           object\n",
       "age          float64\n",
       "sibspouse      int64\n",
       "parchild       int64\n",
       "fare         float64\n",
       "dtype: object"
      ]
     },
     "execution_count": 11,
     "metadata": {},
     "output_type": "execute_result"
    }
   ],
   "source": [
    "# Convert integer to string: pclass\n",
    "df['pclass'] = df['pclass'].astype(str)\n",
    "\n",
    "# Convert integer to string: sex\n",
    "df['sex'] = df['sex'].astype(str)\n",
    "\n",
    "df.dtypes"
   ]
  },
  {
   "cell_type": "code",
   "execution_count": 12,
   "id": "76470e75",
   "metadata": {},
   "outputs": [
    {
     "data": {
      "text/html": [
       "<div>\n",
       "<style scoped>\n",
       "    .dataframe tbody tr th:only-of-type {\n",
       "        vertical-align: middle;\n",
       "    }\n",
       "\n",
       "    .dataframe tbody tr th {\n",
       "        vertical-align: top;\n",
       "    }\n",
       "\n",
       "    .dataframe thead th {\n",
       "        text-align: right;\n",
       "    }\n",
       "</style>\n",
       "<table border=\"1\" class=\"dataframe\">\n",
       "  <thead>\n",
       "    <tr style=\"text-align: right;\">\n",
       "      <th></th>\n",
       "      <th>survived</th>\n",
       "      <th>pclass</th>\n",
       "      <th>sex</th>\n",
       "      <th>age</th>\n",
       "      <th>sibspouse</th>\n",
       "      <th>parchild</th>\n",
       "      <th>fare</th>\n",
       "    </tr>\n",
       "  </thead>\n",
       "  <tbody>\n",
       "    <tr>\n",
       "      <th>0</th>\n",
       "      <td>0</td>\n",
       "      <td>3</td>\n",
       "      <td>1</td>\n",
       "      <td>22.0</td>\n",
       "      <td>1</td>\n",
       "      <td>0</td>\n",
       "      <td>7.2500</td>\n",
       "    </tr>\n",
       "    <tr>\n",
       "      <th>1</th>\n",
       "      <td>1</td>\n",
       "      <td>1</td>\n",
       "      <td>0</td>\n",
       "      <td>38.0</td>\n",
       "      <td>1</td>\n",
       "      <td>0</td>\n",
       "      <td>71.2833</td>\n",
       "    </tr>\n",
       "    <tr>\n",
       "      <th>2</th>\n",
       "      <td>1</td>\n",
       "      <td>3</td>\n",
       "      <td>0</td>\n",
       "      <td>26.0</td>\n",
       "      <td>0</td>\n",
       "      <td>0</td>\n",
       "      <td>7.9250</td>\n",
       "    </tr>\n",
       "    <tr>\n",
       "      <th>3</th>\n",
       "      <td>1</td>\n",
       "      <td>1</td>\n",
       "      <td>0</td>\n",
       "      <td>35.0</td>\n",
       "      <td>1</td>\n",
       "      <td>0</td>\n",
       "      <td>53.1000</td>\n",
       "    </tr>\n",
       "    <tr>\n",
       "      <th>4</th>\n",
       "      <td>0</td>\n",
       "      <td>3</td>\n",
       "      <td>1</td>\n",
       "      <td>35.0</td>\n",
       "      <td>0</td>\n",
       "      <td>0</td>\n",
       "      <td>8.0500</td>\n",
       "    </tr>\n",
       "  </tbody>\n",
       "</table>\n",
       "</div>"
      ],
      "text/plain": [
       "  survived pclass  sex   age  sibspouse  parchild     fare\n",
       "0        0      3    1  22.0          1         0   7.2500\n",
       "1        1      1    0  38.0          1         0  71.2833\n",
       "2        1      3    0  26.0          0         0   7.9250\n",
       "3        1      1    0  35.0          1         0  53.1000\n",
       "4        0      3    1  35.0          0         0   8.0500"
      ]
     },
     "execution_count": 12,
     "metadata": {},
     "output_type": "execute_result"
    }
   ],
   "source": [
    "# Import LabelEncoder\n",
    "from sklearn import preprocessing\n",
    "\n",
    "# Create LabelEncoder\n",
    "le = preprocessing.LabelEncoder()\n",
    "\n",
    "# Convert string categories into numbers for sex\n",
    "df['sex'] = le.fit_transform(df['sex'])\n",
    "\n",
    "df.head()"
   ]
  },
  {
   "cell_type": "code",
   "execution_count": 13,
   "id": "cac143c9",
   "metadata": {},
   "outputs": [],
   "source": [
    "# Indicate the target column\n",
    "target = df['survived']\n",
    "\n",
    "# Indicate the columns that will serve as features\n",
    "features = df.drop('survived', axis = 1)"
   ]
  },
  {
   "cell_type": "code",
   "execution_count": 14,
   "id": "4f04e959",
   "metadata": {},
   "outputs": [],
   "source": [
    "# Split data into train, validation and test sets\n",
    "\n",
    "# Import train_test_split function\n",
    "from sklearn.model_selection import train_test_split\n",
    "\n",
    "# Split the dataset into training + development set and test set\n",
    "x, x_test, y, y_test = train_test_split(features, target, test_size = 0.2, random_state = 0)\n",
    "                                        \n",
    "# Split the dataset into training set and development set\n",
    "x_train, x_dev, y_train, y_dev = train_test_split(x, y, test_size = 0.2, random_state = 10)"
   ]
  },
  {
   "cell_type": "code",
   "execution_count": 15,
   "id": "a2f1e75f",
   "metadata": {},
   "outputs": [
    {
     "data": {
      "text/html": [
       "<style>#sk-container-id-1 {color: black;background-color: white;}#sk-container-id-1 pre{padding: 0;}#sk-container-id-1 div.sk-toggleable {background-color: white;}#sk-container-id-1 label.sk-toggleable__label {cursor: pointer;display: block;width: 100%;margin-bottom: 0;padding: 0.3em;box-sizing: border-box;text-align: center;}#sk-container-id-1 label.sk-toggleable__label-arrow:before {content: \"▸\";float: left;margin-right: 0.25em;color: #696969;}#sk-container-id-1 label.sk-toggleable__label-arrow:hover:before {color: black;}#sk-container-id-1 div.sk-estimator:hover label.sk-toggleable__label-arrow:before {color: black;}#sk-container-id-1 div.sk-toggleable__content {max-height: 0;max-width: 0;overflow: hidden;text-align: left;background-color: #f0f8ff;}#sk-container-id-1 div.sk-toggleable__content pre {margin: 0.2em;color: black;border-radius: 0.25em;background-color: #f0f8ff;}#sk-container-id-1 input.sk-toggleable__control:checked~div.sk-toggleable__content {max-height: 200px;max-width: 100%;overflow: auto;}#sk-container-id-1 input.sk-toggleable__control:checked~label.sk-toggleable__label-arrow:before {content: \"▾\";}#sk-container-id-1 div.sk-estimator input.sk-toggleable__control:checked~label.sk-toggleable__label {background-color: #d4ebff;}#sk-container-id-1 div.sk-label input.sk-toggleable__control:checked~label.sk-toggleable__label {background-color: #d4ebff;}#sk-container-id-1 input.sk-hidden--visually {border: 0;clip: rect(1px 1px 1px 1px);clip: rect(1px, 1px, 1px, 1px);height: 1px;margin: -1px;overflow: hidden;padding: 0;position: absolute;width: 1px;}#sk-container-id-1 div.sk-estimator {font-family: monospace;background-color: #f0f8ff;border: 1px dotted black;border-radius: 0.25em;box-sizing: border-box;margin-bottom: 0.5em;}#sk-container-id-1 div.sk-estimator:hover {background-color: #d4ebff;}#sk-container-id-1 div.sk-parallel-item::after {content: \"\";width: 100%;border-bottom: 1px solid gray;flex-grow: 1;}#sk-container-id-1 div.sk-label:hover label.sk-toggleable__label {background-color: #d4ebff;}#sk-container-id-1 div.sk-serial::before {content: \"\";position: absolute;border-left: 1px solid gray;box-sizing: border-box;top: 0;bottom: 0;left: 50%;z-index: 0;}#sk-container-id-1 div.sk-serial {display: flex;flex-direction: column;align-items: center;background-color: white;padding-right: 0.2em;padding-left: 0.2em;position: relative;}#sk-container-id-1 div.sk-item {position: relative;z-index: 1;}#sk-container-id-1 div.sk-parallel {display: flex;align-items: stretch;justify-content: center;background-color: white;position: relative;}#sk-container-id-1 div.sk-item::before, #sk-container-id-1 div.sk-parallel-item::before {content: \"\";position: absolute;border-left: 1px solid gray;box-sizing: border-box;top: 0;bottom: 0;left: 50%;z-index: -1;}#sk-container-id-1 div.sk-parallel-item {display: flex;flex-direction: column;z-index: 1;position: relative;background-color: white;}#sk-container-id-1 div.sk-parallel-item:first-child::after {align-self: flex-end;width: 50%;}#sk-container-id-1 div.sk-parallel-item:last-child::after {align-self: flex-start;width: 50%;}#sk-container-id-1 div.sk-parallel-item:only-child::after {width: 0;}#sk-container-id-1 div.sk-dashed-wrapped {border: 1px dashed gray;margin: 0 0.4em 0.5em 0.4em;box-sizing: border-box;padding-bottom: 0.4em;background-color: white;}#sk-container-id-1 div.sk-label label {font-family: monospace;font-weight: bold;display: inline-block;line-height: 1.2em;}#sk-container-id-1 div.sk-label-container {text-align: center;}#sk-container-id-1 div.sk-container {/* jupyter's `normalize.less` sets `[hidden] { display: none; }` but bootstrap.min.css set `[hidden] { display: none !important; }` so we also need the `!important` here to be able to override the default hidden behavior on the sphinx rendered scikit-learn.org. See: https://github.com/scikit-learn/scikit-learn/issues/21755 */display: inline-block !important;position: relative;}#sk-container-id-1 div.sk-text-repr-fallback {display: none;}</style><div id=\"sk-container-id-1\" class=\"sk-top-container\"><div class=\"sk-text-repr-fallback\"><pre>KNeighborsClassifier(n_neighbors=1)</pre><b>In a Jupyter environment, please rerun this cell to show the HTML representation or trust the notebook. <br />On GitHub, the HTML representation is unable to render, please try loading this page with nbviewer.org.</b></div><div class=\"sk-container\" hidden><div class=\"sk-item\"><div class=\"sk-estimator sk-toggleable\"><input class=\"sk-toggleable__control sk-hidden--visually\" id=\"sk-estimator-id-1\" type=\"checkbox\" checked><label for=\"sk-estimator-id-1\" class=\"sk-toggleable__label sk-toggleable__label-arrow\">KNeighborsClassifier</label><div class=\"sk-toggleable__content\"><pre>KNeighborsClassifier(n_neighbors=1)</pre></div></div></div></div></div>"
      ],
      "text/plain": [
       "KNeighborsClassifier(n_neighbors=1)"
      ]
     },
     "execution_count": 15,
     "metadata": {},
     "output_type": "execute_result"
    }
   ],
   "source": [
    "# Training a KNN model\n",
    "\n",
    "# Import k-nearest neighbor classifier\n",
    "from sklearn.neighbors import KNeighborsClassifier\n",
    "\n",
    "# Create a KNN classifier with k = 1\n",
    "knn = KNeighborsClassifier(n_neighbors = 1)\n",
    "\n",
    "# Train the model using the training set\n",
    "knn.fit(x_train, y_train)"
   ]
  },
  {
   "cell_type": "code",
   "execution_count": 16,
   "id": "19482344",
   "metadata": {},
   "outputs": [
    {
     "data": {
      "text/plain": [
       "array(['0', '0', '1', '1', '0', '1', '0', '1', '0', '1', '1', '1', '1',\n",
       "       '0', '1', '1', '0', '1', '1', '1', '0', '0', '1', '0', '0', '0',\n",
       "       '0', '0', '0', '0', '1', '0', '0', '0', '1', '0', '0', '0', '1',\n",
       "       '0', '0', '1', '1', '1', '1', '0', '0', '0', '0', '0', '1', '0',\n",
       "       '0', '1', '0', '0', '0', '0', '0', '0', '0', '0', '1', '0', '0',\n",
       "       '0', '1', '0', '0', '0', '1', '0', '1', '0', '1', '0', '1', '1',\n",
       "       '1', '0', '0', '0', '0', '1', '0', '0', '0', '1', '1', '0', '1',\n",
       "       '1', '1', '0', '0', '0', '0', '0', '1', '0', '0', '0', '1', '0',\n",
       "       '0', '0', '1', '0', '0', '1', '0', '0', '0', '0', '0', '1', '0',\n",
       "       '1', '0', '0', '0', '0', '0', '0', '1', '0', '0', '0', '0', '0',\n",
       "       '1', '0', '1', '0', '0', '1', '1', '0', '1', '1', '0', '1'],\n",
       "      dtype=object)"
      ]
     },
     "execution_count": 16,
     "metadata": {},
     "output_type": "execute_result"
    }
   ],
   "source": [
    "# Predict the target for the development dataset\n",
    "\n",
    "dev_predict = knn.predict(x_dev)\n",
    "dev_predict"
   ]
  },
  {
   "cell_type": "code",
   "execution_count": 17,
   "id": "d8c3e804",
   "metadata": {},
   "outputs": [
    {
     "name": "stdout",
     "output_type": "stream",
     "text": [
      "Accuracy:  0.6901408450704225\n"
     ]
    }
   ],
   "source": [
    "# Evaluate the knn model on development set\n",
    "\n",
    "# Import scikit-learn metrics module for accuracy calculation\n",
    "from sklearn import metrics\n",
    "\n",
    "# Compute the model accuracy on the development set: How often is the classifier correct?\n",
    "print(\"Accuracy: \", metrics.accuracy_score(y_dev, dev_predict))"
   ]
  },
  {
   "cell_type": "code",
   "execution_count": 18,
   "id": "90b29866",
   "metadata": {},
   "outputs": [
    {
     "name": "stdout",
     "output_type": "stream",
     "text": [
      "Accuracy:  0.6830985915492958\n"
     ]
    }
   ],
   "source": [
    "# Create a KNN classifier with k = 5\n",
    "knn = KNeighborsClassifier(n_neighbors = 5)\n",
    "\n",
    "# Train the model using the training set\n",
    "knn.fit(x_train, y_train)\n",
    "\n",
    "# Predict the target for the development set\n",
    "dev_predict = knn.predict(x_dev)\n",
    "\n",
    "# Compute the model accuracy on the development set: How often is the classifier correct?\n",
    "print(\"Accuracy: \", metrics.accuracy_score(y_dev, dev_predict))"
   ]
  },
  {
   "cell_type": "code",
   "execution_count": 19,
   "id": "f69dc77e",
   "metadata": {},
   "outputs": [
    {
     "name": "stdout",
     "output_type": "stream",
     "text": [
      "1 : [0.6901408450704225]\n",
      "2 : [0.6549295774647887]\n",
      "3 : [0.6830985915492958]\n",
      "4 : [0.6690140845070423]\n",
      "5 : [0.6830985915492958]\n",
      "6 : [0.6619718309859155]\n",
      "7 : [0.676056338028169]\n",
      "8 : [0.647887323943662]\n",
      "9 : [0.6619718309859155]\n",
      "10 : [0.6619718309859155]\n",
      "11 : [0.6830985915492958]\n",
      "12 : [0.647887323943662]\n",
      "13 : [0.6619718309859155]\n",
      "14 : [0.6549295774647887]\n",
      "15 : [0.6830985915492958]\n",
      "16 : [0.6830985915492958]\n",
      "17 : [0.676056338028169]\n",
      "18 : [0.6830985915492958]\n",
      "19 : [0.7253521126760564]\n",
      "20 : [0.7464788732394366]\n",
      "21 : [0.7253521126760564]\n",
      "22 : [0.7323943661971831]\n",
      "23 : [0.7394366197183099]\n",
      "24 : [0.7394366197183099]\n",
      "25 : [0.7464788732394366]\n",
      "26 : [0.7464788732394366]\n",
      "27 : [0.7605633802816901]\n",
      "28 : [0.7816901408450704]\n",
      "29 : [0.7746478873239436]\n"
     ]
    }
   ],
   "source": [
    "# Initialize 2 empty lists (K and validation) to store the values of k and validation score\n",
    "# Initialize 1 empty dictionary (scores) to store the k:validation_score (key:value) pairs\n",
    "K = []\n",
    "validation = []\n",
    "scores = {}\n",
    "\n",
    "# The for loop will test k values from 1 to 29\n",
    "for k in range(1, 30):\n",
    "    clf = KNeighborsClassifier(n_neighbors = k)\n",
    "    clf.fit(x_train, y_train)\n",
    "    \n",
    "    # Can also use the score() function to compute accuracy\n",
    "    # Compute accuracy by applying the model on the development set\n",
    "    validation_score = clf.score(x_dev, y_dev)\n",
    "    \n",
    "    # Adds a single item (k value) to the list\n",
    "    K.append(k)\n",
    "    \n",
    "    validation.append(validation_score)\n",
    "    \n",
    "    # A dictionary holds key:value pairs\n",
    "    # Store the validation score for each value of k (k is the key)\n",
    "    scores[k] = [validation_score]\n",
    "    \n",
    "# Print the key:value pairs in scores\n",
    "for keys, values in scores.items():\n",
    "    print(keys, ':', values)"
   ]
  },
  {
   "cell_type": "code",
   "execution_count": 20,
   "id": "60122a12",
   "metadata": {},
   "outputs": [
    {
     "data": {
      "image/png": "[encoded data removed]",
      "text/plain": [
       "<Figure size 1000x800 with 1 Axes>"
      ]
     },
     "metadata": {},
     "output_type": "display_data"
    }
   ],
   "source": [
    "# Import matplotlib library\n",
    "import matplotlib.pyplot as plt\n",
    "\n",
    "# Set font and plot size to be larger\n",
    "plt.rcParams.update({'font.size': 20, 'figure.figsize': (10, 8)})\n",
    "\n",
    "plt.scatter(K, validation, color ='g')\n",
    "plt.show()"
   ]
  },
  {
   "cell_type": "code",
   "execution_count": 21,
   "id": "3a5d9557",
   "metadata": {},
   "outputs": [
    {
     "name": "stdout",
     "output_type": "stream",
     "text": [
      "Accuracy:  0.7676056338028169\n"
     ]
    }
   ],
   "source": [
    "# Create a KNN classifier with k = 28 and manhattan_distance (p = 1)\n",
    "knn = KNeighborsClassifier(n_neighbors = 28, p = 1)\n",
    "\n",
    "# Train the model using the training set\n",
    "knn.fit(x_train, y_train)\n",
    "\n",
    "# Predict the target for the development set\n",
    "dev_predict = knn.predict(x_dev)\n",
    "\n",
    "# Compute the model accuracy on the development set: How often is the classifier correct?\n",
    "print(\"Accuracy: \", metrics.accuracy_score(y_dev, dev_predict))"
   ]
  },
  {
   "cell_type": "code",
   "execution_count": 22,
   "id": "4aa1ccff",
   "metadata": {},
   "outputs": [
    {
     "name": "stdout",
     "output_type": "stream",
     "text": [
      "Accuracy (Dev):  0.7816901408450704\n"
     ]
    }
   ],
   "source": [
    "# Create a KNN classifier with k = 28\n",
    "knn = KNeighborsClassifier(n_neighbors = 28)\n",
    "\n",
    "# Train the model using the training set\n",
    "knn.fit(x_train, y_train)\n",
    "\n",
    "# Predict the target for the development dataset\n",
    "dev_predict = knn.predict(x_dev)\n",
    "\n",
    "# Compute the model accuracy on the development set: How often is the classifier correct?\n",
    "print(\"Accuracy (Dev): \", metrics.accuracy_score(y_dev, dev_predict))"
   ]
  },
  {
   "cell_type": "code",
   "execution_count": 23,
   "id": "1ae930a8",
   "metadata": {},
   "outputs": [
    {
     "name": "stdout",
     "output_type": "stream",
     "text": [
      "Accuracy (Test):  0.7247191011235955\n"
     ]
    }
   ],
   "source": [
    "# Predict the target for the test dataset\n",
    "test_predict = knn.predict(x_test)\n",
    "\n",
    "# Compute the model accuracy on the development set: How often is the classifier correct?\n",
    "print(\"Accuracy (Test): \", metrics.accuracy_score(y_test, test_predict))"
   ]
  },
  {
   "cell_type": "code",
   "execution_count": 24,
   "id": "7e47faf4",
   "metadata": {},
   "outputs": [
    {
     "data": {
      "text/html": [
       "<div>\n",
       "<style scoped>\n",
       "    .dataframe tbody tr th:only-of-type {\n",
       "        vertical-align: middle;\n",
       "    }\n",
       "\n",
       "    .dataframe tbody tr th {\n",
       "        vertical-align: top;\n",
       "    }\n",
       "\n",
       "    .dataframe thead th {\n",
       "        text-align: right;\n",
       "    }\n",
       "</style>\n",
       "<table border=\"1\" class=\"dataframe\">\n",
       "  <thead>\n",
       "    <tr style=\"text-align: right;\">\n",
       "      <th></th>\n",
       "      <th>pclass</th>\n",
       "      <th>sex</th>\n",
       "      <th>age</th>\n",
       "      <th>sibspouse</th>\n",
       "      <th>parchild</th>\n",
       "      <th>fare</th>\n",
       "    </tr>\n",
       "  </thead>\n",
       "  <tbody>\n",
       "    <tr>\n",
       "      <th>0</th>\n",
       "      <td>3</td>\n",
       "      <td>1</td>\n",
       "      <td>22.0</td>\n",
       "      <td>1</td>\n",
       "      <td>0</td>\n",
       "      <td>7.2500</td>\n",
       "    </tr>\n",
       "    <tr>\n",
       "      <th>1</th>\n",
       "      <td>1</td>\n",
       "      <td>0</td>\n",
       "      <td>38.0</td>\n",
       "      <td>1</td>\n",
       "      <td>0</td>\n",
       "      <td>71.2833</td>\n",
       "    </tr>\n",
       "    <tr>\n",
       "      <th>2</th>\n",
       "      <td>3</td>\n",
       "      <td>0</td>\n",
       "      <td>26.0</td>\n",
       "      <td>0</td>\n",
       "      <td>0</td>\n",
       "      <td>7.9250</td>\n",
       "    </tr>\n",
       "    <tr>\n",
       "      <th>3</th>\n",
       "      <td>1</td>\n",
       "      <td>0</td>\n",
       "      <td>35.0</td>\n",
       "      <td>1</td>\n",
       "      <td>0</td>\n",
       "      <td>53.1000</td>\n",
       "    </tr>\n",
       "    <tr>\n",
       "      <th>4</th>\n",
       "      <td>3</td>\n",
       "      <td>1</td>\n",
       "      <td>35.0</td>\n",
       "      <td>0</td>\n",
       "      <td>0</td>\n",
       "      <td>8.0500</td>\n",
       "    </tr>\n",
       "  </tbody>\n",
       "</table>\n",
       "</div>"
      ],
      "text/plain": [
       "  pclass  sex   age  sibspouse  parchild     fare\n",
       "0      3    1  22.0          1         0   7.2500\n",
       "1      1    0  38.0          1         0  71.2833\n",
       "2      3    0  26.0          0         0   7.9250\n",
       "3      1    0  35.0          1         0  53.1000\n",
       "4      3    1  35.0          0         0   8.0500"
      ]
     },
     "execution_count": 24,
     "metadata": {},
     "output_type": "execute_result"
    }
   ],
   "source": [
    "features.head()"
   ]
  },
  {
   "cell_type": "code",
   "execution_count": 25,
   "id": "b27d0c48",
   "metadata": {},
   "outputs": [
    {
     "data": {
      "text/html": [
       "<div>\n",
       "<style scoped>\n",
       "    .dataframe tbody tr th:only-of-type {\n",
       "        vertical-align: middle;\n",
       "    }\n",
       "\n",
       "    .dataframe tbody tr th {\n",
       "        vertical-align: top;\n",
       "    }\n",
       "\n",
       "    .dataframe thead th {\n",
       "        text-align: right;\n",
       "    }\n",
       "</style>\n",
       "<table border=\"1\" class=\"dataframe\">\n",
       "  <thead>\n",
       "    <tr style=\"text-align: right;\">\n",
       "      <th></th>\n",
       "      <th>pclass</th>\n",
       "      <th>sex</th>\n",
       "      <th>age</th>\n",
       "      <th>sibspouse</th>\n",
       "      <th>parchild</th>\n",
       "      <th>fare</th>\n",
       "    </tr>\n",
       "  </thead>\n",
       "  <tbody>\n",
       "    <tr>\n",
       "      <th>0</th>\n",
       "      <td>0.830524</td>\n",
       "      <td>0.740266</td>\n",
       "      <td>-0.529366</td>\n",
       "      <td>0.429904</td>\n",
       "      <td>-0.474981</td>\n",
       "      <td>-0.503586</td>\n",
       "    </tr>\n",
       "    <tr>\n",
       "      <th>1</th>\n",
       "      <td>-1.561277</td>\n",
       "      <td>-1.350867</td>\n",
       "      <td>0.604265</td>\n",
       "      <td>0.429904</td>\n",
       "      <td>-0.474981</td>\n",
       "      <td>0.783412</td>\n",
       "    </tr>\n",
       "    <tr>\n",
       "      <th>2</th>\n",
       "      <td>0.830524</td>\n",
       "      <td>-1.350867</td>\n",
       "      <td>-0.245958</td>\n",
       "      <td>-0.475856</td>\n",
       "      <td>-0.474981</td>\n",
       "      <td>-0.490020</td>\n",
       "    </tr>\n",
       "    <tr>\n",
       "      <th>3</th>\n",
       "      <td>-1.561277</td>\n",
       "      <td>-1.350867</td>\n",
       "      <td>0.391709</td>\n",
       "      <td>0.429904</td>\n",
       "      <td>-0.474981</td>\n",
       "      <td>0.417948</td>\n",
       "    </tr>\n",
       "    <tr>\n",
       "      <th>4</th>\n",
       "      <td>0.830524</td>\n",
       "      <td>0.740266</td>\n",
       "      <td>0.391709</td>\n",
       "      <td>-0.475856</td>\n",
       "      <td>-0.474981</td>\n",
       "      <td>-0.487507</td>\n",
       "    </tr>\n",
       "  </tbody>\n",
       "</table>\n",
       "</div>"
      ],
      "text/plain": [
       "     pclass       sex       age  sibspouse  parchild      fare\n",
       "0  0.830524  0.740266 -0.529366   0.429904 -0.474981 -0.503586\n",
       "1 -1.561277 -1.350867  0.604265   0.429904 -0.474981  0.783412\n",
       "2  0.830524 -1.350867 -0.245958  -0.475856 -0.474981 -0.490020\n",
       "3 -1.561277 -1.350867  0.391709   0.429904 -0.474981  0.417948\n",
       "4  0.830524  0.740266  0.391709  -0.475856 -0.474981 -0.487507"
      ]
     },
     "execution_count": 25,
     "metadata": {},
     "output_type": "execute_result"
    }
   ],
   "source": [
    "from sklearn import preprocessing\n",
    "\n",
    "names = features.columns\n",
    "\n",
    "# Create the Scaler object\n",
    "scaler = preprocessing.StandardScaler()\n",
    "\n",
    "# Fit the data on the Scaler object\n",
    "scaled_features = scaler.fit_transform(features)\n",
    "\n",
    "# After standardization, scaled_features is transformed into an array so we need to convert\n",
    "scaled_features = pd.DataFrame(scaled_features, columns = names)\n",
    "scaled_features.head()"
   ]
  },
  {
   "cell_type": "code",
   "execution_count": 26,
   "id": "d881ce80",
   "metadata": {},
   "outputs": [],
   "source": [
    "# Split data into train, validation and test sets\n",
    "\n",
    "# Import train_test_split function\n",
    "from sklearn.model_selection import train_test_split\n",
    "\n",
    "# Split the dataset into training + development set and test set\n",
    "x, x_test, y, y_test = train_test_split(scaled_features, target, test_size = 0.2, random_state = 0)\n",
    "\n",
    "# Split the dataset into training set and development set\n",
    "x_train, x_dev, y_train, y_dev = train_test_split(x, y, test_size = 0.2, random_state = 10)"
   ]
  },
  {
   "cell_type": "code",
   "execution_count": 27,
   "id": "b48a704e",
   "metadata": {},
   "outputs": [
    {
     "name": "stdout",
     "output_type": "stream",
     "text": [
      "Accuracy (Dev):  0.8380281690140845\n"
     ]
    }
   ],
   "source": [
    "# Create a KNN classifier with k = 3\n",
    "knn = KNeighborsClassifier(n_neighbors = 3)\n",
    "\n",
    "# Train the model using the training set\n",
    "knn.fit(x_train, y_train)\n",
    "\n",
    "# Predict the target for the development dataset\n",
    "dev_predict = knn.predict(x_dev)\n",
    "\n",
    "# Compute the model accuracy on the development set: How often is the classifier correct?\n",
    "print(\"Accuracy (Dev): \", metrics.accuracy_score(y_dev, dev_predict))"
   ]
  },
  {
   "cell_type": "code",
   "execution_count": 28,
   "id": "76fc5d05",
   "metadata": {},
   "outputs": [
    {
     "name": "stdout",
     "output_type": "stream",
     "text": [
      "Accuracy (Test):  0.7696629213483146\n"
     ]
    }
   ],
   "source": [
    "# Predict the target for the test dataset\n",
    "test_predict = knn.predict(x_test)\n",
    "\n",
    "# Compute the model accuracy on the development set: How often is the classifier correct?\n",
    "print(\"Accuracy (Test): \", metrics.accuracy_score(y_test, test_predict))"
   ]
  },
  {
   "cell_type": "code",
   "execution_count": 29,
   "id": "937f6fb1",
   "metadata": {},
   "outputs": [
    {
     "data": {
      "text/html": [
       "<div>\n",
       "<style scoped>\n",
       "    .dataframe tbody tr th:only-of-type {\n",
       "        vertical-align: middle;\n",
       "    }\n",
       "\n",
       "    .dataframe tbody tr th {\n",
       "        vertical-align: top;\n",
       "    }\n",
       "\n",
       "    .dataframe thead th {\n",
       "        text-align: right;\n",
       "    }\n",
       "</style>\n",
       "<table border=\"1\" class=\"dataframe\">\n",
       "  <thead>\n",
       "    <tr style=\"text-align: right;\">\n",
       "      <th></th>\n",
       "      <th>survived</th>\n",
       "      <th>pclass</th>\n",
       "      <th>sex</th>\n",
       "      <th>age</th>\n",
       "      <th>sibspouse</th>\n",
       "      <th>parchild</th>\n",
       "      <th>fare</th>\n",
       "    </tr>\n",
       "  </thead>\n",
       "  <tbody>\n",
       "    <tr>\n",
       "      <th>0</th>\n",
       "      <td>0</td>\n",
       "      <td>3</td>\n",
       "      <td>1</td>\n",
       "      <td>22.0</td>\n",
       "      <td>1</td>\n",
       "      <td>0</td>\n",
       "      <td>7.2500</td>\n",
       "    </tr>\n",
       "    <tr>\n",
       "      <th>1</th>\n",
       "      <td>1</td>\n",
       "      <td>1</td>\n",
       "      <td>0</td>\n",
       "      <td>38.0</td>\n",
       "      <td>1</td>\n",
       "      <td>0</td>\n",
       "      <td>71.2833</td>\n",
       "    </tr>\n",
       "    <tr>\n",
       "      <th>2</th>\n",
       "      <td>1</td>\n",
       "      <td>3</td>\n",
       "      <td>0</td>\n",
       "      <td>26.0</td>\n",
       "      <td>0</td>\n",
       "      <td>0</td>\n",
       "      <td>7.9250</td>\n",
       "    </tr>\n",
       "    <tr>\n",
       "      <th>3</th>\n",
       "      <td>1</td>\n",
       "      <td>1</td>\n",
       "      <td>0</td>\n",
       "      <td>35.0</td>\n",
       "      <td>1</td>\n",
       "      <td>0</td>\n",
       "      <td>53.1000</td>\n",
       "    </tr>\n",
       "    <tr>\n",
       "      <th>4</th>\n",
       "      <td>0</td>\n",
       "      <td>3</td>\n",
       "      <td>1</td>\n",
       "      <td>35.0</td>\n",
       "      <td>0</td>\n",
       "      <td>0</td>\n",
       "      <td>8.0500</td>\n",
       "    </tr>\n",
       "  </tbody>\n",
       "</table>\n",
       "</div>"
      ],
      "text/plain": [
       "  survived pclass  sex   age  sibspouse  parchild     fare\n",
       "0        0      3    1  22.0          1         0   7.2500\n",
       "1        1      1    0  38.0          1         0  71.2833\n",
       "2        1      3    0  26.0          0         0   7.9250\n",
       "3        1      1    0  35.0          1         0  53.1000\n",
       "4        0      3    1  35.0          0         0   8.0500"
      ]
     },
     "execution_count": 29,
     "metadata": {},
     "output_type": "execute_result"
    }
   ],
   "source": [
    "# Save the original data after data cleaning\n",
    "df.to_csv(r'data/titanic_unscaled.csv', index = False, header = True)\n",
    "\n",
    "# View first 5 rows of the orginal dataset after data cleaning\n",
    "df.head()"
   ]
  },
  {
   "cell_type": "code",
   "execution_count": 30,
   "id": "dda505ab",
   "metadata": {},
   "outputs": [
    {
     "data": {
      "text/html": [
       "<div>\n",
       "<style scoped>\n",
       "    .dataframe tbody tr th:only-of-type {\n",
       "        vertical-align: middle;\n",
       "    }\n",
       "\n",
       "    .dataframe tbody tr th {\n",
       "        vertical-align: top;\n",
       "    }\n",
       "\n",
       "    .dataframe thead th {\n",
       "        text-align: right;\n",
       "    }\n",
       "</style>\n",
       "<table border=\"1\" class=\"dataframe\">\n",
       "  <thead>\n",
       "    <tr style=\"text-align: right;\">\n",
       "      <th></th>\n",
       "      <th>survived</th>\n",
       "      <th>pclass</th>\n",
       "      <th>sex</th>\n",
       "      <th>age</th>\n",
       "      <th>sibspouse</th>\n",
       "      <th>parchild</th>\n",
       "      <th>fare</th>\n",
       "    </tr>\n",
       "  </thead>\n",
       "  <tbody>\n",
       "    <tr>\n",
       "      <th>0</th>\n",
       "      <td>0</td>\n",
       "      <td>0.830524</td>\n",
       "      <td>0.740266</td>\n",
       "      <td>-0.529366</td>\n",
       "      <td>0.429904</td>\n",
       "      <td>-0.474981</td>\n",
       "      <td>-0.503586</td>\n",
       "    </tr>\n",
       "    <tr>\n",
       "      <th>1</th>\n",
       "      <td>1</td>\n",
       "      <td>-1.561277</td>\n",
       "      <td>-1.350867</td>\n",
       "      <td>0.604265</td>\n",
       "      <td>0.429904</td>\n",
       "      <td>-0.474981</td>\n",
       "      <td>0.783412</td>\n",
       "    </tr>\n",
       "    <tr>\n",
       "      <th>2</th>\n",
       "      <td>1</td>\n",
       "      <td>0.830524</td>\n",
       "      <td>-1.350867</td>\n",
       "      <td>-0.245958</td>\n",
       "      <td>-0.475856</td>\n",
       "      <td>-0.474981</td>\n",
       "      <td>-0.490020</td>\n",
       "    </tr>\n",
       "    <tr>\n",
       "      <th>3</th>\n",
       "      <td>1</td>\n",
       "      <td>-1.561277</td>\n",
       "      <td>-1.350867</td>\n",
       "      <td>0.391709</td>\n",
       "      <td>0.429904</td>\n",
       "      <td>-0.474981</td>\n",
       "      <td>0.417948</td>\n",
       "    </tr>\n",
       "    <tr>\n",
       "      <th>4</th>\n",
       "      <td>0</td>\n",
       "      <td>0.830524</td>\n",
       "      <td>0.740266</td>\n",
       "      <td>0.391709</td>\n",
       "      <td>-0.475856</td>\n",
       "      <td>-0.474981</td>\n",
       "      <td>-0.487507</td>\n",
       "    </tr>\n",
       "  </tbody>\n",
       "</table>\n",
       "</div>"
      ],
      "text/plain": [
       "  survived    pclass       sex       age  sibspouse  parchild      fare\n",
       "0        0  0.830524  0.740266 -0.529366   0.429904 -0.474981 -0.503586\n",
       "1        1 -1.561277 -1.350867  0.604265   0.429904 -0.474981  0.783412\n",
       "2        1  0.830524 -1.350867 -0.245958  -0.475856 -0.474981 -0.490020\n",
       "3        1 -1.561277 -1.350867  0.391709   0.429904 -0.474981  0.417948\n",
       "4        0  0.830524  0.740266  0.391709  -0.475856 -0.474981 -0.487507"
      ]
     },
     "execution_count": 30,
     "metadata": {},
     "output_type": "execute_result"
    }
   ],
   "source": [
    "# Concatenate scaled features with target\n",
    "df_scaled = pd.concat([target, scaled_features], axis=1)\n",
    "\n",
    "df_scaled.head()"
   ]
  },
  {
   "cell_type": "code",
   "execution_count": 31,
   "id": "94f9242f",
   "metadata": {},
   "outputs": [],
   "source": [
    "# Save the data with target and scaled features\n",
    "df_scaled.to_csv(r'data/titanic_scaled.csv', index = False, header = True)"
   ]
  }
 ],
 "metadata": {
  "kernelspec": {
   "display_name": "Python 3 (ipykernel)",
   "language": "python",
   "name": "python3"
  },
  "language_info": {
   "codemirror_mode": {
    "name": "ipython",
    "version": 3
   },
   "file_extension": ".py",
   "mimetype": "text/x-python",
   "name": "python",
   "nbconvert_exporter": "python",
   "pygments_lexer": "ipython3",
   "version": "3.9.16"
  }
 },
 "nbformat": 4,
 "nbformat_minor": 5
}
