{
 "cells": [
  {
   "cell_type": "markdown",
   "id": "cde8340d",
   "metadata": {},
   "source": [
    "## Predictive Maintenance of NASA Turbofan Engines"
   ]
  },
  {
   "cell_type": "markdown",
   "id": "fc0895c2",
   "metadata": {},
   "source": [
    "The goal of the project focuses on prediction of the RUL (Remaining Useful Lifestyle) of the turbofan engine. The dataset can be obtained thro https://www.kaggle.com/datasets/behrad3d/nasa-cmaps."
   ]
  },
  {
   "cell_type": "markdown",
   "id": "d705ca9a",
   "metadata": {},
   "source": [
    "### 1. Overview of the dataset"
   ]
  },
  {
   "cell_type": "code",
   "execution_count": 32,
   "id": "313d1ba5",
   "metadata": {},
   "outputs": [],
   "source": [
    "import pandas as pd\n",
    "import numpy as np\n",
    "import matplotlib.pyplot as plt\n",
    "import seaborn as sns"
   ]
  },
  {
   "cell_type": "code",
   "execution_count": 33,
   "id": "4de4d30b",
   "metadata": {},
   "outputs": [],
   "source": [
    "# setting to show all rows, comment to disable it\n",
    "\n",
    "# pd.set_option('display.max_rows', None)"
   ]
  },
  {
   "cell_type": "code",
   "execution_count": 34,
   "id": "fa9c7eaa",
   "metadata": {},
   "outputs": [],
   "source": [
    "index_names = ['unit_number', 'time_cycles']\n",
    "setting_names = ['setting_1', 'setting_2', 'setting_3']\n",
    "sensor_names = ['sensor_{}'.format(i+1) for i in range(0,21)]\n",
    "col_names = index_names + setting_names + sensor_names"
   ]
  },
  {
   "cell_type": "code",
   "execution_count": 35,
   "id": "ea408ccc",
   "metadata": {},
   "outputs": [],
   "source": [
    "sensor_dictionary = {}\n",
    "\n",
    "dict_list= [ \n",
    "    \"(Fan inlet temperature) (◦R)\",\n",
    "    \"(LPC outlet temperature) (◦R)\",\n",
    "    \"(HPC outlet temperature) (◦R)\",\n",
    "    \"(LPT outlet temperature) (◦R)\",\n",
    "    \"(Fan inlet Pressure) (psia)\",\n",
    "    \"(bypass-duct pressure) (psia)\",\n",
    "    \"(HPC outlet pressure) (psia)\",\n",
    "    \"(Physical fan speed) (rpm)\",\n",
    "    \"(Physical core speed) (rpm)\",\n",
    "    \"(Engine pressure ratio(P50/P2)\",\n",
    "    \"(HPC outlet Static pressure) (psia)\",\n",
    "    \"(Ratio of fuel flow to Ps30) (pps/psia)\",\n",
    "    \"(Corrected fan speed) (rpm)\",\n",
    "    \"(Corrected core speed) (rpm)\",\n",
    "    \"(Bypass Ratio) \",\n",
    "    \"(Burner fuel-air ratio)\",\n",
    "    \"(Bleed Enthalpy)\",\n",
    "    \"(Required fan speed)\",\n",
    "    \"(Required fan conversion speed)\",\n",
    "    \"(High-pressure turbines Cool air flow)\",\n",
    "    \"(Low-pressure turbines Cool air flow)\" \n",
    "]"
   ]
  },
  {
   "cell_type": "code",
   "execution_count": 36,
   "id": "a77fdeff",
   "metadata": {},
   "outputs": [],
   "source": [
    "df_train_fd001 = pd.read_csv('data/CMaps/train_FD001.txt', header = None, index_col = False, sep = '\\s+', names = col_names)\n",
    "df_train_fd002 = pd.read_csv('data/CMaps/train_FD002.txt', header = None, index_col = False, sep = '\\s+', names = col_names)\n",
    "df_train_fd003 = pd.read_csv('data/CMaps/train_FD003.txt', header = None, index_col = False, sep = '\\s+', names = col_names)\n",
    "df_train_fd004 = pd.read_csv('data/CMaps/train_FD004.txt', header = None, index_col = False, sep = '\\s+', names = col_names)\n",
    "\n",
    "df_test_fd001 = pd.read_csv('data/CMaps/test_FD001.txt', header = None, index_col = False, sep = '\\s+', names = col_names)\n",
    "df_test_fd002 = pd.read_csv('data/CMaps/test_FD002.txt', header = None, index_col = False, sep = '\\s+', names = col_names)\n",
    "df_test_fd003 = pd.read_csv('data/CMaps/test_FD003.txt', header = None, index_col = False, sep = '\\s+', names = col_names)\n",
    "df_test_fd004 = pd.read_csv('data/CMaps/test_FD004.txt', header = None, index_col = False, sep = '\\s+', names = col_names)\n",
    "\n",
    "y_fd001 = pd.read_csv('data/CMaps/RUL_FD001.txt', header = None, index_col = False, sep = '\\s+', names=['RUL'])\n",
    "y_fd002 = pd.read_csv('data/CMaps/RUL_FD002.txt', header = None, index_col = False, sep = '\\s+', names=['RUL'])\n",
    "y_fd003 = pd.read_csv('data/CMaps/RUL_FD003.txt', header = None, index_col = False, sep = '\\s+', names=['RUL'])\n",
    "y_fd004 = pd.read_csv('data/CMaps/RUL_FD004.txt', header = None, index_col = False, sep = '\\s+', names=['RUL'])"
   ]
  },
  {
   "cell_type": "code",
   "execution_count": 37,
   "id": "d3334a77",
   "metadata": {},
   "outputs": [
    {
     "data": {
      "text/html": [
       "<div>\n",
       "<style scoped>\n",
       "    .dataframe tbody tr th:only-of-type {\n",
       "        vertical-align: middle;\n",
       "    }\n",
       "\n",
       "    .dataframe tbody tr th {\n",
       "        vertical-align: top;\n",
       "    }\n",
       "\n",
       "    .dataframe thead th {\n",
       "        text-align: right;\n",
       "    }\n",
       "</style>\n",
       "<table border=\"1\" class=\"dataframe\">\n",
       "  <thead>\n",
       "    <tr style=\"text-align: right;\">\n",
       "      <th></th>\n",
       "      <th>unit_number</th>\n",
       "      <th>time_cycles</th>\n",
       "      <th>setting_1</th>\n",
       "      <th>setting_2</th>\n",
       "      <th>setting_3</th>\n",
       "      <th>sensor_1</th>\n",
       "      <th>sensor_2</th>\n",
       "      <th>sensor_3</th>\n",
       "      <th>sensor_4</th>\n",
       "      <th>sensor_5</th>\n",
       "      <th>...</th>\n",
       "      <th>sensor_12</th>\n",
       "      <th>sensor_13</th>\n",
       "      <th>sensor_14</th>\n",
       "      <th>sensor_15</th>\n",
       "      <th>sensor_16</th>\n",
       "      <th>sensor_17</th>\n",
       "      <th>sensor_18</th>\n",
       "      <th>sensor_19</th>\n",
       "      <th>sensor_20</th>\n",
       "      <th>sensor_21</th>\n",
       "    </tr>\n",
       "  </thead>\n",
       "  <tbody>\n",
       "    <tr>\n",
       "      <th>count</th>\n",
       "      <td>53759.000000</td>\n",
       "      <td>53759.000000</td>\n",
       "      <td>53759.000000</td>\n",
       "      <td>53759.000000</td>\n",
       "      <td>53759.000000</td>\n",
       "      <td>53759.000000</td>\n",
       "      <td>53759.000000</td>\n",
       "      <td>53759.000000</td>\n",
       "      <td>53759.000000</td>\n",
       "      <td>53759.000000</td>\n",
       "      <td>...</td>\n",
       "      <td>53759.000000</td>\n",
       "      <td>53759.000000</td>\n",
       "      <td>53759.000000</td>\n",
       "      <td>53759.000000</td>\n",
       "      <td>53759.000000</td>\n",
       "      <td>53759.000000</td>\n",
       "      <td>53759.000000</td>\n",
       "      <td>53759.000000</td>\n",
       "      <td>53759.000000</td>\n",
       "      <td>53759.000000</td>\n",
       "    </tr>\n",
       "    <tr>\n",
       "      <th>mean</th>\n",
       "      <td>131.082981</td>\n",
       "      <td>109.154746</td>\n",
       "      <td>23.998407</td>\n",
       "      <td>0.572056</td>\n",
       "      <td>94.046020</td>\n",
       "      <td>472.910207</td>\n",
       "      <td>579.672399</td>\n",
       "      <td>1419.971013</td>\n",
       "      <td>1205.442024</td>\n",
       "      <td>8.031986</td>\n",
       "      <td>...</td>\n",
       "      <td>266.069034</td>\n",
       "      <td>2334.557253</td>\n",
       "      <td>8066.597682</td>\n",
       "      <td>9.329654</td>\n",
       "      <td>0.023326</td>\n",
       "      <td>348.309511</td>\n",
       "      <td>2228.806358</td>\n",
       "      <td>97.756838</td>\n",
       "      <td>20.789296</td>\n",
       "      <td>12.473423</td>\n",
       "    </tr>\n",
       "    <tr>\n",
       "      <th>std</th>\n",
       "      <td>74.463862</td>\n",
       "      <td>69.180569</td>\n",
       "      <td>14.747376</td>\n",
       "      <td>0.310016</td>\n",
       "      <td>14.237735</td>\n",
       "      <td>26.389707</td>\n",
       "      <td>37.289399</td>\n",
       "      <td>105.946341</td>\n",
       "      <td>119.123428</td>\n",
       "      <td>3.613839</td>\n",
       "      <td>...</td>\n",
       "      <td>137.659507</td>\n",
       "      <td>128.068271</td>\n",
       "      <td>84.837950</td>\n",
       "      <td>0.749335</td>\n",
       "      <td>0.004711</td>\n",
       "      <td>27.754515</td>\n",
       "      <td>145.327980</td>\n",
       "      <td>5.364067</td>\n",
       "      <td>9.869331</td>\n",
       "      <td>5.921615</td>\n",
       "    </tr>\n",
       "    <tr>\n",
       "      <th>min</th>\n",
       "      <td>1.000000</td>\n",
       "      <td>1.000000</td>\n",
       "      <td>0.000000</td>\n",
       "      <td>0.000000</td>\n",
       "      <td>60.000000</td>\n",
       "      <td>445.000000</td>\n",
       "      <td>535.530000</td>\n",
       "      <td>1243.730000</td>\n",
       "      <td>1023.770000</td>\n",
       "      <td>3.910000</td>\n",
       "      <td>...</td>\n",
       "      <td>129.120000</td>\n",
       "      <td>2027.610000</td>\n",
       "      <td>7848.360000</td>\n",
       "      <td>8.335700</td>\n",
       "      <td>0.020000</td>\n",
       "      <td>303.000000</td>\n",
       "      <td>1915.000000</td>\n",
       "      <td>84.930000</td>\n",
       "      <td>10.180000</td>\n",
       "      <td>6.010500</td>\n",
       "    </tr>\n",
       "    <tr>\n",
       "      <th>25%</th>\n",
       "      <td>68.000000</td>\n",
       "      <td>52.000000</td>\n",
       "      <td>10.004600</td>\n",
       "      <td>0.250700</td>\n",
       "      <td>100.000000</td>\n",
       "      <td>445.000000</td>\n",
       "      <td>549.570000</td>\n",
       "      <td>1352.760000</td>\n",
       "      <td>1123.655000</td>\n",
       "      <td>3.910000</td>\n",
       "      <td>...</td>\n",
       "      <td>131.520000</td>\n",
       "      <td>2387.900000</td>\n",
       "      <td>8062.140000</td>\n",
       "      <td>8.677800</td>\n",
       "      <td>0.020000</td>\n",
       "      <td>331.000000</td>\n",
       "      <td>2212.000000</td>\n",
       "      <td>100.000000</td>\n",
       "      <td>10.910000</td>\n",
       "      <td>6.546300</td>\n",
       "    </tr>\n",
       "    <tr>\n",
       "      <th>50%</th>\n",
       "      <td>131.000000</td>\n",
       "      <td>104.000000</td>\n",
       "      <td>25.001300</td>\n",
       "      <td>0.700000</td>\n",
       "      <td>100.000000</td>\n",
       "      <td>462.540000</td>\n",
       "      <td>555.980000</td>\n",
       "      <td>1369.180000</td>\n",
       "      <td>1138.890000</td>\n",
       "      <td>7.050000</td>\n",
       "      <td>...</td>\n",
       "      <td>183.200000</td>\n",
       "      <td>2388.080000</td>\n",
       "      <td>8082.540000</td>\n",
       "      <td>9.310900</td>\n",
       "      <td>0.020000</td>\n",
       "      <td>335.000000</td>\n",
       "      <td>2223.000000</td>\n",
       "      <td>100.000000</td>\n",
       "      <td>14.880000</td>\n",
       "      <td>8.929200</td>\n",
       "    </tr>\n",
       "    <tr>\n",
       "      <th>75%</th>\n",
       "      <td>195.000000</td>\n",
       "      <td>157.000000</td>\n",
       "      <td>41.998000</td>\n",
       "      <td>0.840000</td>\n",
       "      <td>100.000000</td>\n",
       "      <td>491.190000</td>\n",
       "      <td>607.340000</td>\n",
       "      <td>1499.370000</td>\n",
       "      <td>1306.850000</td>\n",
       "      <td>10.520000</td>\n",
       "      <td>...</td>\n",
       "      <td>371.260000</td>\n",
       "      <td>2388.170000</td>\n",
       "      <td>8127.195000</td>\n",
       "      <td>9.386900</td>\n",
       "      <td>0.030000</td>\n",
       "      <td>369.000000</td>\n",
       "      <td>2324.000000</td>\n",
       "      <td>100.000000</td>\n",
       "      <td>28.470000</td>\n",
       "      <td>17.083200</td>\n",
       "    </tr>\n",
       "    <tr>\n",
       "      <th>max</th>\n",
       "      <td>260.000000</td>\n",
       "      <td>378.000000</td>\n",
       "      <td>42.008000</td>\n",
       "      <td>0.842000</td>\n",
       "      <td>100.000000</td>\n",
       "      <td>518.670000</td>\n",
       "      <td>644.520000</td>\n",
       "      <td>1612.880000</td>\n",
       "      <td>1439.230000</td>\n",
       "      <td>14.620000</td>\n",
       "      <td>...</td>\n",
       "      <td>523.370000</td>\n",
       "      <td>2390.480000</td>\n",
       "      <td>8268.500000</td>\n",
       "      <td>11.066900</td>\n",
       "      <td>0.030000</td>\n",
       "      <td>399.000000</td>\n",
       "      <td>2388.000000</td>\n",
       "      <td>100.000000</td>\n",
       "      <td>39.340000</td>\n",
       "      <td>23.590100</td>\n",
       "    </tr>\n",
       "  </tbody>\n",
       "</table>\n",
       "<p>8 rows × 26 columns</p>\n",
       "</div>"
      ],
      "text/plain": [
       "        unit_number   time_cycles     setting_1     setting_2     setting_3  \\\n",
       "count  53759.000000  53759.000000  53759.000000  53759.000000  53759.000000   \n",
       "mean     131.082981    109.154746     23.998407      0.572056     94.046020   \n",
       "std       74.463862     69.180569     14.747376      0.310016     14.237735   \n",
       "min        1.000000      1.000000      0.000000      0.000000     60.000000   \n",
       "25%       68.000000     52.000000     10.004600      0.250700    100.000000   \n",
       "50%      131.000000    104.000000     25.001300      0.700000    100.000000   \n",
       "75%      195.000000    157.000000     41.998000      0.840000    100.000000   \n",
       "max      260.000000    378.000000     42.008000      0.842000    100.000000   \n",
       "\n",
       "           sensor_1      sensor_2      sensor_3      sensor_4      sensor_5  \\\n",
       "count  53759.000000  53759.000000  53759.000000  53759.000000  53759.000000   \n",
       "mean     472.910207    579.672399   1419.971013   1205.442024      8.031986   \n",
       "std       26.389707     37.289399    105.946341    119.123428      3.613839   \n",
       "min      445.000000    535.530000   1243.730000   1023.770000      3.910000   \n",
       "25%      445.000000    549.570000   1352.760000   1123.655000      3.910000   \n",
       "50%      462.540000    555.980000   1369.180000   1138.890000      7.050000   \n",
       "75%      491.190000    607.340000   1499.370000   1306.850000     10.520000   \n",
       "max      518.670000    644.520000   1612.880000   1439.230000     14.620000   \n",
       "\n",
       "       ...     sensor_12     sensor_13     sensor_14     sensor_15  \\\n",
       "count  ...  53759.000000  53759.000000  53759.000000  53759.000000   \n",
       "mean   ...    266.069034   2334.557253   8066.597682      9.329654   \n",
       "std    ...    137.659507    128.068271     84.837950      0.749335   \n",
       "min    ...    129.120000   2027.610000   7848.360000      8.335700   \n",
       "25%    ...    131.520000   2387.900000   8062.140000      8.677800   \n",
       "50%    ...    183.200000   2388.080000   8082.540000      9.310900   \n",
       "75%    ...    371.260000   2388.170000   8127.195000      9.386900   \n",
       "max    ...    523.370000   2390.480000   8268.500000     11.066900   \n",
       "\n",
       "          sensor_16     sensor_17     sensor_18     sensor_19     sensor_20  \\\n",
       "count  53759.000000  53759.000000  53759.000000  53759.000000  53759.000000   \n",
       "mean       0.023326    348.309511   2228.806358     97.756838     20.789296   \n",
       "std        0.004711     27.754515    145.327980      5.364067      9.869331   \n",
       "min        0.020000    303.000000   1915.000000     84.930000     10.180000   \n",
       "25%        0.020000    331.000000   2212.000000    100.000000     10.910000   \n",
       "50%        0.020000    335.000000   2223.000000    100.000000     14.880000   \n",
       "75%        0.030000    369.000000   2324.000000    100.000000     28.470000   \n",
       "max        0.030000    399.000000   2388.000000    100.000000     39.340000   \n",
       "\n",
       "          sensor_21  \n",
       "count  53759.000000  \n",
       "mean      12.473423  \n",
       "std        5.921615  \n",
       "min        6.010500  \n",
       "25%        6.546300  \n",
       "50%        8.929200  \n",
       "75%       17.083200  \n",
       "max       23.590100  \n",
       "\n",
       "[8 rows x 26 columns]"
      ]
     },
     "execution_count": 37,
     "metadata": {},
     "output_type": "execute_result"
    }
   ],
   "source": [
    "df_train_fd002.describe()"
   ]
  },
  {
   "cell_type": "code",
   "execution_count": 38,
   "id": "af33b2e3",
   "metadata": {},
   "outputs": [],
   "source": [
    "train_fd001 = df_train_fd001.copy()\n",
    "train_fd002 = df_train_fd002.copy()\n",
    "train_fd003 = df_train_fd003.copy()\n",
    "train_fd004 = df_train_fd004.copy()"
   ]
  },
  {
   "cell_type": "code",
   "execution_count": 8,
   "id": "31740e0f",
   "metadata": {},
   "outputs": [
    {
     "data": {
      "text/plain": [
       "61249"
      ]
     },
     "execution_count": 8,
     "metadata": {},
     "output_type": "execute_result"
    }
   ],
   "source": [
    "len(train_fd004)"
   ]
  },
  {
   "cell_type": "code",
   "execution_count": 9,
   "id": "f9ffff91",
   "metadata": {},
   "outputs": [
    {
     "data": {
      "text/plain": [
       "24720"
      ]
     },
     "execution_count": 9,
     "metadata": {},
     "output_type": "execute_result"
    }
   ],
   "source": [
    "len(train_fd003)"
   ]
  },
  {
   "cell_type": "code",
   "execution_count": 10,
   "id": "1f077879",
   "metadata": {},
   "outputs": [
    {
     "data": {
      "text/plain": [
       "53759"
      ]
     },
     "execution_count": 10,
     "metadata": {},
     "output_type": "execute_result"
    }
   ],
   "source": [
    "len(train_fd002)"
   ]
  },
  {
   "cell_type": "code",
   "execution_count": 11,
   "id": "65d21680",
   "metadata": {},
   "outputs": [
    {
     "data": {
      "text/plain": [
       "20631"
      ]
     },
     "execution_count": 11,
     "metadata": {},
     "output_type": "execute_result"
    }
   ],
   "source": [
    "len(train_fd001)"
   ]
  },
  {
   "cell_type": "code",
   "execution_count": 39,
   "id": "9ef7b4ad",
   "metadata": {},
   "outputs": [],
   "source": [
    "def add_rul_column(df):\n",
    "    train_grouped_by_unit = df.groupby(by='unit_number') \n",
    "    max_time_cycles = train_grouped_by_unit['time_cycles'].max()  \n",
    "    merged = df.merge(max_time_cycles.to_frame(name = 'max_time_cycle'), left_on = 'unit_number', right_index = True)\n",
    "    merged[\"rul\"] = merged[\"max_time_cycle\"] - merged['time_cycles']\n",
    "    merged = merged.drop(\"max_time_cycle\", axis = 1)\n",
    "\n",
    "    return merged"
   ]
  },
  {
   "cell_type": "code",
   "execution_count": 80,
   "id": "41f19ca0",
   "metadata": {},
   "outputs": [],
   "source": [
    "def add_rul_column_test(df, dfy):\n",
    "    y_test = dfy.copy()\n",
    "    y_test[\"unit_number\"] = y_test.index + 1\n",
    "    max_rul = pd.DataFrame(df.groupby('unit_number')['time_cycles'].max()).reset_index()\n",
    "    max_rul.columns = ['unit_number', 'max_time_cycles']\n",
    "    merged = y_test.merge(max_rul, how = 'inner', on = 'unit_number')\n",
    "    merged[\"failed_rul\"] = merged[\"RUL\"] + merged[\"max_time_cycles\"]\n",
    "    merged.drop([\"RUL\", \"max_time_cycles\"], axis = 1)\n",
    "    merged_c = merged.drop([\"RUL\", \"max_time_cycles\"], axis = 1)\n",
    "    test = pd.DataFrame(df.groupby('unit_number')['time_cycles'].max()).reset_index().merge(merged_c, how = 'inner', on = 'unit_number')\n",
    "    test = test.drop([\"time_cycles\"], axis = 1)\n",
    "    \n",
    "    return test"
   ]
  },
  {
   "cell_type": "code",
   "execution_count": 41,
   "id": "1507c202",
   "metadata": {},
   "outputs": [],
   "source": [
    "train_fd001 = add_rul_column(train_fd001)\n",
    "train_fd002 = add_rul_column(train_fd002)\n",
    "train_fd003 = add_rul_column(train_fd003)\n",
    "train_fd004 = add_rul_column(train_fd004)"
   ]
  },
  {
   "cell_type": "code",
   "execution_count": 14,
   "id": "95c817aa",
   "metadata": {},
   "outputs": [],
   "source": [
    "# Convert to csv\n",
    "\n",
    "train_fd001.to_csv(\"data/train_fd001_with_rul.csv\", index = False)\n",
    "train_fd002.to_csv(\"data/train_fd002_with_rul.csv\", index = False)\n",
    "train_fd003.to_csv(\"data/train_fd003_with_rul.csv\", index = False)\n",
    "train_fd004.to_csv(\"data/train_fd004_with_rul.csv\", index = False)"
   ]
  },
  {
   "cell_type": "code",
   "execution_count": 89,
   "id": "b7eb463b",
   "metadata": {},
   "outputs": [],
   "source": [
    "test_fd001 = df_test_fd001.copy()\n",
    "test_fd002 = df_test_fd002.copy()\n",
    "test_fd003 = df_test_fd003.copy()\n",
    "test_fd004 = df_test_fd004.copy()\n",
    "\n",
    "f_test_fd001 = add_rul_column_test(test_fd001, y_fd001)\n",
    "f_test_fd002 = add_rul_column_test(test_fd002, y_fd002)\n",
    "f_test_fd003 = add_rul_column_test(test_fd003, y_fd003)\n",
    "f_test_fd004 = add_rul_column_test(test_fd004, y_fd004)\n",
    "\n",
    "test_fd001 = test_fd001.merge(f_test_fd001, how = 'inner', on = 'unit_number')\n",
    "test_fd001['rul'] = test_fd001['failed_rul'] - test_fd001['time_cycles']\n",
    "test_fd001 = test_fd001.drop([\"failed_rul\"], axis = 1)\n",
    "\n",
    "test_fd002 = test_fd002.merge(f_test_fd002, how = 'inner', on = 'unit_number')\n",
    "test_fd002['rul'] = test_fd002['failed_rul'] - test_fd002['time_cycles']\n",
    "test_fd002 = test_fd002.drop([\"failed_rul\"], axis = 1)\n",
    "\n",
    "test_fd003 = test_fd003.merge(f_test_fd003, how = 'inner', on = 'unit_number')\n",
    "test_fd003['rul'] = test_fd003['failed_rul'] - test_fd003['time_cycles']\n",
    "test_fd003 = test_fd003.drop([\"failed_rul\"], axis = 1)\n",
    "\n",
    "test_fd004 = test_fd004.merge(f_test_fd004, how = 'inner', on = 'unit_number')\n",
    "test_fd004['rul'] = test_fd004['failed_rul'] - test_fd004['time_cycles']\n",
    "test_fd004 = test_fd004.drop([\"failed_rul\"], axis = 1)"
   ]
  },
  {
   "cell_type": "code",
   "execution_count": 90,
   "id": "128a4c53",
   "metadata": {},
   "outputs": [],
   "source": [
    "# Convert to csv\n",
    "\n",
    "test_fd001.to_csv(\"data/test_fd001_with_rul.csv\", index = False)\n",
    "test_fd002.to_csv(\"data/test_fd002_with_rul.csv\", index = False)\n",
    "test_fd003.to_csv(\"data/test_fd003_with_rul.csv\", index = False)\n",
    "test_fd004.to_csv(\"data/test_fd004_with_rul.csv\", index = False)"
   ]
  }
 ],
 "metadata": {
  "kernelspec": {
   "display_name": "Python 3 (ipykernel)",
   "language": "python",
   "name": "python3"
  },
  "language_info": {
   "codemirror_mode": {
    "name": "ipython",
    "version": 3
   },
   "file_extension": ".py",
   "mimetype": "text/x-python",
   "name": "python",
   "nbconvert_exporter": "python",
   "pygments_lexer": "ipython3",
   "version": "3.9.16"
  }
 },
 "nbformat": 4,
 "nbformat_minor": 5
}
