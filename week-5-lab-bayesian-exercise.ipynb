{
 "cells": [
  {
   "cell_type": "code",
   "execution_count": 2,
   "id": "791c63dc",
   "metadata": {},
   "outputs": [],
   "source": [
    "# Import library\n",
    "import pandas as pd\n",
    "import matplotlib.pyplot as plt\n",
    "import seaborn as sns"
   ]
  },
  {
   "cell_type": "code",
   "execution_count": 3,
   "id": "e45b00d9",
   "metadata": {
    "scrolled": true
   },
   "outputs": [],
   "source": [
    "# Read csv data file\n",
    "# Data without feature standardization\n",
    "df = pd.read_csv('data/bankdata.csv')"
   ]
  },
  {
   "cell_type": "code",
   "execution_count": 4,
   "id": "4fe4c9ec",
   "metadata": {},
   "outputs": [
    {
     "data": {
      "text/html": [
       "<div>\n",
       "<style scoped>\n",
       "    .dataframe tbody tr th:only-of-type {\n",
       "        vertical-align: middle;\n",
       "    }\n",
       "\n",
       "    .dataframe tbody tr th {\n",
       "        vertical-align: top;\n",
       "    }\n",
       "\n",
       "    .dataframe thead th {\n",
       "        text-align: right;\n",
       "    }\n",
       "</style>\n",
       "<table border=\"1\" class=\"dataframe\">\n",
       "  <thead>\n",
       "    <tr style=\"text-align: right;\">\n",
       "      <th></th>\n",
       "      <th>age</th>\n",
       "      <th>sex</th>\n",
       "      <th>region</th>\n",
       "      <th>income</th>\n",
       "      <th>married</th>\n",
       "      <th>children</th>\n",
       "      <th>car</th>\n",
       "      <th>save_act</th>\n",
       "      <th>current_act</th>\n",
       "      <th>mortgage</th>\n",
       "      <th>pep</th>\n",
       "    </tr>\n",
       "  </thead>\n",
       "  <tbody>\n",
       "    <tr>\n",
       "      <th>0</th>\n",
       "      <td>48</td>\n",
       "      <td>0</td>\n",
       "      <td>0</td>\n",
       "      <td>17546.00</td>\n",
       "      <td>0</td>\n",
       "      <td>1</td>\n",
       "      <td>0</td>\n",
       "      <td>0</td>\n",
       "      <td>0</td>\n",
       "      <td>0</td>\n",
       "      <td>1</td>\n",
       "    </tr>\n",
       "    <tr>\n",
       "      <th>1</th>\n",
       "      <td>40</td>\n",
       "      <td>1</td>\n",
       "      <td>3</td>\n",
       "      <td>30085.10</td>\n",
       "      <td>1</td>\n",
       "      <td>3</td>\n",
       "      <td>1</td>\n",
       "      <td>0</td>\n",
       "      <td>1</td>\n",
       "      <td>1</td>\n",
       "      <td>0</td>\n",
       "    </tr>\n",
       "    <tr>\n",
       "      <th>2</th>\n",
       "      <td>51</td>\n",
       "      <td>0</td>\n",
       "      <td>0</td>\n",
       "      <td>16575.40</td>\n",
       "      <td>1</td>\n",
       "      <td>0</td>\n",
       "      <td>1</td>\n",
       "      <td>1</td>\n",
       "      <td>1</td>\n",
       "      <td>0</td>\n",
       "      <td>0</td>\n",
       "    </tr>\n",
       "    <tr>\n",
       "      <th>3</th>\n",
       "      <td>23</td>\n",
       "      <td>0</td>\n",
       "      <td>3</td>\n",
       "      <td>20375.40</td>\n",
       "      <td>1</td>\n",
       "      <td>3</td>\n",
       "      <td>0</td>\n",
       "      <td>0</td>\n",
       "      <td>1</td>\n",
       "      <td>0</td>\n",
       "      <td>0</td>\n",
       "    </tr>\n",
       "    <tr>\n",
       "      <th>4</th>\n",
       "      <td>57</td>\n",
       "      <td>0</td>\n",
       "      <td>1</td>\n",
       "      <td>50576.30</td>\n",
       "      <td>1</td>\n",
       "      <td>0</td>\n",
       "      <td>0</td>\n",
       "      <td>1</td>\n",
       "      <td>0</td>\n",
       "      <td>0</td>\n",
       "      <td>0</td>\n",
       "    </tr>\n",
       "    <tr>\n",
       "      <th>...</th>\n",
       "      <td>...</td>\n",
       "      <td>...</td>\n",
       "      <td>...</td>\n",
       "      <td>...</td>\n",
       "      <td>...</td>\n",
       "      <td>...</td>\n",
       "      <td>...</td>\n",
       "      <td>...</td>\n",
       "      <td>...</td>\n",
       "      <td>...</td>\n",
       "      <td>...</td>\n",
       "    </tr>\n",
       "    <tr>\n",
       "      <th>595</th>\n",
       "      <td>61</td>\n",
       "      <td>0</td>\n",
       "      <td>0</td>\n",
       "      <td>47025.00</td>\n",
       "      <td>0</td>\n",
       "      <td>2</td>\n",
       "      <td>1</td>\n",
       "      <td>1</td>\n",
       "      <td>1</td>\n",
       "      <td>1</td>\n",
       "      <td>0</td>\n",
       "    </tr>\n",
       "    <tr>\n",
       "      <th>596</th>\n",
       "      <td>30</td>\n",
       "      <td>0</td>\n",
       "      <td>0</td>\n",
       "      <td>9672.25</td>\n",
       "      <td>1</td>\n",
       "      <td>0</td>\n",
       "      <td>1</td>\n",
       "      <td>1</td>\n",
       "      <td>1</td>\n",
       "      <td>0</td>\n",
       "      <td>0</td>\n",
       "    </tr>\n",
       "    <tr>\n",
       "      <th>597</th>\n",
       "      <td>31</td>\n",
       "      <td>0</td>\n",
       "      <td>3</td>\n",
       "      <td>15976.30</td>\n",
       "      <td>1</td>\n",
       "      <td>0</td>\n",
       "      <td>1</td>\n",
       "      <td>1</td>\n",
       "      <td>0</td>\n",
       "      <td>0</td>\n",
       "      <td>1</td>\n",
       "    </tr>\n",
       "    <tr>\n",
       "      <th>598</th>\n",
       "      <td>29</td>\n",
       "      <td>1</td>\n",
       "      <td>0</td>\n",
       "      <td>14711.80</td>\n",
       "      <td>1</td>\n",
       "      <td>0</td>\n",
       "      <td>0</td>\n",
       "      <td>1</td>\n",
       "      <td>0</td>\n",
       "      <td>1</td>\n",
       "      <td>0</td>\n",
       "    </tr>\n",
       "    <tr>\n",
       "      <th>599</th>\n",
       "      <td>38</td>\n",
       "      <td>1</td>\n",
       "      <td>3</td>\n",
       "      <td>26671.60</td>\n",
       "      <td>0</td>\n",
       "      <td>0</td>\n",
       "      <td>1</td>\n",
       "      <td>0</td>\n",
       "      <td>1</td>\n",
       "      <td>1</td>\n",
       "      <td>1</td>\n",
       "    </tr>\n",
       "  </tbody>\n",
       "</table>\n",
       "<p>600 rows × 11 columns</p>\n",
       "</div>"
      ],
      "text/plain": [
       "     age  sex  region    income  married  children  car  save_act  \\\n",
       "0     48    0       0  17546.00        0         1    0         0   \n",
       "1     40    1       3  30085.10        1         3    1         0   \n",
       "2     51    0       0  16575.40        1         0    1         1   \n",
       "3     23    0       3  20375.40        1         3    0         0   \n",
       "4     57    0       1  50576.30        1         0    0         1   \n",
       "..   ...  ...     ...       ...      ...       ...  ...       ...   \n",
       "595   61    0       0  47025.00        0         2    1         1   \n",
       "596   30    0       0   9672.25        1         0    1         1   \n",
       "597   31    0       3  15976.30        1         0    1         1   \n",
       "598   29    1       0  14711.80        1         0    0         1   \n",
       "599   38    1       3  26671.60        0         0    1         0   \n",
       "\n",
       "     current_act  mortgage  pep  \n",
       "0              0         0    1  \n",
       "1              1         1    0  \n",
       "2              1         0    0  \n",
       "3              1         0    0  \n",
       "4              0         0    0  \n",
       "..           ...       ...  ...  \n",
       "595            1         1    0  \n",
       "596            1         0    0  \n",
       "597            0         0    1  \n",
       "598            0         1    0  \n",
       "599            1         1    1  \n",
       "\n",
       "[600 rows x 11 columns]"
      ]
     },
     "execution_count": 4,
     "metadata": {},
     "output_type": "execute_result"
    }
   ],
   "source": [
    "from sklearn import preprocessing\n",
    "\n",
    "le = preprocessing.LabelEncoder()\n",
    "\n",
    "df['sex'] = le.fit_transform(df['sex'])\n",
    "df['married'] = le.fit_transform(df['married'])\n",
    "df['car'] = le.fit_transform(df['car'])\n",
    "df['save_act'] = le.fit_transform(df['save_act'])\n",
    "df['current_act'] = le.fit_transform(df['current_act'])\n",
    "df['mortgage'] = le.fit_transform(df['mortgage'])\n",
    "df['pep'] = le.fit_transform(df['pep'])\n",
    "df['region'] = le.fit_transform(df['region'])\n",
    "\n",
    "df = df.drop(columns = ['id'])\n",
    "df"
   ]
  },
  {
   "cell_type": "code",
   "execution_count": 5,
   "id": "7b4f5437",
   "metadata": {},
   "outputs": [],
   "source": [
    "# sns.heatmap(df.corr(numeric_only = True), annot = True)\n",
    "# plt.show()"
   ]
  },
  {
   "cell_type": "code",
   "execution_count": 6,
   "id": "5af24fa2",
   "metadata": {},
   "outputs": [],
   "source": [
    "# df['pep'] = df['pep'].astype(str)\n",
    "# df['sex'] = df['sex'].astype(str)\n",
    "# df['region'] = df['region'].astype(str)\n",
    "# df['married'] = df['married'].astype(str)"
   ]
  },
  {
   "cell_type": "code",
   "execution_count": 7,
   "id": "5b35f0c6",
   "metadata": {},
   "outputs": [],
   "source": [
    "from sklearn.model_selection import train_test_split\n",
    "\n",
    "# Indicate the target column\n",
    "target = df['pep']\n",
    "\n",
    "# Indicate the columns that will serve as features\n",
    "features = df.drop(['pep'], axis = 1)\n",
    "\n",
    "# Split data into train and test sets\n",
    "# Split the dataset into training + development set and test set\n",
    "x_train, x_test, y_train, y_test = train_test_split(features, target, test_size = 0.20, random_state = 2)"
   ]
  },
  {
   "cell_type": "code",
   "execution_count": 8,
   "id": "e01f83f1",
   "metadata": {},
   "outputs": [],
   "source": [
    "# Create the pandas DataFrame\n",
    "df_bar = pd.DataFrame(columns=['model', 'validation', 'test'])"
   ]
  },
  {
   "cell_type": "code",
   "execution_count": 9,
   "id": "412d0ae5",
   "metadata": {},
   "outputs": [
    {
     "data": {
      "text/plain": [
       "array([0.5625    , 0.66666667, 0.625     , 0.63541667, 0.6875    ])"
      ]
     },
     "execution_count": 9,
     "metadata": {},
     "output_type": "execute_result"
    }
   ],
   "source": [
    "# Import function for k-fold cross validation\n",
    "from sklearn.model_selection import cross_val_score\n",
    "\n",
    "# Import the Gaussian Naive Bayes classifier\n",
    "from sklearn.naive_bayes import GaussianNB\n",
    "\n",
    "# Create a Gaussian Naive Bayes classifier with default parameters\n",
    "gnb = GaussianNB()\n",
    "\n",
    "# Use 10-fold cross validation to perform training and validation on the training set\n",
    "# Parameter scoring = 'accuracy' will compute accuracy\n",
    "scores = cross_val_score(gnb, x_train, y_train, cv = 5, scoring = 'accuracy')\n",
    "\n",
    "# Display the array containing accuracy from 10 folds or iterations\n",
    "scores"
   ]
  },
  {
   "cell_type": "code",
   "execution_count": 10,
   "id": "bdf7b8ea",
   "metadata": {},
   "outputs": [
    {
     "name": "stdout",
     "output_type": "stream",
     "text": [
      "Accuracy = 0.6354166666666666\n"
     ]
    }
   ],
   "source": [
    "# Print the mean accuracy score\n",
    "print('Accuracy =', scores.mean())"
   ]
  },
  {
   "cell_type": "code",
   "execution_count": 11,
   "id": "67d16dcd",
   "metadata": {},
   "outputs": [
    {
     "name": "stdout",
     "output_type": "stream",
     "text": [
      "Accuracy (Test):  0.675\n"
     ]
    },
    {
     "data": {
      "text/html": [
       "<div>\n",
       "<style scoped>\n",
       "    .dataframe tbody tr th:only-of-type {\n",
       "        vertical-align: middle;\n",
       "    }\n",
       "\n",
       "    .dataframe tbody tr th {\n",
       "        vertical-align: top;\n",
       "    }\n",
       "\n",
       "    .dataframe thead th {\n",
       "        text-align: right;\n",
       "    }\n",
       "</style>\n",
       "<table border=\"1\" class=\"dataframe\">\n",
       "  <thead>\n",
       "    <tr style=\"text-align: right;\">\n",
       "      <th></th>\n",
       "      <th>model</th>\n",
       "      <th>validation</th>\n",
       "      <th>test</th>\n",
       "    </tr>\n",
       "  </thead>\n",
       "  <tbody>\n",
       "    <tr>\n",
       "      <th>0</th>\n",
       "      <td>gaussiannb</td>\n",
       "      <td>0.635417</td>\n",
       "      <td>0.675</td>\n",
       "    </tr>\n",
       "  </tbody>\n",
       "</table>\n",
       "</div>"
      ],
      "text/plain": [
       "        model  validation   test\n",
       "0  gaussiannb    0.635417  0.675"
      ]
     },
     "execution_count": 11,
     "metadata": {},
     "output_type": "execute_result"
    }
   ],
   "source": [
    "# Import scikit-learn metrics module for accuracy calculation\n",
    "from sklearn import metrics# Running prediction\n",
    "\n",
    "gnb.fit(x_train, y_train)\n",
    "# Predict the target for the test dataset\n",
    "test_predict = gnb.predict(x_test)\n",
    "# Compute the model accuracy on the development set: How often is the classifier correct?\n",
    "print(\"Accuracy (Test): \", metrics.accuracy_score(y_test, test_predict))\n",
    "\n",
    "df_bar.loc[0] = ['gaussiannb', scores.mean(), metrics.accuracy_score(y_test, test_predict)]\n",
    "df_bar"
   ]
  },
  {
   "cell_type": "code",
   "execution_count": 12,
   "id": "d1c94b81",
   "metadata": {},
   "outputs": [
    {
     "data": {
      "text/plain": [
       "array([0.59375   , 0.57291667, 0.61458333, 0.5625    , 0.66666667])"
      ]
     },
     "execution_count": 12,
     "metadata": {},
     "output_type": "execute_result"
    }
   ],
   "source": [
    "# Import the Bernoulli Naive Bayes classifier\n",
    "from sklearn.naive_bayes import BernoulliNB\n",
    "# Create a Bernoulli Naive Bayes classifier with default parameters\n",
    "bnb = BernoulliNB()\n",
    "# Use 10-fold cross validation to perform training and validation on the training set\n",
    "scores = cross_val_score(bnb, x_train, y_train, cv = 5, scoring = 'accuracy')\n",
    "# Display the array containing accuracy from 10 folds or iterations\n",
    "scores"
   ]
  },
  {
   "cell_type": "code",
   "execution_count": 13,
   "id": "2edd388f",
   "metadata": {},
   "outputs": [
    {
     "name": "stdout",
     "output_type": "stream",
     "text": [
      "Accuracy = 0.6020833333333333\n"
     ]
    }
   ],
   "source": [
    "# Print the mean accuracy score\n",
    "print('Accuracy =', scores.mean())"
   ]
  },
  {
   "cell_type": "code",
   "execution_count": 14,
   "id": "74390977",
   "metadata": {},
   "outputs": [
    {
     "name": "stdout",
     "output_type": "stream",
     "text": [
      "Accuracy (Test):  0.525\n"
     ]
    }
   ],
   "source": [
    "# Running prediction\n",
    "bnb.fit(x_train, y_train)\n",
    "# Predict the target for the test dataset\n",
    "test_predict = bnb.predict(x_test)\n",
    "# Compute the model accuracy on the development set: How often is the classifier correct?\n",
    "print(\"Accuracy (Test): \", metrics.accuracy_score(y_test, test_predict))"
   ]
  },
  {
   "cell_type": "code",
   "execution_count": 15,
   "id": "857b34f6",
   "metadata": {},
   "outputs": [
    {
     "data": {
      "text/html": [
       "<div>\n",
       "<style scoped>\n",
       "    .dataframe tbody tr th:only-of-type {\n",
       "        vertical-align: middle;\n",
       "    }\n",
       "\n",
       "    .dataframe tbody tr th {\n",
       "        vertical-align: top;\n",
       "    }\n",
       "\n",
       "    .dataframe thead th {\n",
       "        text-align: right;\n",
       "    }\n",
       "</style>\n",
       "<table border=\"1\" class=\"dataframe\">\n",
       "  <thead>\n",
       "    <tr style=\"text-align: right;\">\n",
       "      <th></th>\n",
       "      <th>model</th>\n",
       "      <th>validation</th>\n",
       "      <th>test</th>\n",
       "    </tr>\n",
       "  </thead>\n",
       "  <tbody>\n",
       "    <tr>\n",
       "      <th>0</th>\n",
       "      <td>gaussiannb</td>\n",
       "      <td>0.635417</td>\n",
       "      <td>0.675</td>\n",
       "    </tr>\n",
       "    <tr>\n",
       "      <th>1</th>\n",
       "      <td>bernoullinb</td>\n",
       "      <td>0.602083</td>\n",
       "      <td>0.525</td>\n",
       "    </tr>\n",
       "  </tbody>\n",
       "</table>\n",
       "</div>"
      ],
      "text/plain": [
       "         model  validation   test\n",
       "0   gaussiannb    0.635417  0.675\n",
       "1  bernoullinb    0.602083  0.525"
      ]
     },
     "execution_count": 15,
     "metadata": {},
     "output_type": "execute_result"
    }
   ],
   "source": [
    "df_bar.loc[1] = ['bernoullinb', scores.mean(), metrics.accuracy_score(y_test, test_predict)]\n",
    "df_bar"
   ]
  },
  {
   "cell_type": "code",
   "execution_count": 16,
   "id": "3506cd19",
   "metadata": {},
   "outputs": [
    {
     "data": {
      "text/plain": [
       "array([0.54166667, 0.58333333, 0.64583333, 0.625     , 0.5625    ,\n",
       "       0.54166667, 0.47916667, 0.66666667, 0.54166667, 0.66666667])"
      ]
     },
     "execution_count": 16,
     "metadata": {},
     "output_type": "execute_result"
    }
   ],
   "source": [
    "# Import the Multinomial Naive Bayes classifier\n",
    "from sklearn.naive_bayes import MultinomialNB\n",
    "# Create a Multinomial Naive Bayes classifier with default parameters\n",
    "mnb = MultinomialNB()\n",
    "# Use 10-fold cross validation to perform training and validation on the training set\n",
    "scores = cross_val_score(mnb, x_train, y_train, cv = 5, scoring = 'accuracy')\n",
    "# Display the array containing accuracy from 10 folds or iterations\n",
    "scores"
   ]
  },
  {
   "cell_type": "code",
   "execution_count": 17,
   "id": "e5499b3e",
   "metadata": {},
   "outputs": [
    {
     "name": "stdout",
     "output_type": "stream",
     "text": [
      "Accuracy = 0.5854166666666668\n"
     ]
    }
   ],
   "source": [
    "# Print the mean accuracy score\n",
    "print('Accuracy =', scores.mean())"
   ]
  },
  {
   "cell_type": "code",
   "execution_count": 18,
   "id": "e07018ac",
   "metadata": {},
   "outputs": [
    {
     "name": "stdout",
     "output_type": "stream",
     "text": [
      "Accuracy (Test):  0.6333333333333333\n"
     ]
    }
   ],
   "source": [
    "# Running prediction\n",
    "mnb.fit(x_train, y_train)\n",
    "# Predict the target for the test dataset\n",
    "test_predict = mnb.predict(x_test)\n",
    "# Compute the model accuracy on the development set: How often is the classifier correct?\n",
    "print(\"Accuracy (Test): \", metrics.accuracy_score(y_test, test_predict))"
   ]
  },
  {
   "cell_type": "code",
   "execution_count": 19,
   "id": "6a5c99c4",
   "metadata": {
    "scrolled": true
   },
   "outputs": [
    {
     "data": {
      "text/html": [
       "<div>\n",
       "<style scoped>\n",
       "    .dataframe tbody tr th:only-of-type {\n",
       "        vertical-align: middle;\n",
       "    }\n",
       "\n",
       "    .dataframe tbody tr th {\n",
       "        vertical-align: top;\n",
       "    }\n",
       "\n",
       "    .dataframe thead th {\n",
       "        text-align: right;\n",
       "    }\n",
       "</style>\n",
       "<table border=\"1\" class=\"dataframe\">\n",
       "  <thead>\n",
       "    <tr style=\"text-align: right;\">\n",
       "      <th></th>\n",
       "      <th>model</th>\n",
       "      <th>validation</th>\n",
       "      <th>test</th>\n",
       "    </tr>\n",
       "  </thead>\n",
       "  <tbody>\n",
       "    <tr>\n",
       "      <th>0</th>\n",
       "      <td>gaussiannb</td>\n",
       "      <td>0.635417</td>\n",
       "      <td>0.675000</td>\n",
       "    </tr>\n",
       "    <tr>\n",
       "      <th>1</th>\n",
       "      <td>bernoullinb</td>\n",
       "      <td>0.602083</td>\n",
       "      <td>0.525000</td>\n",
       "    </tr>\n",
       "    <tr>\n",
       "      <th>2</th>\n",
       "      <td>multinomialnb</td>\n",
       "      <td>0.585417</td>\n",
       "      <td>0.633333</td>\n",
       "    </tr>\n",
       "  </tbody>\n",
       "</table>\n",
       "</div>"
      ],
      "text/plain": [
       "           model  validation      test\n",
       "0     gaussiannb    0.635417  0.675000\n",
       "1    bernoullinb    0.602083  0.525000\n",
       "2  multinomialnb    0.585417  0.633333"
      ]
     },
     "execution_count": 19,
     "metadata": {},
     "output_type": "execute_result"
    }
   ],
   "source": [
    "df_bar.loc[2] = ['multinomialnb', scores.mean(), metrics.accuracy_score(y_test, test_predict)]\n",
    "df_bar"
   ]
  },
  {
   "cell_type": "code",
   "execution_count": 20,
   "id": "93cf907b",
   "metadata": {},
   "outputs": [],
   "source": [
    "# Create the pandas DataFrame\n",
    "df_bar = pd.DataFrame(columns=['model', 'validation', 'test'])"
   ]
  },
  {
   "cell_type": "code",
   "execution_count": 21,
   "id": "4bb4ad60",
   "metadata": {},
   "outputs": [],
   "source": [
    "df_new = df.copy()\n",
    "\n",
    "# Define the name of each bin\n",
    "cut_labels_4 = [0, 1, 2, 3]\n",
    "\n",
    "# Define the boundaries of the 4 bins\n",
    "# Min age is 0.42 and max age is 80\n",
    "cut_bins = [0, 20, 30, 50, 80]\n",
    "\n",
    "# Divide the data into 4 bins with the manually-defined range\n",
    "df_new['age_cat'] = pd.cut(df_new['age'], bins = cut_bins, labels = cut_labels_4)"
   ]
  },
  {
   "cell_type": "code",
   "execution_count": 22,
   "id": "353a7c1f",
   "metadata": {},
   "outputs": [],
   "source": [
    "cut_bins = [0, 25000, 45000, 65000]\n",
    "cut_labels_4 = [0, 1, 2]\n",
    "df_new['income_cat'] = pd.cut(df_new['income'], bins = cut_bins, labels = cut_labels_4)"
   ]
  },
  {
   "cell_type": "code",
   "execution_count": 23,
   "id": "727c2259",
   "metadata": {},
   "outputs": [
    {
     "data": {
      "text/html": [
       "<div>\n",
       "<style scoped>\n",
       "    .dataframe tbody tr th:only-of-type {\n",
       "        vertical-align: middle;\n",
       "    }\n",
       "\n",
       "    .dataframe tbody tr th {\n",
       "        vertical-align: top;\n",
       "    }\n",
       "\n",
       "    .dataframe thead th {\n",
       "        text-align: right;\n",
       "    }\n",
       "</style>\n",
       "<table border=\"1\" class=\"dataframe\">\n",
       "  <thead>\n",
       "    <tr style=\"text-align: right;\">\n",
       "      <th></th>\n",
       "      <th>age</th>\n",
       "      <th>sex</th>\n",
       "      <th>region</th>\n",
       "      <th>income</th>\n",
       "      <th>married</th>\n",
       "      <th>children</th>\n",
       "      <th>car</th>\n",
       "      <th>save_act</th>\n",
       "      <th>current_act</th>\n",
       "      <th>mortgage</th>\n",
       "      <th>pep</th>\n",
       "      <th>age_cat</th>\n",
       "      <th>income_cat</th>\n",
       "    </tr>\n",
       "  </thead>\n",
       "  <tbody>\n",
       "    <tr>\n",
       "      <th>0</th>\n",
       "      <td>48</td>\n",
       "      <td>0</td>\n",
       "      <td>0</td>\n",
       "      <td>17546.00</td>\n",
       "      <td>0</td>\n",
       "      <td>1</td>\n",
       "      <td>0</td>\n",
       "      <td>0</td>\n",
       "      <td>0</td>\n",
       "      <td>0</td>\n",
       "      <td>1</td>\n",
       "      <td>2</td>\n",
       "      <td>0</td>\n",
       "    </tr>\n",
       "    <tr>\n",
       "      <th>1</th>\n",
       "      <td>40</td>\n",
       "      <td>1</td>\n",
       "      <td>3</td>\n",
       "      <td>30085.10</td>\n",
       "      <td>1</td>\n",
       "      <td>3</td>\n",
       "      <td>1</td>\n",
       "      <td>0</td>\n",
       "      <td>1</td>\n",
       "      <td>1</td>\n",
       "      <td>0</td>\n",
       "      <td>2</td>\n",
       "      <td>1</td>\n",
       "    </tr>\n",
       "    <tr>\n",
       "      <th>2</th>\n",
       "      <td>51</td>\n",
       "      <td>0</td>\n",
       "      <td>0</td>\n",
       "      <td>16575.40</td>\n",
       "      <td>1</td>\n",
       "      <td>0</td>\n",
       "      <td>1</td>\n",
       "      <td>1</td>\n",
       "      <td>1</td>\n",
       "      <td>0</td>\n",
       "      <td>0</td>\n",
       "      <td>3</td>\n",
       "      <td>0</td>\n",
       "    </tr>\n",
       "    <tr>\n",
       "      <th>3</th>\n",
       "      <td>23</td>\n",
       "      <td>0</td>\n",
       "      <td>3</td>\n",
       "      <td>20375.40</td>\n",
       "      <td>1</td>\n",
       "      <td>3</td>\n",
       "      <td>0</td>\n",
       "      <td>0</td>\n",
       "      <td>1</td>\n",
       "      <td>0</td>\n",
       "      <td>0</td>\n",
       "      <td>1</td>\n",
       "      <td>0</td>\n",
       "    </tr>\n",
       "    <tr>\n",
       "      <th>4</th>\n",
       "      <td>57</td>\n",
       "      <td>0</td>\n",
       "      <td>1</td>\n",
       "      <td>50576.30</td>\n",
       "      <td>1</td>\n",
       "      <td>0</td>\n",
       "      <td>0</td>\n",
       "      <td>1</td>\n",
       "      <td>0</td>\n",
       "      <td>0</td>\n",
       "      <td>0</td>\n",
       "      <td>3</td>\n",
       "      <td>2</td>\n",
       "    </tr>\n",
       "    <tr>\n",
       "      <th>...</th>\n",
       "      <td>...</td>\n",
       "      <td>...</td>\n",
       "      <td>...</td>\n",
       "      <td>...</td>\n",
       "      <td>...</td>\n",
       "      <td>...</td>\n",
       "      <td>...</td>\n",
       "      <td>...</td>\n",
       "      <td>...</td>\n",
       "      <td>...</td>\n",
       "      <td>...</td>\n",
       "      <td>...</td>\n",
       "      <td>...</td>\n",
       "    </tr>\n",
       "    <tr>\n",
       "      <th>595</th>\n",
       "      <td>61</td>\n",
       "      <td>0</td>\n",
       "      <td>0</td>\n",
       "      <td>47025.00</td>\n",
       "      <td>0</td>\n",
       "      <td>2</td>\n",
       "      <td>1</td>\n",
       "      <td>1</td>\n",
       "      <td>1</td>\n",
       "      <td>1</td>\n",
       "      <td>0</td>\n",
       "      <td>3</td>\n",
       "      <td>2</td>\n",
       "    </tr>\n",
       "    <tr>\n",
       "      <th>596</th>\n",
       "      <td>30</td>\n",
       "      <td>0</td>\n",
       "      <td>0</td>\n",
       "      <td>9672.25</td>\n",
       "      <td>1</td>\n",
       "      <td>0</td>\n",
       "      <td>1</td>\n",
       "      <td>1</td>\n",
       "      <td>1</td>\n",
       "      <td>0</td>\n",
       "      <td>0</td>\n",
       "      <td>1</td>\n",
       "      <td>0</td>\n",
       "    </tr>\n",
       "    <tr>\n",
       "      <th>597</th>\n",
       "      <td>31</td>\n",
       "      <td>0</td>\n",
       "      <td>3</td>\n",
       "      <td>15976.30</td>\n",
       "      <td>1</td>\n",
       "      <td>0</td>\n",
       "      <td>1</td>\n",
       "      <td>1</td>\n",
       "      <td>0</td>\n",
       "      <td>0</td>\n",
       "      <td>1</td>\n",
       "      <td>2</td>\n",
       "      <td>0</td>\n",
       "    </tr>\n",
       "    <tr>\n",
       "      <th>598</th>\n",
       "      <td>29</td>\n",
       "      <td>1</td>\n",
       "      <td>0</td>\n",
       "      <td>14711.80</td>\n",
       "      <td>1</td>\n",
       "      <td>0</td>\n",
       "      <td>0</td>\n",
       "      <td>1</td>\n",
       "      <td>0</td>\n",
       "      <td>1</td>\n",
       "      <td>0</td>\n",
       "      <td>1</td>\n",
       "      <td>0</td>\n",
       "    </tr>\n",
       "    <tr>\n",
       "      <th>599</th>\n",
       "      <td>38</td>\n",
       "      <td>1</td>\n",
       "      <td>3</td>\n",
       "      <td>26671.60</td>\n",
       "      <td>0</td>\n",
       "      <td>0</td>\n",
       "      <td>1</td>\n",
       "      <td>0</td>\n",
       "      <td>1</td>\n",
       "      <td>1</td>\n",
       "      <td>1</td>\n",
       "      <td>2</td>\n",
       "      <td>1</td>\n",
       "    </tr>\n",
       "  </tbody>\n",
       "</table>\n",
       "<p>600 rows × 13 columns</p>\n",
       "</div>"
      ],
      "text/plain": [
       "     age  sex  region    income  married  children  car  save_act  \\\n",
       "0     48    0       0  17546.00        0         1    0         0   \n",
       "1     40    1       3  30085.10        1         3    1         0   \n",
       "2     51    0       0  16575.40        1         0    1         1   \n",
       "3     23    0       3  20375.40        1         3    0         0   \n",
       "4     57    0       1  50576.30        1         0    0         1   \n",
       "..   ...  ...     ...       ...      ...       ...  ...       ...   \n",
       "595   61    0       0  47025.00        0         2    1         1   \n",
       "596   30    0       0   9672.25        1         0    1         1   \n",
       "597   31    0       3  15976.30        1         0    1         1   \n",
       "598   29    1       0  14711.80        1         0    0         1   \n",
       "599   38    1       3  26671.60        0         0    1         0   \n",
       "\n",
       "     current_act  mortgage  pep age_cat income_cat  \n",
       "0              0         0    1       2          0  \n",
       "1              1         1    0       2          1  \n",
       "2              1         0    0       3          0  \n",
       "3              1         0    0       1          0  \n",
       "4              0         0    0       3          2  \n",
       "..           ...       ...  ...     ...        ...  \n",
       "595            1         1    0       3          2  \n",
       "596            1         0    0       1          0  \n",
       "597            0         0    1       2          0  \n",
       "598            0         1    0       1          0  \n",
       "599            1         1    1       2          1  \n",
       "\n",
       "[600 rows x 13 columns]"
      ]
     },
     "execution_count": 23,
     "metadata": {},
     "output_type": "execute_result"
    }
   ],
   "source": [
    "df_new"
   ]
  },
  {
   "cell_type": "code",
   "execution_count": 24,
   "id": "1931e44d",
   "metadata": {},
   "outputs": [],
   "source": [
    "from sklearn.model_selection import train_test_split\n",
    "\n",
    "# Indicate the target column\n",
    "target = df_new['pep']\n",
    "\n",
    "# Indicate the columns that will serve as features\n",
    "features = df_new.drop(['pep', 'age', 'income'], axis = 1)\n",
    "\n",
    "# Split data into train and test sets\n",
    "# Split the dataset into training + development set and test set\n",
    "x_train, x_test, y_train, y_test = train_test_split(features, target, test_size = 0.20, random_state = 2)"
   ]
  },
  {
   "cell_type": "code",
   "execution_count": 25,
   "id": "f26f2112",
   "metadata": {},
   "outputs": [
    {
     "data": {
      "text/plain": [
       "array([0.60416667, 0.64583333, 0.625     , 0.65625   , 0.70833333])"
      ]
     },
     "execution_count": 25,
     "metadata": {},
     "output_type": "execute_result"
    }
   ],
   "source": [
    "# Use 10-fold cross validation to perform training and validation on the training set\n",
    "# Parameter scoring = 'accuracy' will compute accuracy\n",
    "scores = cross_val_score(gnb, x_train, y_train, cv = 5, scoring = 'accuracy')\n",
    "\n",
    "# Display the array containing accuracy from 10 folds or iterations\n",
    "scores"
   ]
  },
  {
   "cell_type": "code",
   "execution_count": 26,
   "id": "1e2ed254",
   "metadata": {},
   "outputs": [
    {
     "name": "stdout",
     "output_type": "stream",
     "text": [
      "Accuracy = 0.6479166666666667\n"
     ]
    }
   ],
   "source": [
    "# Print the mean accuracy score\n",
    "print('Accuracy =', scores.mean())"
   ]
  },
  {
   "cell_type": "code",
   "execution_count": 27,
   "id": "aa81534d",
   "metadata": {
    "scrolled": true
   },
   "outputs": [
    {
     "name": "stdout",
     "output_type": "stream",
     "text": [
      "Accuracy (Test):  0.6833333333333333\n"
     ]
    },
    {
     "data": {
      "text/html": [
       "<div>\n",
       "<style scoped>\n",
       "    .dataframe tbody tr th:only-of-type {\n",
       "        vertical-align: middle;\n",
       "    }\n",
       "\n",
       "    .dataframe tbody tr th {\n",
       "        vertical-align: top;\n",
       "    }\n",
       "\n",
       "    .dataframe thead th {\n",
       "        text-align: right;\n",
       "    }\n",
       "</style>\n",
       "<table border=\"1\" class=\"dataframe\">\n",
       "  <thead>\n",
       "    <tr style=\"text-align: right;\">\n",
       "      <th></th>\n",
       "      <th>model</th>\n",
       "      <th>validation</th>\n",
       "      <th>test</th>\n",
       "    </tr>\n",
       "  </thead>\n",
       "  <tbody>\n",
       "    <tr>\n",
       "      <th>0</th>\n",
       "      <td>gaussiannb</td>\n",
       "      <td>0.647917</td>\n",
       "      <td>0.683333</td>\n",
       "    </tr>\n",
       "  </tbody>\n",
       "</table>\n",
       "</div>"
      ],
      "text/plain": [
       "        model  validation      test\n",
       "0  gaussiannb    0.647917  0.683333"
      ]
     },
     "execution_count": 27,
     "metadata": {},
     "output_type": "execute_result"
    }
   ],
   "source": [
    "# Import scikit-learn metrics module for accuracy calculation\n",
    "from sklearn import metrics# Running prediction\n",
    "\n",
    "gnb.fit(x_train, y_train)\n",
    "# Predict the target for the test dataset\n",
    "test_predict = gnb.predict(x_test)\n",
    "# Compute the model accuracy on the development set: How often is the classifier correct?\n",
    "print(\"Accuracy (Test): \", metrics.accuracy_score(y_test, test_predict))\n",
    "\n",
    "df_bar.loc[0] = ['gaussiannb', scores.mean(), metrics.accuracy_score(y_test, test_predict)]\n",
    "df_bar"
   ]
  },
  {
   "cell_type": "code",
   "execution_count": 28,
   "id": "ec30b786",
   "metadata": {},
   "outputs": [
    {
     "data": {
      "text/plain": [
       "array([0.61458333, 0.60416667, 0.63541667, 0.63541667, 0.65625   ])"
      ]
     },
     "execution_count": 28,
     "metadata": {},
     "output_type": "execute_result"
    }
   ],
   "source": [
    "# Import the Bernoulli Naive Bayes classifier\n",
    "from sklearn.naive_bayes import BernoulliNB\n",
    "# Create a Bernoulli Naive Bayes classifier with default parameters\n",
    "bnb = BernoulliNB()\n",
    "# Use 10-fold cross validation to perform training and validation on the training set\n",
    "scores = cross_val_score(bnb, x_train, y_train, cv = 5, scoring = 'accuracy')\n",
    "# Display the array containing accuracy from 10 folds or iterations\n",
    "scores"
   ]
  },
  {
   "cell_type": "code",
   "execution_count": 29,
   "id": "d168c648",
   "metadata": {},
   "outputs": [
    {
     "name": "stdout",
     "output_type": "stream",
     "text": [
      "Accuracy = 0.6291666666666667\n"
     ]
    }
   ],
   "source": [
    "# Print the mean accuracy score\n",
    "print('Accuracy =', scores.mean())"
   ]
  },
  {
   "cell_type": "code",
   "execution_count": 30,
   "id": "3825a2fa",
   "metadata": {},
   "outputs": [
    {
     "name": "stdout",
     "output_type": "stream",
     "text": [
      "Accuracy (Test):  0.575\n"
     ]
    }
   ],
   "source": [
    "# Running prediction\n",
    "bnb.fit(x_train, y_train)\n",
    "# Predict the target for the test dataset\n",
    "test_predict = bnb.predict(x_test)\n",
    "# Compute the model accuracy on the development set: How often is the classifier correct?\n",
    "print(\"Accuracy (Test): \", metrics.accuracy_score(y_test, test_predict))"
   ]
  },
  {
   "cell_type": "code",
   "execution_count": 31,
   "id": "65e5c8ba",
   "metadata": {
    "scrolled": true
   },
   "outputs": [
    {
     "data": {
      "text/html": [
       "<div>\n",
       "<style scoped>\n",
       "    .dataframe tbody tr th:only-of-type {\n",
       "        vertical-align: middle;\n",
       "    }\n",
       "\n",
       "    .dataframe tbody tr th {\n",
       "        vertical-align: top;\n",
       "    }\n",
       "\n",
       "    .dataframe thead th {\n",
       "        text-align: right;\n",
       "    }\n",
       "</style>\n",
       "<table border=\"1\" class=\"dataframe\">\n",
       "  <thead>\n",
       "    <tr style=\"text-align: right;\">\n",
       "      <th></th>\n",
       "      <th>model</th>\n",
       "      <th>validation</th>\n",
       "      <th>test</th>\n",
       "    </tr>\n",
       "  </thead>\n",
       "  <tbody>\n",
       "    <tr>\n",
       "      <th>0</th>\n",
       "      <td>gaussiannb</td>\n",
       "      <td>0.647917</td>\n",
       "      <td>0.683333</td>\n",
       "    </tr>\n",
       "    <tr>\n",
       "      <th>1</th>\n",
       "      <td>bernoullinb</td>\n",
       "      <td>0.629167</td>\n",
       "      <td>0.575000</td>\n",
       "    </tr>\n",
       "  </tbody>\n",
       "</table>\n",
       "</div>"
      ],
      "text/plain": [
       "         model  validation      test\n",
       "0   gaussiannb    0.647917  0.683333\n",
       "1  bernoullinb    0.629167  0.575000"
      ]
     },
     "execution_count": 31,
     "metadata": {},
     "output_type": "execute_result"
    }
   ],
   "source": [
    "df_bar.loc[1] = ['bernoullinb', scores.mean(), metrics.accuracy_score(y_test, test_predict)]\n",
    "df_bar"
   ]
  },
  {
   "cell_type": "code",
   "execution_count": 32,
   "id": "99cf2a50",
   "metadata": {},
   "outputs": [
    {
     "data": {
      "text/plain": [
       "array([0.52083333, 0.58333333, 0.6875    , 0.6875    , 0.5       ,\n",
       "       0.625     , 0.5625    , 0.6875    , 0.58333333, 0.625     ])"
      ]
     },
     "execution_count": 32,
     "metadata": {},
     "output_type": "execute_result"
    }
   ],
   "source": [
    "# Import the Multinomial Naive Bayes classifier\n",
    "from sklearn.naive_bayes import MultinomialNB\n",
    "# Create a Multinomial Naive Bayes classifier with default parameters\n",
    "mnb = MultinomialNB()\n",
    "# Use 10-fold cross validation to perform training and validation on the training set\n",
    "scores = cross_val_score(mnb, x_train, y_train, cv = 5, scoring = 'accuracy')\n",
    "# Display the array containing accuracy from 10 folds or iterations\n",
    "scores"
   ]
  },
  {
   "cell_type": "code",
   "execution_count": 33,
   "id": "960cf4e1",
   "metadata": {},
   "outputs": [
    {
     "name": "stdout",
     "output_type": "stream",
     "text": [
      "Accuracy = 0.60625\n"
     ]
    }
   ],
   "source": [
    "# Print the mean accuracy score\n",
    "print('Accuracy =', scores.mean())"
   ]
  },
  {
   "cell_type": "code",
   "execution_count": 34,
   "id": "3360ffaf",
   "metadata": {},
   "outputs": [
    {
     "name": "stdout",
     "output_type": "stream",
     "text": [
      "Accuracy (Test):  0.65\n"
     ]
    }
   ],
   "source": [
    "# Running prediction\n",
    "mnb.fit(x_train, y_train)\n",
    "# Predict the target for the test dataset\n",
    "test_predict = mnb.predict(x_test)\n",
    "# Compute the model accuracy on the development set: How often is the classifier correct?\n",
    "print(\"Accuracy (Test): \", metrics.accuracy_score(y_test, test_predict))"
   ]
  },
  {
   "cell_type": "code",
   "execution_count": 35,
   "id": "d26ecff4",
   "metadata": {},
   "outputs": [
    {
     "data": {
      "text/html": [
       "<div>\n",
       "<style scoped>\n",
       "    .dataframe tbody tr th:only-of-type {\n",
       "        vertical-align: middle;\n",
       "    }\n",
       "\n",
       "    .dataframe tbody tr th {\n",
       "        vertical-align: top;\n",
       "    }\n",
       "\n",
       "    .dataframe thead th {\n",
       "        text-align: right;\n",
       "    }\n",
       "</style>\n",
       "<table border=\"1\" class=\"dataframe\">\n",
       "  <thead>\n",
       "    <tr style=\"text-align: right;\">\n",
       "      <th></th>\n",
       "      <th>model</th>\n",
       "      <th>validation</th>\n",
       "      <th>test</th>\n",
       "    </tr>\n",
       "  </thead>\n",
       "  <tbody>\n",
       "    <tr>\n",
       "      <th>0</th>\n",
       "      <td>gaussiannb</td>\n",
       "      <td>0.647917</td>\n",
       "      <td>0.683333</td>\n",
       "    </tr>\n",
       "    <tr>\n",
       "      <th>1</th>\n",
       "      <td>bernoullinb</td>\n",
       "      <td>0.629167</td>\n",
       "      <td>0.575000</td>\n",
       "    </tr>\n",
       "    <tr>\n",
       "      <th>2</th>\n",
       "      <td>multinomialnb</td>\n",
       "      <td>0.606250</td>\n",
       "      <td>0.650000</td>\n",
       "    </tr>\n",
       "  </tbody>\n",
       "</table>\n",
       "</div>"
      ],
      "text/plain": [
       "           model  validation      test\n",
       "0     gaussiannb    0.647917  0.683333\n",
       "1    bernoullinb    0.629167  0.575000\n",
       "2  multinomialnb    0.606250  0.650000"
      ]
     },
     "execution_count": 35,
     "metadata": {},
     "output_type": "execute_result"
    }
   ],
   "source": [
    "df_bar.loc[2] = ['multinomialnb', scores.mean(), metrics.accuracy_score(y_test, test_predict)]\n",
    "df_bar"
   ]
  },
  {
   "cell_type": "code",
   "execution_count": 50,
   "id": "ae634a4c",
   "metadata": {},
   "outputs": [
    {
     "data": {
      "text/html": [
       "<div>\n",
       "<style scoped>\n",
       "    .dataframe tbody tr th:only-of-type {\n",
       "        vertical-align: middle;\n",
       "    }\n",
       "\n",
       "    .dataframe tbody tr th {\n",
       "        vertical-align: top;\n",
       "    }\n",
       "\n",
       "    .dataframe thead th {\n",
       "        text-align: right;\n",
       "    }\n",
       "</style>\n",
       "<table border=\"1\" class=\"dataframe\">\n",
       "  <thead>\n",
       "    <tr style=\"text-align: right;\">\n",
       "      <th></th>\n",
       "      <th>age</th>\n",
       "      <th>sex</th>\n",
       "      <th>income</th>\n",
       "      <th>married</th>\n",
       "      <th>children</th>\n",
       "      <th>car</th>\n",
       "      <th>save_act</th>\n",
       "      <th>current_act</th>\n",
       "      <th>mortgage</th>\n",
       "      <th>pep</th>\n",
       "      <th>age_cat</th>\n",
       "      <th>income_cat</th>\n",
       "      <th>region_0</th>\n",
       "      <th>region_1</th>\n",
       "      <th>region_2</th>\n",
       "      <th>region_3</th>\n",
       "    </tr>\n",
       "  </thead>\n",
       "  <tbody>\n",
       "    <tr>\n",
       "      <th>0</th>\n",
       "      <td>48</td>\n",
       "      <td>0</td>\n",
       "      <td>17546.0</td>\n",
       "      <td>0</td>\n",
       "      <td>1</td>\n",
       "      <td>0</td>\n",
       "      <td>0</td>\n",
       "      <td>0</td>\n",
       "      <td>0</td>\n",
       "      <td>1</td>\n",
       "      <td>2</td>\n",
       "      <td>0</td>\n",
       "      <td>1</td>\n",
       "      <td>0</td>\n",
       "      <td>0</td>\n",
       "      <td>0</td>\n",
       "    </tr>\n",
       "    <tr>\n",
       "      <th>1</th>\n",
       "      <td>40</td>\n",
       "      <td>1</td>\n",
       "      <td>30085.1</td>\n",
       "      <td>1</td>\n",
       "      <td>3</td>\n",
       "      <td>1</td>\n",
       "      <td>0</td>\n",
       "      <td>1</td>\n",
       "      <td>1</td>\n",
       "      <td>0</td>\n",
       "      <td>2</td>\n",
       "      <td>1</td>\n",
       "      <td>0</td>\n",
       "      <td>0</td>\n",
       "      <td>0</td>\n",
       "      <td>1</td>\n",
       "    </tr>\n",
       "    <tr>\n",
       "      <th>2</th>\n",
       "      <td>51</td>\n",
       "      <td>0</td>\n",
       "      <td>16575.4</td>\n",
       "      <td>1</td>\n",
       "      <td>0</td>\n",
       "      <td>1</td>\n",
       "      <td>1</td>\n",
       "      <td>1</td>\n",
       "      <td>0</td>\n",
       "      <td>0</td>\n",
       "      <td>3</td>\n",
       "      <td>0</td>\n",
       "      <td>1</td>\n",
       "      <td>0</td>\n",
       "      <td>0</td>\n",
       "      <td>0</td>\n",
       "    </tr>\n",
       "    <tr>\n",
       "      <th>3</th>\n",
       "      <td>23</td>\n",
       "      <td>0</td>\n",
       "      <td>20375.4</td>\n",
       "      <td>1</td>\n",
       "      <td>3</td>\n",
       "      <td>0</td>\n",
       "      <td>0</td>\n",
       "      <td>1</td>\n",
       "      <td>0</td>\n",
       "      <td>0</td>\n",
       "      <td>1</td>\n",
       "      <td>0</td>\n",
       "      <td>0</td>\n",
       "      <td>0</td>\n",
       "      <td>0</td>\n",
       "      <td>1</td>\n",
       "    </tr>\n",
       "    <tr>\n",
       "      <th>4</th>\n",
       "      <td>57</td>\n",
       "      <td>0</td>\n",
       "      <td>50576.3</td>\n",
       "      <td>1</td>\n",
       "      <td>0</td>\n",
       "      <td>0</td>\n",
       "      <td>1</td>\n",
       "      <td>0</td>\n",
       "      <td>0</td>\n",
       "      <td>0</td>\n",
       "      <td>3</td>\n",
       "      <td>2</td>\n",
       "      <td>0</td>\n",
       "      <td>1</td>\n",
       "      <td>0</td>\n",
       "      <td>0</td>\n",
       "    </tr>\n",
       "  </tbody>\n",
       "</table>\n",
       "</div>"
      ],
      "text/plain": [
       "   age  sex   income  married  children  car  save_act  current_act  mortgage  \\\n",
       "0   48    0  17546.0        0         1    0         0            0         0   \n",
       "1   40    1  30085.1        1         3    1         0            1         1   \n",
       "2   51    0  16575.4        1         0    1         1            1         0   \n",
       "3   23    0  20375.4        1         3    0         0            1         0   \n",
       "4   57    0  50576.3        1         0    0         1            0         0   \n",
       "\n",
       "   pep age_cat income_cat  region_0  region_1  region_2  region_3  \n",
       "0    1       2          0         1         0         0         0  \n",
       "1    0       2          1         0         0         0         1  \n",
       "2    0       3          0         1         0         0         0  \n",
       "3    0       1          0         0         0         0         1  \n",
       "4    0       3          2         0         1         0         0  "
      ]
     },
     "execution_count": 50,
     "metadata": {},
     "output_type": "execute_result"
    }
   ],
   "source": [
    "df_enc = pd.get_dummies(df_new, prefix = ['region'], columns = ['region'])\n",
    "df_enc.head()"
   ]
  },
  {
   "cell_type": "code",
   "execution_count": 51,
   "id": "4048f3f6",
   "metadata": {},
   "outputs": [],
   "source": [
    "df_bar = pd.DataFrame(columns=['model', 'validation', 'test'])"
   ]
  },
  {
   "cell_type": "code",
   "execution_count": 52,
   "id": "5d33b769",
   "metadata": {},
   "outputs": [],
   "source": [
    "# Indicate the target column\n",
    "target = df_enc['pep']\n",
    "\n",
    "# Indicate the columns that will serve as features\n",
    "features = df_enc.drop(['pep'], axis = 1)\n",
    "\n",
    "# Split data into train and test sets\n",
    "# Split the dataset into training + development set and test set\n",
    "x_train, x_test, y_train, y_test = train_test_split(features, target, test_size = 0.20, random_state = 2)"
   ]
  },
  {
   "cell_type": "code",
   "execution_count": 53,
   "id": "655e1aa0",
   "metadata": {},
   "outputs": [
    {
     "data": {
      "text/plain": [
       "array([0.57291667, 0.65625   , 0.59375   , 0.625     , 0.66666667])"
      ]
     },
     "execution_count": 53,
     "metadata": {},
     "output_type": "execute_result"
    }
   ],
   "source": [
    "# Create a Gaussian Naive Bayes classifier with default parameters\n",
    "gnb = GaussianNB()\n",
    "\n",
    "# Use 10-fold cross validation to perform training and validation on the training set\n",
    "# Parameter scoring = 'accuracy' will compute accuracy\n",
    "scores = cross_val_score(gnb, x_train, y_train, cv = 5, scoring = 'accuracy')\n",
    "\n",
    "# Display the array containing accuracy from 10 folds or iterations\n",
    "scores"
   ]
  },
  {
   "cell_type": "code",
   "execution_count": 54,
   "id": "37470b3f",
   "metadata": {},
   "outputs": [
    {
     "name": "stdout",
     "output_type": "stream",
     "text": [
      "Accuracy = 0.6229166666666666\n"
     ]
    }
   ],
   "source": [
    "# Print the mean accuracy score\n",
    "print('Accuracy =', scores.mean())"
   ]
  },
  {
   "cell_type": "code",
   "execution_count": 55,
   "id": "fd3f73b6",
   "metadata": {},
   "outputs": [
    {
     "name": "stdout",
     "output_type": "stream",
     "text": [
      "Accuracy (Test):  0.675\n"
     ]
    },
    {
     "data": {
      "text/html": [
       "<div>\n",
       "<style scoped>\n",
       "    .dataframe tbody tr th:only-of-type {\n",
       "        vertical-align: middle;\n",
       "    }\n",
       "\n",
       "    .dataframe tbody tr th {\n",
       "        vertical-align: top;\n",
       "    }\n",
       "\n",
       "    .dataframe thead th {\n",
       "        text-align: right;\n",
       "    }\n",
       "</style>\n",
       "<table border=\"1\" class=\"dataframe\">\n",
       "  <thead>\n",
       "    <tr style=\"text-align: right;\">\n",
       "      <th></th>\n",
       "      <th>model</th>\n",
       "      <th>validation</th>\n",
       "      <th>test</th>\n",
       "    </tr>\n",
       "  </thead>\n",
       "  <tbody>\n",
       "    <tr>\n",
       "      <th>0</th>\n",
       "      <td>gaussiannb</td>\n",
       "      <td>0.622917</td>\n",
       "      <td>0.675</td>\n",
       "    </tr>\n",
       "  </tbody>\n",
       "</table>\n",
       "</div>"
      ],
      "text/plain": [
       "        model  validation   test\n",
       "0  gaussiannb    0.622917  0.675"
      ]
     },
     "execution_count": 55,
     "metadata": {},
     "output_type": "execute_result"
    }
   ],
   "source": [
    "# Import scikit-learn metrics module for accuracy calculation\n",
    "from sklearn import metrics# Running prediction\n",
    "\n",
    "gnb.fit(x_train, y_train)\n",
    "# Predict the target for the test dataset\n",
    "test_predict = gnb.predict(x_test)\n",
    "# Compute the model accuracy on the development set: How often is the classifier correct?\n",
    "print(\"Accuracy (Test): \", metrics.accuracy_score(y_test, test_predict))\n",
    "\n",
    "df_bar.loc[0] = ['gaussiannb', scores.mean(), metrics.accuracy_score(y_test, test_predict)]\n",
    "df_bar"
   ]
  },
  {
   "cell_type": "code",
   "execution_count": 58,
   "id": "96e1aa4d",
   "metadata": {},
   "outputs": [
    {
     "data": {
      "text/plain": [
       "array([0.61458333, 0.625     , 0.63541667, 0.65625   , 0.65625   ])"
      ]
     },
     "execution_count": 58,
     "metadata": {},
     "output_type": "execute_result"
    }
   ],
   "source": [
    "# Create a Bernoulli Naive Bayes classifier with default parameters\n",
    "bnb = BernoulliNB()\n",
    "# Use 10-fold cross validation to perform training and validation on the training set\n",
    "scores = cross_val_score(bnb, x_train, y_train, cv = 5, scoring = 'accuracy')\n",
    "# Display the array containing accuracy from 10 folds or iterations\n",
    "scores"
   ]
  },
  {
   "cell_type": "code",
   "execution_count": 59,
   "id": "390bbb9e",
   "metadata": {},
   "outputs": [
    {
     "name": "stdout",
     "output_type": "stream",
     "text": [
      "Accuracy = 0.6375\n"
     ]
    }
   ],
   "source": [
    "# Print the mean accuracy score\n",
    "print('Accuracy =', scores.mean())"
   ]
  },
  {
   "cell_type": "code",
   "execution_count": 60,
   "id": "1169fc86",
   "metadata": {},
   "outputs": [
    {
     "name": "stdout",
     "output_type": "stream",
     "text": [
      "Accuracy (Test):  0.5666666666666667\n"
     ]
    }
   ],
   "source": [
    "# Running prediction\n",
    "bnb.fit(x_train, y_train)\n",
    "# Predict the target for the test dataset\n",
    "test_predict = bnb.predict(x_test)\n",
    "# Compute the model accuracy on the development set: How often is the classifier correct?\n",
    "print(\"Accuracy (Test): \", metrics.accuracy_score(y_test, test_predict))"
   ]
  },
  {
   "cell_type": "code",
   "execution_count": 61,
   "id": "dd3433e6",
   "metadata": {},
   "outputs": [
    {
     "data": {
      "text/html": [
       "<div>\n",
       "<style scoped>\n",
       "    .dataframe tbody tr th:only-of-type {\n",
       "        vertical-align: middle;\n",
       "    }\n",
       "\n",
       "    .dataframe tbody tr th {\n",
       "        vertical-align: top;\n",
       "    }\n",
       "\n",
       "    .dataframe thead th {\n",
       "        text-align: right;\n",
       "    }\n",
       "</style>\n",
       "<table border=\"1\" class=\"dataframe\">\n",
       "  <thead>\n",
       "    <tr style=\"text-align: right;\">\n",
       "      <th></th>\n",
       "      <th>model</th>\n",
       "      <th>validation</th>\n",
       "      <th>test</th>\n",
       "    </tr>\n",
       "  </thead>\n",
       "  <tbody>\n",
       "    <tr>\n",
       "      <th>0</th>\n",
       "      <td>gaussiannb</td>\n",
       "      <td>0.622917</td>\n",
       "      <td>0.675000</td>\n",
       "    </tr>\n",
       "    <tr>\n",
       "      <th>1</th>\n",
       "      <td>bernoullinb</td>\n",
       "      <td>0.637500</td>\n",
       "      <td>0.566667</td>\n",
       "    </tr>\n",
       "  </tbody>\n",
       "</table>\n",
       "</div>"
      ],
      "text/plain": [
       "         model  validation      test\n",
       "0   gaussiannb    0.622917  0.675000\n",
       "1  bernoullinb    0.637500  0.566667"
      ]
     },
     "execution_count": 61,
     "metadata": {},
     "output_type": "execute_result"
    }
   ],
   "source": [
    "df_bar.loc[1] = ['bernoullinb', scores.mean(), metrics.accuracy_score(y_test, test_predict)]\n",
    "df_bar"
   ]
  },
  {
   "cell_type": "code",
   "execution_count": 62,
   "id": "c2f04a08",
   "metadata": {},
   "outputs": [
    {
     "data": {
      "text/plain": [
       "array([0.58333333, 0.58333333, 0.64583333, 0.5625    , 0.5625    ,\n",
       "       0.58333333, 0.4375    , 0.70833333, 0.5625    , 0.625     ])"
      ]
     },
     "execution_count": 62,
     "metadata": {},
     "output_type": "execute_result"
    }
   ],
   "source": [
    "# Import the Multinomial Naive Bayes classifier\n",
    "from sklearn.naive_bayes import MultinomialNB\n",
    "# Create a Multinomial Naive Bayes classifier with default parameters\n",
    "mnb = MultinomialNB()\n",
    "# Use 10-fold cross validation to perform training and validation on the training set\n",
    "scores = cross_val_score(mnb, x_train, y_train, cv = 5, scoring = 'accuracy')\n",
    "# Display the array containing accuracy from 10 folds or iterations\n",
    "scores"
   ]
  },
  {
   "cell_type": "code",
   "execution_count": 63,
   "id": "73fee9a8",
   "metadata": {},
   "outputs": [
    {
     "name": "stdout",
     "output_type": "stream",
     "text": [
      "Accuracy = 0.5854166666666667\n"
     ]
    }
   ],
   "source": [
    "# Print the mean accuracy score\n",
    "print('Accuracy =', scores.mean())"
   ]
  },
  {
   "cell_type": "code",
   "execution_count": 64,
   "id": "cc9b77c4",
   "metadata": {},
   "outputs": [
    {
     "name": "stdout",
     "output_type": "stream",
     "text": [
      "Accuracy (Test):  0.6166666666666667\n"
     ]
    }
   ],
   "source": [
    "# Running prediction\n",
    "mnb.fit(x_train, y_train)\n",
    "# Predict the target for the test dataset\n",
    "test_predict = mnb.predict(x_test)\n",
    "# Compute the model accuracy on the development set: How often is the classifier correct?\n",
    "print(\"Accuracy (Test): \", metrics.accuracy_score(y_test, test_predict))"
   ]
  },
  {
   "cell_type": "code",
   "execution_count": 65,
   "id": "b2bb090f",
   "metadata": {},
   "outputs": [
    {
     "data": {
      "text/html": [
       "<div>\n",
       "<style scoped>\n",
       "    .dataframe tbody tr th:only-of-type {\n",
       "        vertical-align: middle;\n",
       "    }\n",
       "\n",
       "    .dataframe tbody tr th {\n",
       "        vertical-align: top;\n",
       "    }\n",
       "\n",
       "    .dataframe thead th {\n",
       "        text-align: right;\n",
       "    }\n",
       "</style>\n",
       "<table border=\"1\" class=\"dataframe\">\n",
       "  <thead>\n",
       "    <tr style=\"text-align: right;\">\n",
       "      <th></th>\n",
       "      <th>model</th>\n",
       "      <th>validation</th>\n",
       "      <th>test</th>\n",
       "    </tr>\n",
       "  </thead>\n",
       "  <tbody>\n",
       "    <tr>\n",
       "      <th>0</th>\n",
       "      <td>gaussiannb</td>\n",
       "      <td>0.622917</td>\n",
       "      <td>0.675000</td>\n",
       "    </tr>\n",
       "    <tr>\n",
       "      <th>1</th>\n",
       "      <td>bernoullinb</td>\n",
       "      <td>0.637500</td>\n",
       "      <td>0.566667</td>\n",
       "    </tr>\n",
       "    <tr>\n",
       "      <th>2</th>\n",
       "      <td>multinomialnb</td>\n",
       "      <td>0.585417</td>\n",
       "      <td>0.616667</td>\n",
       "    </tr>\n",
       "  </tbody>\n",
       "</table>\n",
       "</div>"
      ],
      "text/plain": [
       "           model  validation      test\n",
       "0     gaussiannb    0.622917  0.675000\n",
       "1    bernoullinb    0.637500  0.566667\n",
       "2  multinomialnb    0.585417  0.616667"
      ]
     },
     "execution_count": 65,
     "metadata": {},
     "output_type": "execute_result"
    }
   ],
   "source": [
    "df_bar.loc[2] = ['multinomialnb', scores.mean(), metrics.accuracy_score(y_test, test_predict)]\n",
    "df_bar"
   ]
  },
  {
   "cell_type": "code",
   "execution_count": null,
   "id": "e618c800",
   "metadata": {},
   "outputs": [],
   "source": []
  }
 ],
 "metadata": {
  "kernelspec": {
   "display_name": "Python 3 (ipykernel)",
   "language": "python",
   "name": "python3"
  },
  "language_info": {
   "codemirror_mode": {
    "name": "ipython",
    "version": 3
   },
   "file_extension": ".py",
   "mimetype": "text/x-python",
   "name": "python",
   "nbconvert_exporter": "python",
   "pygments_lexer": "ipython3",
   "version": "3.9.16"
  }
 },
 "nbformat": 4,
 "nbformat_minor": 5
}
