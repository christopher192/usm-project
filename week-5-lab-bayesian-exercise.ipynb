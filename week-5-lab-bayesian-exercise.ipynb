{
 "cells": [
  {
   "cell_type": "code",
   "execution_count": 79,
   "id": "791c63dc",
   "metadata": {},
   "outputs": [],
   "source": [
    "# Import library\n",
    "import pandas as pd\n",
    "import matplotlib.pyplot as plt\n",
    "import seaborn as sns"
   ]
  },
  {
   "cell_type": "code",
   "execution_count": 80,
   "id": "e45b00d9",
   "metadata": {
    "scrolled": true
   },
   "outputs": [],
   "source": [
    "# Read csv data file\n",
    "# Data without feature standardization\n",
    "df = pd.read_csv('data/bankdata.csv')"
   ]
  },
  {
   "cell_type": "code",
   "execution_count": 81,
   "id": "4fe4c9ec",
   "metadata": {},
   "outputs": [
    {
     "data": {
      "text/html": [
       "<div>\n",
       "<style scoped>\n",
       "    .dataframe tbody tr th:only-of-type {\n",
       "        vertical-align: middle;\n",
       "    }\n",
       "\n",
       "    .dataframe tbody tr th {\n",
       "        vertical-align: top;\n",
       "    }\n",
       "\n",
       "    .dataframe thead th {\n",
       "        text-align: right;\n",
       "    }\n",
       "</style>\n",
       "<table border=\"1\" class=\"dataframe\">\n",
       "  <thead>\n",
       "    <tr style=\"text-align: right;\">\n",
       "      <th></th>\n",
       "      <th>age</th>\n",
       "      <th>sex</th>\n",
       "      <th>region</th>\n",
       "      <th>income</th>\n",
       "      <th>married</th>\n",
       "      <th>children</th>\n",
       "      <th>car</th>\n",
       "      <th>save_act</th>\n",
       "      <th>current_act</th>\n",
       "      <th>mortgage</th>\n",
       "      <th>pep</th>\n",
       "    </tr>\n",
       "  </thead>\n",
       "  <tbody>\n",
       "    <tr>\n",
       "      <th>0</th>\n",
       "      <td>48</td>\n",
       "      <td>0</td>\n",
       "      <td>1</td>\n",
       "      <td>17546.00</td>\n",
       "      <td>0</td>\n",
       "      <td>1</td>\n",
       "      <td>0</td>\n",
       "      <td>0</td>\n",
       "      <td>0</td>\n",
       "      <td>0</td>\n",
       "      <td>1</td>\n",
       "    </tr>\n",
       "    <tr>\n",
       "      <th>1</th>\n",
       "      <td>40</td>\n",
       "      <td>1</td>\n",
       "      <td>0</td>\n",
       "      <td>30085.10</td>\n",
       "      <td>1</td>\n",
       "      <td>3</td>\n",
       "      <td>1</td>\n",
       "      <td>0</td>\n",
       "      <td>1</td>\n",
       "      <td>1</td>\n",
       "      <td>0</td>\n",
       "    </tr>\n",
       "    <tr>\n",
       "      <th>2</th>\n",
       "      <td>51</td>\n",
       "      <td>0</td>\n",
       "      <td>0</td>\n",
       "      <td>16575.40</td>\n",
       "      <td>1</td>\n",
       "      <td>0</td>\n",
       "      <td>1</td>\n",
       "      <td>1</td>\n",
       "      <td>1</td>\n",
       "      <td>0</td>\n",
       "      <td>0</td>\n",
       "    </tr>\n",
       "    <tr>\n",
       "      <th>3</th>\n",
       "      <td>23</td>\n",
       "      <td>0</td>\n",
       "      <td>0</td>\n",
       "      <td>20375.40</td>\n",
       "      <td>1</td>\n",
       "      <td>3</td>\n",
       "      <td>0</td>\n",
       "      <td>0</td>\n",
       "      <td>1</td>\n",
       "      <td>0</td>\n",
       "      <td>0</td>\n",
       "    </tr>\n",
       "    <tr>\n",
       "      <th>4</th>\n",
       "      <td>57</td>\n",
       "      <td>0</td>\n",
       "      <td>0</td>\n",
       "      <td>50576.30</td>\n",
       "      <td>1</td>\n",
       "      <td>0</td>\n",
       "      <td>0</td>\n",
       "      <td>1</td>\n",
       "      <td>0</td>\n",
       "      <td>0</td>\n",
       "      <td>0</td>\n",
       "    </tr>\n",
       "    <tr>\n",
       "      <th>...</th>\n",
       "      <td>...</td>\n",
       "      <td>...</td>\n",
       "      <td>...</td>\n",
       "      <td>...</td>\n",
       "      <td>...</td>\n",
       "      <td>...</td>\n",
       "      <td>...</td>\n",
       "      <td>...</td>\n",
       "      <td>...</td>\n",
       "      <td>...</td>\n",
       "      <td>...</td>\n",
       "    </tr>\n",
       "    <tr>\n",
       "      <th>595</th>\n",
       "      <td>61</td>\n",
       "      <td>0</td>\n",
       "      <td>0</td>\n",
       "      <td>47025.00</td>\n",
       "      <td>0</td>\n",
       "      <td>2</td>\n",
       "      <td>1</td>\n",
       "      <td>1</td>\n",
       "      <td>1</td>\n",
       "      <td>1</td>\n",
       "      <td>0</td>\n",
       "    </tr>\n",
       "    <tr>\n",
       "      <th>596</th>\n",
       "      <td>30</td>\n",
       "      <td>0</td>\n",
       "      <td>0</td>\n",
       "      <td>9672.25</td>\n",
       "      <td>1</td>\n",
       "      <td>0</td>\n",
       "      <td>1</td>\n",
       "      <td>1</td>\n",
       "      <td>1</td>\n",
       "      <td>0</td>\n",
       "      <td>0</td>\n",
       "    </tr>\n",
       "    <tr>\n",
       "      <th>597</th>\n",
       "      <td>31</td>\n",
       "      <td>0</td>\n",
       "      <td>1</td>\n",
       "      <td>15976.30</td>\n",
       "      <td>1</td>\n",
       "      <td>0</td>\n",
       "      <td>1</td>\n",
       "      <td>1</td>\n",
       "      <td>0</td>\n",
       "      <td>0</td>\n",
       "      <td>1</td>\n",
       "    </tr>\n",
       "    <tr>\n",
       "      <th>598</th>\n",
       "      <td>29</td>\n",
       "      <td>1</td>\n",
       "      <td>0</td>\n",
       "      <td>14711.80</td>\n",
       "      <td>1</td>\n",
       "      <td>0</td>\n",
       "      <td>0</td>\n",
       "      <td>1</td>\n",
       "      <td>0</td>\n",
       "      <td>1</td>\n",
       "      <td>0</td>\n",
       "    </tr>\n",
       "    <tr>\n",
       "      <th>599</th>\n",
       "      <td>38</td>\n",
       "      <td>1</td>\n",
       "      <td>1</td>\n",
       "      <td>26671.60</td>\n",
       "      <td>0</td>\n",
       "      <td>0</td>\n",
       "      <td>1</td>\n",
       "      <td>0</td>\n",
       "      <td>1</td>\n",
       "      <td>1</td>\n",
       "      <td>1</td>\n",
       "    </tr>\n",
       "  </tbody>\n",
       "</table>\n",
       "<p>600 rows × 11 columns</p>\n",
       "</div>"
      ],
      "text/plain": [
       "     age  sex  region    income  married  children  car  save_act   \n",
       "0     48    0       1  17546.00        0         1    0         0  \\\n",
       "1     40    1       0  30085.10        1         3    1         0   \n",
       "2     51    0       0  16575.40        1         0    1         1   \n",
       "3     23    0       0  20375.40        1         3    0         0   \n",
       "4     57    0       0  50576.30        1         0    0         1   \n",
       "..   ...  ...     ...       ...      ...       ...  ...       ...   \n",
       "595   61    0       0  47025.00        0         2    1         1   \n",
       "596   30    0       0   9672.25        1         0    1         1   \n",
       "597   31    0       1  15976.30        1         0    1         1   \n",
       "598   29    1       0  14711.80        1         0    0         1   \n",
       "599   38    1       1  26671.60        0         0    1         0   \n",
       "\n",
       "     current_act  mortgage  pep  \n",
       "0              0         0    1  \n",
       "1              1         1    0  \n",
       "2              1         0    0  \n",
       "3              1         0    0  \n",
       "4              0         0    0  \n",
       "..           ...       ...  ...  \n",
       "595            1         1    0  \n",
       "596            1         0    0  \n",
       "597            0         0    1  \n",
       "598            0         1    0  \n",
       "599            1         1    1  \n",
       "\n",
       "[600 rows x 11 columns]"
      ]
     },
     "execution_count": 81,
     "metadata": {},
     "output_type": "execute_result"
    }
   ],
   "source": [
    "from sklearn import preprocessing\n",
    "\n",
    "le = preprocessing.LabelEncoder()\n",
    "\n",
    "df['sex'] = le.fit_transform(df['sex'])\n",
    "df['married'] = le.fit_transform(df['married'])\n",
    "df['car'] = le.fit_transform(df['car'])\n",
    "df['save_act'] = le.fit_transform(df['save_act'])\n",
    "df['current_act'] = le.fit_transform(df['current_act'])\n",
    "df['mortgage'] = le.fit_transform(df['mortgage'])\n",
    "df['pep'] = le.fit_transform(df['pep'])\n",
    "df['region'] = le.fit_transform(df['pep'])\n",
    "\n",
    "df = df.drop(columns = ['id'])\n",
    "\n",
    "df"
   ]
  },
  {
   "cell_type": "code",
   "execution_count": 82,
   "id": "7b4f5437",
   "metadata": {},
   "outputs": [],
   "source": [
    "# sns.heatmap(df.corr(numeric_only = True), annot = True)\n",
    "# plt.show()"
   ]
  },
  {
   "cell_type": "code",
   "execution_count": 83,
   "id": "5af24fa2",
   "metadata": {},
   "outputs": [],
   "source": [
    "# df['pep'] = df['pep'].astype(str)\n",
    "# df['sex'] = df['sex'].astype(str)\n",
    "# df['region'] = df['region'].astype(str)\n",
    "# df['married'] = df['married'].astype(str)"
   ]
  },
  {
   "cell_type": "code",
   "execution_count": 84,
   "id": "5b35f0c6",
   "metadata": {},
   "outputs": [],
   "source": [
    "from sklearn.model_selection import train_test_split\n",
    "\n",
    "# Indicate the target column\n",
    "target = df['pep']\n",
    "\n",
    "# Indicate the columns that will serve as features\n",
    "features = df.drop(['pep'], axis = 1)\n",
    "\n",
    "# Split data into train and test sets\n",
    "# Split the dataset into training + development set and test set\n",
    "x_train, x_test, y_train, y_test = train_test_split(features, target, test_size = 0.20, random_state = 2)"
   ]
  },
  {
   "cell_type": "code",
   "execution_count": 85,
   "id": "412d0ae5",
   "metadata": {},
   "outputs": [
    {
     "data": {
      "text/plain": [
       "array([1., 1., 1., 1., 1.])"
      ]
     },
     "execution_count": 85,
     "metadata": {},
     "output_type": "execute_result"
    }
   ],
   "source": [
    "# Import function for k-fold cross validation\n",
    "from sklearn.model_selection import cross_val_score\n",
    "\n",
    "# Import the Gaussian Naive Bayes classifier\n",
    "from sklearn.naive_bayes import GaussianNB\n",
    "\n",
    "# Create a Gaussian Naive Bayes classifier with default parameters\n",
    "gnb = GaussianNB()\n",
    "\n",
    "# Use 10-fold cross validation to perform training and validation on the training set\n",
    "# Parameter scoring = 'accuracy' will compute accuracy\n",
    "scores = cross_val_score(gnb, x_train, y_train, cv = 5, scoring = 'accuracy')\n",
    "\n",
    "# Display the array containing accuracy from 10 folds or iterations\n",
    "scores"
   ]
  },
  {
   "cell_type": "code",
   "execution_count": 86,
   "id": "bdf7b8ea",
   "metadata": {},
   "outputs": [
    {
     "name": "stdout",
     "output_type": "stream",
     "text": [
      "Accuracy = 1.0\n"
     ]
    }
   ],
   "source": [
    "# Print the mean accuracy score\n",
    "print('Accuracy =', scores.mean())"
   ]
  },
  {
   "cell_type": "code",
   "execution_count": 87,
   "id": "67d16dcd",
   "metadata": {},
   "outputs": [
    {
     "name": "stdout",
     "output_type": "stream",
     "text": [
      "Accuracy (Test):  1.0\n"
     ]
    }
   ],
   "source": [
    "# Running prediction\n",
    "gnb.fit(x_train, y_train)\n",
    "# Predict the target for the test dataset\n",
    "test_predict = gnb.predict(x_test)\n",
    "# Compute the model accuracy on the development set: How often is the classifier correct?\n",
    "print(\"Accuracy (Test): \", metrics.accuracy_score(y_test, test_predict))"
   ]
  },
  {
   "cell_type": "code",
   "execution_count": 88,
   "id": "d1c94b81",
   "metadata": {},
   "outputs": [
    {
     "data": {
      "text/plain": [
       "array([1., 1., 1., 1., 1.])"
      ]
     },
     "execution_count": 88,
     "metadata": {},
     "output_type": "execute_result"
    }
   ],
   "source": [
    "# Import the Bernoulli Naive Bayes classifier\n",
    "from sklearn.naive_bayes import BernoulliNB\n",
    "# Create a Bernoulli Naive Bayes classifier with default parameters\n",
    "bnb = BernoulliNB(binarize = 0.0)\n",
    "# Use 10-fold cross validation to perform training and validation on the training set\n",
    "scores = cross_val_score(bnb, x_train, y_train, cv = 5, scoring = 'accuracy')\n",
    "# Display the array containing accuracy from 10 folds or iterations\n",
    "scores"
   ]
  },
  {
   "cell_type": "code",
   "execution_count": 89,
   "id": "2edd388f",
   "metadata": {},
   "outputs": [
    {
     "name": "stdout",
     "output_type": "stream",
     "text": [
      "Accuracy = 1.0\n"
     ]
    }
   ],
   "source": [
    "# Print the mean accuracy score\n",
    "print('Accuracy =', scores.mean())"
   ]
  },
  {
   "cell_type": "code",
   "execution_count": 90,
   "id": "74390977",
   "metadata": {},
   "outputs": [
    {
     "name": "stdout",
     "output_type": "stream",
     "text": [
      "Accuracy (Test):  1.0\n"
     ]
    }
   ],
   "source": [
    "# Running prediction\n",
    "bnb.fit(x_train, y_train)\n",
    "# Predict the target for the test dataset\n",
    "test_predict = bnb.predict(x_test)\n",
    "# Compute the model accuracy on the development set: How often is the classifier correct?\n",
    "print(\"Accuracy (Test): \", metrics.accuracy_score(y_test, test_predict))"
   ]
  },
  {
   "cell_type": "code",
   "execution_count": 91,
   "id": "3506cd19",
   "metadata": {},
   "outputs": [
    {
     "data": {
      "text/plain": [
       "array([0.89583333, 0.9375    , 0.875     , 0.91666667, 0.9375    ,\n",
       "       0.97916667, 0.91666667, 0.97916667, 0.85416667, 1.        ])"
      ]
     },
     "execution_count": 91,
     "metadata": {},
     "output_type": "execute_result"
    }
   ],
   "source": [
    "# Import the Multinomial Naive Bayes classifier\n",
    "from sklearn.naive_bayes import MultinomialNB\n",
    "# Create a Multinomial Naive Bayes classifier with default parameters\n",
    "mnb = MultinomialNB()\n",
    "# Use 10-fold cross validation to perform training and validation on the training set\n",
    "scores = cross_val_score(mnb, x_train, y_train, cv = 10, scoring = 'accuracy')\n",
    "# Display the array containing accuracy from 10 folds or iterations\n",
    "scores"
   ]
  },
  {
   "cell_type": "code",
   "execution_count": 92,
   "id": "e5499b3e",
   "metadata": {},
   "outputs": [
    {
     "name": "stdout",
     "output_type": "stream",
     "text": [
      "Accuracy = 0.9291666666666666\n"
     ]
    }
   ],
   "source": [
    "# Print the mean accuracy score\n",
    "print('Accuracy =', scores.mean())"
   ]
  },
  {
   "cell_type": "code",
   "execution_count": 93,
   "id": "e07018ac",
   "metadata": {},
   "outputs": [
    {
     "name": "stdout",
     "output_type": "stream",
     "text": [
      "Accuracy (Test):  0.95\n"
     ]
    }
   ],
   "source": [
    "# Running prediction\n",
    "mnb.fit(x_train, y_train)\n",
    "# Predict the target for the test dataset\n",
    "test_predict = mnb.predict(x_test)\n",
    "# Compute the model accuracy on the development set: How often is the classifier correct?\n",
    "print(\"Accuracy (Test): \", metrics.accuracy_score(y_test, test_predict))"
   ]
  }
 ],
 "metadata": {
  "kernelspec": {
   "display_name": "Python 3 (ipykernel)",
   "language": "python",
   "name": "python3"
  },
  "language_info": {
   "codemirror_mode": {
    "name": "ipython",
    "version": 3
   },
   "file_extension": ".py",
   "mimetype": "text/x-python",
   "name": "python",
   "nbconvert_exporter": "python",
   "pygments_lexer": "ipython3",
   "version": "3.9.16"
  }
 },
 "nbformat": 4,
 "nbformat_minor": 5
}
